{
  "nbformat": 4,
  "nbformat_minor": 0,
  "metadata": {
    "colab": {
      "provenance": [],
      "mount_file_id": "https://github.com/jeniferGoncalvesDaSilvaDev/7daysofcode-ds-alura2/blob/main/desafio_7daysofcode_ds_alura.ipynb",
      "authorship_tag": "ABX9TyNwt1/99APqb8crSgPvxthO",
      "include_colab_link": true
    },
    "kernelspec": {
      "name": "python3",
      "display_name": "Python 3"
    },
    "language_info": {
      "name": "python"
    }
  },
  "cells": [
    {
      "cell_type": "markdown",
      "metadata": {
        "id": "view-in-github",
        "colab_type": "text"
      },
      "source": [
        "<a href=\"https://colab.research.google.com/github/jeniferGoncalvesDaSilvaDev/7daysofcode-ds-alura2/blob/main/desafio_7daysofcode_ds_alura.ipynb\" target=\"_parent\"><img src=\"https://colab.research.google.com/assets/colab-badge.svg\" alt=\"Open In Colab\"/></a>"
      ]
    },
    {
      "cell_type": "code",
      "execution_count": 71,
      "metadata": {
        "id": "Cm2Jlji_yNtu"
      },
      "outputs": [],
      "source": [
        "import pandas as pd"
      ]
    },
    {
      "cell_type": "code",
      "source": [
        "\n",
        "\n",
        "# Lista de arquivos CSV\n",
        "lista_csv = [\"/content/drive/MyDrive/csv/despesa_ceaps_2022.csv\",\n",
        "             \"/content/drive/MyDrive/csv/despesa_ceaps_2021.csv\",\n",
        "             \"/content/drive/MyDrive/csv/despesa_ceaps_2020.csv\"]\n",
        "\n",
        "# Função para gerar DataFrames a partir de arquivos CSV\n",
        "def gerar_ds(lista_arquivos):\n",
        "    lista_ds = []\n",
        "    for arquivo in lista_arquivos:\n",
        "        try:\n",
        "            df = pd.read_csv(arquivo, encoding=\"latin-1\", sep=';', on_bad_lines='skip')\n",
        "            lista_ds.append(df)\n",
        "        except Exception as e:\n",
        "            print(f\"Erro ao carregar o arquivo {arquivo}: {e}\")\n",
        "    return lista_ds\n",
        "\n",
        "# Gerar a lista de DataFrames\n",
        "gerar_data = gerar_ds(lista_csv)\n",
        "\n",
        "# Concatenar todos os DataFrames em um único DataFrame\n",
        "df_unico = pd.concat(gerar_data, ignore_index=False)\n",
        "\n",
        "# Exibir os primeiros registros do DataFrame concatenado\n",
        "print(df_unico.head(4))"
      ],
      "metadata": {
        "colab": {
          "base_uri": "https://localhost:8080/"
        },
        "id": "ercI_csU1SgS",
        "outputId": "2c31c019-597d-4e1c-ab44-b1fa950336e8"
      },
      "execution_count": 72,
      "outputs": [
        {
          "output_type": "stream",
          "name": "stdout",
          "text": [
            "                                                                                                                                                                                                            ULTIMA ATUALIZACAO  \\\n",
            "ANO  MES SENADOR      TIPO_DESPESA                                       CNPJ_CPF           FORNECEDOR                      DOCUMENTO         DATA       DETALHAMENTO                                        VALOR_REEMBOLSADO   \n",
            "2022 1   ACIR GURGACZ Aluguel de imóveis para escritório político, co... 004.948.028-63     GILBERTO PISELO DO NASCIMENTO   001/22            03/01/2022 Despesa com pagamento de aluguel de imóvel para...               6000   \n",
            "                      Divulgação da atividade parlamentar                26.320.603/0001-64 INFORMANAHORA                   000000000000310/A 04/01/2022 Despesa com divulgação da atividade parlamentar...               1500   \n",
            "                                                                         13.659.201/0001-47 LINHA PURPURA FOTO E VIDEO LTDA 107               14/01/2022 Despesa com produção de texto e edição de vídeo...               6000   \n",
            "\n",
            "                                                                                                                                                                                                            22/09/2024 02:01  \\\n",
            "ANO  MES SENADOR      TIPO_DESPESA                                       CNPJ_CPF           FORNECEDOR                      DOCUMENTO         DATA       DETALHAMENTO                                          COD_DOCUMENTO   \n",
            "2022 1   ACIR GURGACZ Aluguel de imóveis para escritório político, co... 004.948.028-63     GILBERTO PISELO DO NASCIMENTO   001/22            03/01/2022 Despesa com pagamento de aluguel de imóvel para...          2173614   \n",
            "                      Divulgação da atividade parlamentar                26.320.603/0001-64 INFORMANAHORA                   000000000000310/A 04/01/2022 Despesa com divulgação da atividade parlamentar...          2173615   \n",
            "                                                                         13.659.201/0001-47 LINHA PURPURA FOTO E VIDEO LTDA 107               14/01/2022 Despesa com produção de texto e edição de vídeo...          2173616   \n",
            "\n",
            "                                                                                                                                                                                                            23/09/2024 02:00  \n",
            "ANO  MES SENADOR      TIPO_DESPESA                                       CNPJ_CPF           FORNECEDOR                      DOCUMENTO         DATA       DETALHAMENTO                                                    NaN  \n",
            "2022 1   ACIR GURGACZ Aluguel de imóveis para escritório político, co... 004.948.028-63     GILBERTO PISELO DO NASCIMENTO   001/22            03/01/2022 Despesa com pagamento de aluguel de imóvel para...              NaN  \n",
            "                      Divulgação da atividade parlamentar                26.320.603/0001-64 INFORMANAHORA                   000000000000310/A 04/01/2022 Despesa com divulgação da atividade parlamentar...              NaN  \n",
            "                                                                         13.659.201/0001-47 LINHA PURPURA FOTO E VIDEO LTDA 107               14/01/2022 Despesa com produção de texto e edição de vídeo...              NaN  \n"
          ]
        }
      ]
    },
    {
      "cell_type": "code",
      "source": [
        "df_unico.columns"
      ],
      "metadata": {
        "colab": {
          "base_uri": "https://localhost:8080/"
        },
        "id": "hasu-t5T1kQq",
        "outputId": "175773a8-99e6-457e-cdc8-56ad4fd21b90"
      },
      "execution_count": 73,
      "outputs": [
        {
          "output_type": "execute_result",
          "data": {
            "text/plain": [
              "Index(['ULTIMA ATUALIZACAO', '22/09/2024 02:01', '23/09/2024 02:00'], dtype='object')"
            ]
          },
          "metadata": {},
          "execution_count": 73
        }
      ]
    },
    {
      "cell_type": "code",
      "source": [
        "df_limpo = df_unico.drop(columns=['22/09/2024 02:01'])"
      ],
      "metadata": {
        "id": "_IWv7vTLQURy"
      },
      "execution_count": 74,
      "outputs": []
    },
    {
      "cell_type": "code",
      "source": [
        "df_limpo = df_unico.drop(columns=['23/09/2024 02:00'])"
      ],
      "metadata": {
        "id": "0yx__KoSRNMh"
      },
      "execution_count": 75,
      "outputs": []
    },
    {
      "cell_type": "code",
      "source": [
        "df_limpo.columns"
      ],
      "metadata": {
        "id": "-FzvE2dlRTgl",
        "outputId": "68c21bc3-a661-4260-a231-ad270c378b40",
        "colab": {
          "base_uri": "https://localhost:8080/"
        }
      },
      "execution_count": 76,
      "outputs": [
        {
          "output_type": "execute_result",
          "data": {
            "text/plain": [
              "Index(['ULTIMA ATUALIZACAO', '22/09/2024 02:01'], dtype='object')"
            ]
          },
          "metadata": {},
          "execution_count": 76
        }
      ]
    },
    {
      "cell_type": "code",
      "source": [
        "df_limpo = df_unico.drop(columns=['22/09/2024 02:01'])"
      ],
      "metadata": {
        "id": "Zncc2VHsRcSP"
      },
      "execution_count": 77,
      "outputs": []
    },
    {
      "cell_type": "code",
      "source": [
        "df_limpo.columns"
      ],
      "metadata": {
        "id": "QHmhWLRKRg3u",
        "outputId": "4ad95e3f-cfd6-4681-b815-3094d41be95f",
        "colab": {
          "base_uri": "https://localhost:8080/"
        }
      },
      "execution_count": 78,
      "outputs": [
        {
          "output_type": "execute_result",
          "data": {
            "text/plain": [
              "Index(['ULTIMA ATUALIZACAO', '23/09/2024 02:00'], dtype='object')"
            ]
          },
          "metadata": {},
          "execution_count": 78
        }
      ]
    },
    {
      "cell_type": "code",
      "source": [
        "df_limpo = df_unico.drop(columns=['23/09/2024 02:00'])"
      ],
      "metadata": {
        "id": "qvCQM2elRk8n"
      },
      "execution_count": 79,
      "outputs": []
    },
    {
      "cell_type": "code",
      "source": [
        "df_limpo.columns"
      ],
      "metadata": {
        "id": "wWNHfhvyRs4x",
        "outputId": "3a84ff9f-8245-47aa-9b75-d50ed66514fd",
        "colab": {
          "base_uri": "https://localhost:8080/"
        }
      },
      "execution_count": 80,
      "outputs": [
        {
          "output_type": "execute_result",
          "data": {
            "text/plain": [
              "Index(['ULTIMA ATUALIZACAO', '22/09/2024 02:01'], dtype='object')"
            ]
          },
          "metadata": {},
          "execution_count": 80
        }
      ]
    },
    {
      "cell_type": "code",
      "source": [
        "df_novo = pd.DataFrame(df_limpo['ULTIMA ATUALIZACAO'])"
      ],
      "metadata": {
        "id": "VaQO_rJaawXK"
      },
      "execution_count": 81,
      "outputs": []
    },
    {
      "cell_type": "code",
      "source": [
        "df_novo.columns"
      ],
      "metadata": {
        "id": "XAbZfncbGQlv",
        "outputId": "c5ab42bc-d6de-4ebc-fa17-076616a99e7b",
        "colab": {
          "base_uri": "https://localhost:8080/"
        }
      },
      "execution_count": 82,
      "outputs": [
        {
          "output_type": "execute_result",
          "data": {
            "text/plain": [
              "Index(['ULTIMA ATUALIZACAO'], dtype='object')"
            ]
          },
          "metadata": {},
          "execution_count": 82
        }
      ]
    },
    {
      "cell_type": "code",
      "source": [
        "print(df_novo)"
      ],
      "metadata": {
        "id": "EixKN7pphNHL",
        "outputId": "461ba46d-294b-4d71-c740-e71334b77626",
        "colab": {
          "base_uri": "https://localhost:8080/"
        }
      },
      "execution_count": 83,
      "outputs": [
        {
          "output_type": "stream",
          "name": "stdout",
          "text": [
            "                                                                                                                                                                                                                  ULTIMA ATUALIZACAO\n",
            "ANO  MES SENADOR          TIPO_DESPESA                                       CNPJ_CPF           FORNECEDOR                        DOCUMENTO         DATA       DETALHAMENTO                                        VALOR_REEMBOLSADO\n",
            "2022 1   ACIR GURGACZ     Aluguel de imóveis para escritório político, co... 004.948.028-63     GILBERTO PISELO DO NASCIMENTO     001/22            03/01/2022 Despesa com pagamento de aluguel de imóvel para...               6000\n",
            "                          Divulgação da atividade parlamentar                26.320.603/0001-64 INFORMANAHORA                     000000000000310/A 04/01/2022 Despesa com divulgação da atividade parlamentar...               1500\n",
            "                                                                             13.659.201/0001-47 LINHA PURPURA FOTO E VIDEO LTDA   107               14/01/2022 Despesa com produção de texto e edição de vídeo...               6000\n",
            "                                                                             23.652.846/0001-01 ROBERTO GUTIERREZ DA ROCHA M.E.I. 187               18/01/2022 Divulgação da atividade parlamentar                              1000\n",
            "...                                                                                                                                                                                                                              ...\n",
            "2020 12  ZEQUINHA MARINHO Passagens aéreas, aquáticas e terrestres nacionais 22.052.777/0001-32 Exceller Tour                     TJ9NGF            08/12/2020 Companhia Aérea: GOL, Localizador: TJ9NGF. Pass...            1654,46\n",
            "                                                                                                                                  QN9KHE            09/12/2020 Companhia Aérea: AZUL, Localizador: QN9KHE. Pas...            1121,83\n",
            "                                                                                                                                  QIGVKT            14/12/2020 Companhia Aérea: AZUL, Localizador: QIGVKT. Pas...             549,47\n",
            "                                                                                                                                  QDHKYF            14/12/2020 Companhia Aérea: AZUL, Localizador: QDHKYF. Pas...             831,05\n",
            "                                                                                                                                  BQWCVK            18/12/2020 Companhia Aérea: GOL, Localizador: BQWCVK. Pass...            2026,12\n",
            "\n",
            "[47725 rows x 1 columns]\n"
          ]
        }
      ]
    },
    {
      "cell_type": "code",
      "source": [
        "df_novo.index"
      ],
      "metadata": {
        "id": "HkO5I-vSiTSX",
        "outputId": "04c1529b-fa98-4211-9c3b-cf786bd80581",
        "colab": {
          "base_uri": "https://localhost:8080/"
        }
      },
      "execution_count": 84,
      "outputs": [
        {
          "output_type": "execute_result",
          "data": {
            "text/plain": [
              "MultiIndex([( 'ANO', 'MES',          'SENADOR', ...),\n",
              "            ('2022',   '1',     'ACIR GURGACZ', ...),\n",
              "            ('2022',   '1',     'ACIR GURGACZ', ...),\n",
              "            ('2022',   '1',     'ACIR GURGACZ', ...),\n",
              "            ('2022',   '1',     'ACIR GURGACZ', ...),\n",
              "            ('2022',   '1',     'ACIR GURGACZ', ...),\n",
              "            ('2022',   '1',     'ACIR GURGACZ', ...),\n",
              "            ('2022',   '2',     'ACIR GURGACZ', ...),\n",
              "            ('2022',   '2',     'ACIR GURGACZ', ...),\n",
              "            ('2022',   '2',     'ACIR GURGACZ', ...),\n",
              "            ...\n",
              "            ('2020',  '12', 'ZEQUINHA MARINHO', ...),\n",
              "            ('2020',  '12', 'ZEQUINHA MARINHO', ...),\n",
              "            ('2020',  '12', 'ZEQUINHA MARINHO', ...),\n",
              "            ('2020',  '12', 'ZEQUINHA MARINHO', ...),\n",
              "            ('2020',  '12', 'ZEQUINHA MARINHO', ...),\n",
              "            ('2020',  '12', 'ZEQUINHA MARINHO', ...),\n",
              "            ('2020',  '12', 'ZEQUINHA MARINHO', ...),\n",
              "            ('2020',  '12', 'ZEQUINHA MARINHO', ...),\n",
              "            ('2020',  '12', 'ZEQUINHA MARINHO', ...),\n",
              "            ('2020',  '12', 'ZEQUINHA MARINHO', ...)],\n",
              "           length=47725)"
            ]
          },
          "metadata": {},
          "execution_count": 84
        }
      ]
    },
    {
      "cell_type": "code",
      "source": [
        "coluna = df_novo.index[0]\n",
        "print(coluna)\n",
        "print(len(coluna))"
      ],
      "metadata": {
        "id": "wF3tUze7G1kF",
        "outputId": "c3c69cfa-5a13-4ebc-e7a1-4853a818a44a",
        "colab": {
          "base_uri": "https://localhost:8080/"
        }
      },
      "execution_count": 85,
      "outputs": [
        {
          "output_type": "stream",
          "name": "stdout",
          "text": [
            "('ANO', 'MES', 'SENADOR', 'TIPO_DESPESA', 'CNPJ_CPF', 'FORNECEDOR', 'DOCUMENTO', 'DATA', 'DETALHAMENTO')\n",
            "9\n"
          ]
        }
      ]
    },
    {
      "cell_type": "code",
      "source": [
        "linhas = df_novo.index[1:]"
      ],
      "metadata": {
        "id": "pk0_EW6E21j1"
      },
      "execution_count": 86,
      "outputs": []
    },
    {
      "cell_type": "code",
      "source": [
        "print(linhas[0:5])"
      ],
      "metadata": {
        "id": "sKuLydJ328zG",
        "outputId": "ddf413be-f629-4939-ce29-16c715fe4e28",
        "colab": {
          "base_uri": "https://localhost:8080/"
        }
      },
      "execution_count": 87,
      "outputs": [
        {
          "output_type": "stream",
          "name": "stdout",
          "text": [
            "MultiIndex([('2022', '1', 'ACIR GURGACZ', ...),\n",
            "            ('2022', '1', 'ACIR GURGACZ', ...),\n",
            "            ('2022', '1', 'ACIR GURGACZ', ...),\n",
            "            ('2022', '1', 'ACIR GURGACZ', ...),\n",
            "            ('2022', '1', 'ACIR GURGACZ', ...)],\n",
            "           )\n"
          ]
        }
      ]
    },
    {
      "cell_type": "code",
      "source": [
        "def criar_dict():\n",
        "    my_dict = {} # Create an empty dictionary\n",
        "    my_dict[\"ano\"] = coluna[0] # Remove the comma after coluna[0]\n",
        "    my_dict[\"mes\"] = coluna[1] # Remove the comma after coluna[1]\n",
        "    my_dict[\"senador\"] = coluna[2] # Remove the comma after coluna[2]\n",
        "    my_dict[\"despesa\"] = coluna[3] # Remove the comma after coluna[3]\n",
        "    my_dict[\"cnpj/cpf\"] = coluna[4] # Remove the comma after coluna[4]\n",
        "    my_dict[\"fornecedot\"] = coluna[5] # Remove the comma after coluna[5]\n",
        "    my_dict[\"documento\"] = coluna[6] # Remove the comma after coluna[6]\n",
        "    my_dict[\"data\"] = coluna[7] # Remove the comma after coluna[7]\n",
        "    my_dict[\"detalhe\"]= coluna[8] # Remove the comma after coluna[8]\n",
        "    return my_dict # Return the created dictionary"
      ],
      "metadata": {
        "id": "bX3tge1X5GzO"
      },
      "execution_count": 88,
      "outputs": []
    },
    {
      "cell_type": "code",
      "source": [
        "dict_columns= criar_dict()\n",
        "print(dict_columns)"
      ],
      "metadata": {
        "id": "OWo_br8H4wyu",
        "outputId": "6cbbfbb1-c77b-44fd-b1c4-ebabe01aba6d",
        "colab": {
          "base_uri": "https://localhost:8080/"
        }
      },
      "execution_count": 89,
      "outputs": [
        {
          "output_type": "stream",
          "name": "stdout",
          "text": [
            "{'ano': 'ANO', 'mes': 'MES', 'senador': 'SENADOR', 'despesa': 'TIPO_DESPESA', 'cnpj/cpf': 'CNPJ_CPF', 'fornecedot': 'FORNECEDOR', 'documento': 'DOCUMENTO', 'data': 'DATA', 'detalhe': 'DETALHAMENTO'}\n"
          ]
        }
      ]
    },
    {
      "cell_type": "code",
      "source": [
        "linhas =list(linhas)"
      ],
      "metadata": {
        "id": "4oipFa_05eSW"
      },
      "execution_count": 90,
      "outputs": []
    },
    {
      "cell_type": "code",
      "source": [
        "def interar_linhas():\n",
        "    result = []  # Create a list to store the values\n",
        "    for i in range(len(linhas)):\n",
        "        inner_list = []  # Create a list for each inner list\n",
        "        for j in range(len(linhas[i])):\n",
        "            inner_list.append(linhas[i][j])\n",
        "        result.append(inner_list)  # Add the inner list to the result\n",
        "    return result  # Return the result list\n",
        "\n",
        "tela = interar_linhas()"
      ],
      "metadata": {
        "id": "i6OjrCKZHkiB"
      },
      "execution_count": 91,
      "outputs": []
    },
    {
      "cell_type": "code",
      "source": [
        " #Import the pandas module\n",
        "\n",
        "def dict_valores(dict_columns, tela):\n",
        "    # Create a list to store the dictionaries\n",
        "    list_of_dicts = []\n",
        "    for row in tela:\n",
        "        # Create a dictionary for each row\n",
        "        row_dict = {}\n",
        "        for key, value in zip(dict_columns.keys(), row):\n",
        "            row_dict[key] = value\n",
        "        list_of_dicts.append(row_dict)\n",
        "\n",
        "    return list_of_dicts\n",
        "\n",
        "result = dict_valores(dict_columns, tela)\n",
        "df_novo_2 = pd.DataFrame(result) #Create the DataFrame from the list of dictionaries\n",
        "print(df_novo_2)"
      ],
      "metadata": {
        "id": "FNxRjaNqJMDD",
        "outputId": "43c9b34f-74e6-47a7-b465-d4aa5ce5e248",
        "colab": {
          "base_uri": "https://localhost:8080/"
        }
      },
      "execution_count": 92,
      "outputs": [
        {
          "output_type": "stream",
          "name": "stdout",
          "text": [
            "        ano mes           senador  \\\n",
            "0      2022   1      ACIR GURGACZ   \n",
            "1      2022   1      ACIR GURGACZ   \n",
            "2      2022   1      ACIR GURGACZ   \n",
            "3      2022   1      ACIR GURGACZ   \n",
            "4      2022   1      ACIR GURGACZ   \n",
            "...     ...  ..               ...   \n",
            "47719  2020  12  ZEQUINHA MARINHO   \n",
            "47720  2020  12  ZEQUINHA MARINHO   \n",
            "47721  2020  12  ZEQUINHA MARINHO   \n",
            "47722  2020  12  ZEQUINHA MARINHO   \n",
            "47723  2020  12  ZEQUINHA MARINHO   \n",
            "\n",
            "                                                 despesa            cnpj/cpf  \\\n",
            "0      Aluguel de imóveis para escritório político, c...      004.948.028-63   \n",
            "1                    Divulgação da atividade parlamentar  26.320.603/0001-64   \n",
            "2                    Divulgação da atividade parlamentar  13.659.201/0001-47   \n",
            "3                    Divulgação da atividade parlamentar  23.652.846/0001-01   \n",
            "4                    Divulgação da atividade parlamentar  08.941.827/0001-01   \n",
            "...                                                  ...                 ...   \n",
            "47719  Passagens aéreas, aquáticas e terrestres nacio...  22.052.777/0001-32   \n",
            "47720  Passagens aéreas, aquáticas e terrestres nacio...  22.052.777/0001-32   \n",
            "47721  Passagens aéreas, aquáticas e terrestres nacio...  22.052.777/0001-32   \n",
            "47722  Passagens aéreas, aquáticas e terrestres nacio...  22.052.777/0001-32   \n",
            "47723  Passagens aéreas, aquáticas e terrestres nacio...  22.052.777/0001-32   \n",
            "\n",
            "                                              fornecedot          documento  \\\n",
            "0                          GILBERTO PISELO DO NASCIMENTO             001/22   \n",
            "1                                          INFORMANAHORA  000000000000310/A   \n",
            "2                        LINHA PURPURA FOTO E VIDEO LTDA                107   \n",
            "3                      ROBERTO GUTIERREZ DA ROCHA M.E.I.                187   \n",
            "4      RONDONIA DINÂMICA COM. E SERV. DE INFORMÁTICA ...  000000000001772/A   \n",
            "...                                                  ...                ...   \n",
            "47719                                      Exceller Tour             TJ9NGF   \n",
            "47720                                      Exceller Tour             QN9KHE   \n",
            "47721                                      Exceller Tour             QIGVKT   \n",
            "47722                                      Exceller Tour             QDHKYF   \n",
            "47723                                      Exceller Tour             BQWCVK   \n",
            "\n",
            "             data                                            detalhe  \n",
            "0      03/01/2022  Despesa com pagamento de aluguel de imóvel par...  \n",
            "1      04/01/2022  Despesa com divulgação da atividade parlamenta...  \n",
            "2      14/01/2022  Despesa com produção de texto e edição de víde...  \n",
            "3      18/01/2022                Divulgação da atividade parlamentar  \n",
            "4      17/01/2022                Divulgação da atividade parlamentar  \n",
            "...           ...                                                ...  \n",
            "47719  08/12/2020  Companhia Aérea: GOL, Localizador: TJ9NGF. Pas...  \n",
            "47720  09/12/2020  Companhia Aérea: AZUL, Localizador: QN9KHE. Pa...  \n",
            "47721  14/12/2020  Companhia Aérea: AZUL, Localizador: QIGVKT. Pa...  \n",
            "47722  14/12/2020  Companhia Aérea: AZUL, Localizador: QDHKYF. Pa...  \n",
            "47723  18/12/2020  Companhia Aérea: GOL, Localizador: BQWCVK. Pas...  \n",
            "\n",
            "[47724 rows x 9 columns]\n"
          ]
        }
      ]
    },
    {
      "cell_type": "code",
      "source": [
        "df_novo_2['ano']"
      ],
      "metadata": {
        "id": "gxM9lU78Js0D",
        "outputId": "a26bd6c4-c279-4547-dd4f-5172fce019c5",
        "colab": {
          "base_uri": "https://localhost:8080/",
          "height": 458
        }
      },
      "execution_count": 93,
      "outputs": [
        {
          "output_type": "execute_result",
          "data": {
            "text/plain": [
              "0        2022\n",
              "1        2022\n",
              "2        2022\n",
              "3        2022\n",
              "4        2022\n",
              "         ... \n",
              "47719    2020\n",
              "47720    2020\n",
              "47721    2020\n",
              "47722    2020\n",
              "47723    2020\n",
              "Name: ano, Length: 47724, dtype: object"
            ],
            "text/html": [
              "<div>\n",
              "<style scoped>\n",
              "    .dataframe tbody tr th:only-of-type {\n",
              "        vertical-align: middle;\n",
              "    }\n",
              "\n",
              "    .dataframe tbody tr th {\n",
              "        vertical-align: top;\n",
              "    }\n",
              "\n",
              "    .dataframe thead th {\n",
              "        text-align: right;\n",
              "    }\n",
              "</style>\n",
              "<table border=\"1\" class=\"dataframe\">\n",
              "  <thead>\n",
              "    <tr style=\"text-align: right;\">\n",
              "      <th></th>\n",
              "      <th>ano</th>\n",
              "    </tr>\n",
              "  </thead>\n",
              "  <tbody>\n",
              "    <tr>\n",
              "      <th>0</th>\n",
              "      <td>2022</td>\n",
              "    </tr>\n",
              "    <tr>\n",
              "      <th>1</th>\n",
              "      <td>2022</td>\n",
              "    </tr>\n",
              "    <tr>\n",
              "      <th>2</th>\n",
              "      <td>2022</td>\n",
              "    </tr>\n",
              "    <tr>\n",
              "      <th>3</th>\n",
              "      <td>2022</td>\n",
              "    </tr>\n",
              "    <tr>\n",
              "      <th>4</th>\n",
              "      <td>2022</td>\n",
              "    </tr>\n",
              "    <tr>\n",
              "      <th>...</th>\n",
              "      <td>...</td>\n",
              "    </tr>\n",
              "    <tr>\n",
              "      <th>47719</th>\n",
              "      <td>2020</td>\n",
              "    </tr>\n",
              "    <tr>\n",
              "      <th>47720</th>\n",
              "      <td>2020</td>\n",
              "    </tr>\n",
              "    <tr>\n",
              "      <th>47721</th>\n",
              "      <td>2020</td>\n",
              "    </tr>\n",
              "    <tr>\n",
              "      <th>47722</th>\n",
              "      <td>2020</td>\n",
              "    </tr>\n",
              "    <tr>\n",
              "      <th>47723</th>\n",
              "      <td>2020</td>\n",
              "    </tr>\n",
              "  </tbody>\n",
              "</table>\n",
              "<p>47724 rows × 1 columns</p>\n",
              "</div><br><label><b>dtype:</b> object</label>"
            ]
          },
          "metadata": {},
          "execution_count": 93
        }
      ]
    },
    {
      "cell_type": "code",
      "source": [
        "df_novo_2['detalhe']"
      ],
      "metadata": {
        "id": "vCQxEL_iKFsI",
        "outputId": "6279d926-fe50-43cd-aa7a-b4974c1de559",
        "colab": {
          "base_uri": "https://localhost:8080/",
          "height": 597
        }
      },
      "execution_count": 94,
      "outputs": [
        {
          "output_type": "execute_result",
          "data": {
            "text/plain": [
              "0        Despesa com pagamento de aluguel de imóvel par...\n",
              "1        Despesa com divulgação da atividade parlamenta...\n",
              "2        Despesa com produção de texto e edição de víde...\n",
              "3                      Divulgação da atividade parlamentar\n",
              "4                      Divulgação da atividade parlamentar\n",
              "                               ...                        \n",
              "47719    Companhia Aérea: GOL, Localizador: TJ9NGF. Pas...\n",
              "47720    Companhia Aérea: AZUL, Localizador: QN9KHE. Pa...\n",
              "47721    Companhia Aérea: AZUL, Localizador: QIGVKT. Pa...\n",
              "47722    Companhia Aérea: AZUL, Localizador: QDHKYF. Pa...\n",
              "47723    Companhia Aérea: GOL, Localizador: BQWCVK. Pas...\n",
              "Name: detalhe, Length: 47724, dtype: object"
            ],
            "text/html": [
              "<div>\n",
              "<style scoped>\n",
              "    .dataframe tbody tr th:only-of-type {\n",
              "        vertical-align: middle;\n",
              "    }\n",
              "\n",
              "    .dataframe tbody tr th {\n",
              "        vertical-align: top;\n",
              "    }\n",
              "\n",
              "    .dataframe thead th {\n",
              "        text-align: right;\n",
              "    }\n",
              "</style>\n",
              "<table border=\"1\" class=\"dataframe\">\n",
              "  <thead>\n",
              "    <tr style=\"text-align: right;\">\n",
              "      <th></th>\n",
              "      <th>detalhe</th>\n",
              "    </tr>\n",
              "  </thead>\n",
              "  <tbody>\n",
              "    <tr>\n",
              "      <th>0</th>\n",
              "      <td>Despesa com pagamento de aluguel de imóvel par...</td>\n",
              "    </tr>\n",
              "    <tr>\n",
              "      <th>1</th>\n",
              "      <td>Despesa com divulgação da atividade parlamenta...</td>\n",
              "    </tr>\n",
              "    <tr>\n",
              "      <th>2</th>\n",
              "      <td>Despesa com produção de texto e edição de víde...</td>\n",
              "    </tr>\n",
              "    <tr>\n",
              "      <th>3</th>\n",
              "      <td>Divulgação da atividade parlamentar</td>\n",
              "    </tr>\n",
              "    <tr>\n",
              "      <th>4</th>\n",
              "      <td>Divulgação da atividade parlamentar</td>\n",
              "    </tr>\n",
              "    <tr>\n",
              "      <th>...</th>\n",
              "      <td>...</td>\n",
              "    </tr>\n",
              "    <tr>\n",
              "      <th>47719</th>\n",
              "      <td>Companhia Aérea: GOL, Localizador: TJ9NGF. Pas...</td>\n",
              "    </tr>\n",
              "    <tr>\n",
              "      <th>47720</th>\n",
              "      <td>Companhia Aérea: AZUL, Localizador: QN9KHE. Pa...</td>\n",
              "    </tr>\n",
              "    <tr>\n",
              "      <th>47721</th>\n",
              "      <td>Companhia Aérea: AZUL, Localizador: QIGVKT. Pa...</td>\n",
              "    </tr>\n",
              "    <tr>\n",
              "      <th>47722</th>\n",
              "      <td>Companhia Aérea: AZUL, Localizador: QDHKYF. Pa...</td>\n",
              "    </tr>\n",
              "    <tr>\n",
              "      <th>47723</th>\n",
              "      <td>Companhia Aérea: GOL, Localizador: BQWCVK. Pas...</td>\n",
              "    </tr>\n",
              "  </tbody>\n",
              "</table>\n",
              "<p>47724 rows × 1 columns</p>\n",
              "</div><br><label><b>dtype:</b> object</label>"
            ]
          },
          "metadata": {},
          "execution_count": 94
        }
      ]
    },
    {
      "cell_type": "code",
      "source": [
        "df_novo_2.columns"
      ],
      "metadata": {
        "id": "ESGxr20jDxAa",
        "outputId": "d90bbe1f-b589-4352-88d8-0de5853a8df7",
        "colab": {
          "base_uri": "https://localhost:8080/"
        }
      },
      "execution_count": 95,
      "outputs": [
        {
          "output_type": "execute_result",
          "data": {
            "text/plain": [
              "Index(['ano', 'mes', 'senador', 'despesa', 'cnpj/cpf', 'fornecedot',\n",
              "       'documento', 'data', 'detalhe'],\n",
              "      dtype='object')"
            ]
          },
          "metadata": {},
          "execution_count": 95
        }
      ]
    },
    {
      "cell_type": "code",
      "source": [
        "df_novo_3 = df_novo_2.drop(columns=['cnpj/cpf'])"
      ],
      "metadata": {
        "id": "ArOuGDNBD12v"
      },
      "execution_count": 96,
      "outputs": []
    },
    {
      "cell_type": "code",
      "source": [
        "df_novo_3 = df_novo_2.drop(columns=['documento'])"
      ],
      "metadata": {
        "id": "eN1rcuXiEFfu"
      },
      "execution_count": 97,
      "outputs": []
    },
    {
      "cell_type": "code",
      "source": [
        "df_novo_3.columns"
      ],
      "metadata": {
        "id": "dq2pI2G7EK4k",
        "outputId": "933f3dc8-09f8-495a-f1d9-1176f0a67b27",
        "colab": {
          "base_uri": "https://localhost:8080/"
        }
      },
      "execution_count": 98,
      "outputs": [
        {
          "output_type": "execute_result",
          "data": {
            "text/plain": [
              "Index(['ano', 'mes', 'senador', 'despesa', 'cnpj/cpf', 'fornecedot', 'data',\n",
              "       'detalhe'],\n",
              "      dtype='object')"
            ]
          },
          "metadata": {},
          "execution_count": 98
        }
      ]
    },
    {
      "cell_type": "code",
      "source": [
        "\n",
        "\n",
        "\n",
        "# Converter a coluna para datetime e extrair o ano\n",
        "df_novo_3['data'] = pd.to_datetime(df_novo_3['data'], errors='coerce').dt.day\n",
        "\n",
        "print(df_novo_3['data'])"
      ],
      "metadata": {
        "id": "zgv1WwNVEVB4",
        "outputId": "5f4160fb-ed65-47d9-d47b-64bfa8b24bdc",
        "colab": {
          "base_uri": "https://localhost:8080/"
        }
      },
      "execution_count": 99,
      "outputs": [
        {
          "output_type": "stream",
          "name": "stdout",
          "text": [
            "0         1.0\n",
            "1         1.0\n",
            "2         NaN\n",
            "3         NaN\n",
            "4         NaN\n",
            "         ... \n",
            "47719    12.0\n",
            "47720    12.0\n",
            "47721     NaN\n",
            "47722     NaN\n",
            "47723     NaN\n",
            "Name: data, Length: 47724, dtype: float64\n"
          ]
        }
      ]
    },
    {
      "cell_type": "code",
      "source": [
        "# Converter a coluna para datetime e extrair o ano\n",
        "df_novo_3['ano'] = pd.to_datetime(df_novo_3['ano'], errors='coerce').dt.year\n",
        "\n",
        "print(df_novo_3['ano'])"
      ],
      "metadata": {
        "id": "GLhsuDARFpz0",
        "outputId": "846232a6-3d5d-473d-e154-2edee10941ba",
        "colab": {
          "base_uri": "https://localhost:8080/"
        }
      },
      "execution_count": 102,
      "outputs": [
        {
          "output_type": "stream",
          "name": "stdout",
          "text": [
            "0        2022.0\n",
            "1        2022.0\n",
            "2        2022.0\n",
            "3        2022.0\n",
            "4        2022.0\n",
            "          ...  \n",
            "47719    2020.0\n",
            "47720    2020.0\n",
            "47721    2020.0\n",
            "47722    2020.0\n",
            "47723    2020.0\n",
            "Name: ano, Length: 47724, dtype: float64\n"
          ]
        }
      ]
    },
    {
      "cell_type": "code",
      "source": [
        "# Converter a coluna para datetime e extrair o ano\n",
        "df_novo_3['mes'] = pd.to_datetime(df_novo_3['mes'], errors='coerce').dt.month\n",
        "\n",
        "print(df_novo_3['mes'])"
      ],
      "metadata": {
        "id": "3mrS49M4Fxfr",
        "outputId": "a5a84a3c-d37a-4df2-ce72-8884b3fe77d9",
        "colab": {
          "base_uri": "https://localhost:8080/"
        }
      },
      "execution_count": 103,
      "outputs": [
        {
          "output_type": "stream",
          "name": "stdout",
          "text": [
            "0       NaN\n",
            "1       NaN\n",
            "2       NaN\n",
            "3       NaN\n",
            "4       NaN\n",
            "         ..\n",
            "47719   NaN\n",
            "47720   NaN\n",
            "47721   NaN\n",
            "47722   NaN\n",
            "47723   NaN\n",
            "Name: mes, Length: 47724, dtype: float64\n"
          ]
        }
      ]
    },
    {
      "cell_type": "code",
      "source": [
        "#colunas object para string\n",
        "df_novo_3['senador'] = df_novo_3['senador'].astype(str)\n",
        "print(df_novo_3['senador'])"
      ],
      "metadata": {
        "id": "NyYTEaAuF6J5",
        "outputId": "db997452-dc85-4667-da53-bc5a273d74d6",
        "colab": {
          "base_uri": "https://localhost:8080/"
        }
      },
      "execution_count": 104,
      "outputs": [
        {
          "output_type": "stream",
          "name": "stdout",
          "text": [
            "0            ACIR GURGACZ\n",
            "1            ACIR GURGACZ\n",
            "2            ACIR GURGACZ\n",
            "3            ACIR GURGACZ\n",
            "4            ACIR GURGACZ\n",
            "               ...       \n",
            "47719    ZEQUINHA MARINHO\n",
            "47720    ZEQUINHA MARINHO\n",
            "47721    ZEQUINHA MARINHO\n",
            "47722    ZEQUINHA MARINHO\n",
            "47723    ZEQUINHA MARINHO\n",
            "Name: senador, Length: 47724, dtype: object\n"
          ]
        }
      ]
    },
    {
      "cell_type": "code",
      "source": [
        "#colunas object para string\n",
        "#colunas object para string\n",
        "df_novo_3['despesa'] = df_novo_3['despesa'].astype(str)\n",
        "print(df_novo_3['despesa'])"
      ],
      "metadata": {
        "id": "VIxeaxkjHy-Y",
        "outputId": "6d80a3e4-e272-4c8c-adc8-09e21a89e32d",
        "colab": {
          "base_uri": "https://localhost:8080/"
        }
      },
      "execution_count": 105,
      "outputs": [
        {
          "output_type": "stream",
          "name": "stdout",
          "text": [
            "0        Aluguel de imóveis para escritório político, c...\n",
            "1                      Divulgação da atividade parlamentar\n",
            "2                      Divulgação da atividade parlamentar\n",
            "3                      Divulgação da atividade parlamentar\n",
            "4                      Divulgação da atividade parlamentar\n",
            "                               ...                        \n",
            "47719    Passagens aéreas, aquáticas e terrestres nacio...\n",
            "47720    Passagens aéreas, aquáticas e terrestres nacio...\n",
            "47721    Passagens aéreas, aquáticas e terrestres nacio...\n",
            "47722    Passagens aéreas, aquáticas e terrestres nacio...\n",
            "47723    Passagens aéreas, aquáticas e terrestres nacio...\n",
            "Name: despesa, Length: 47724, dtype: object\n"
          ]
        }
      ]
    },
    {
      "cell_type": "code",
      "source": [
        "#colunas object para string\n",
        "df_novo_3['detalhe'] = df_novo_3['detalhe'].astype(str)\n",
        "print(df_novo_3['detalhe'])"
      ],
      "metadata": {
        "id": "P4MRg56OH485",
        "outputId": "f52b2f12-a9d5-4253-d41e-a2e085ab4aff",
        "colab": {
          "base_uri": "https://localhost:8080/"
        }
      },
      "execution_count": 106,
      "outputs": [
        {
          "output_type": "stream",
          "name": "stdout",
          "text": [
            "0        Despesa com pagamento de aluguel de imóvel par...\n",
            "1        Despesa com divulgação da atividade parlamenta...\n",
            "2        Despesa com produção de texto e edição de víde...\n",
            "3                      Divulgação da atividade parlamentar\n",
            "4                      Divulgação da atividade parlamentar\n",
            "                               ...                        \n",
            "47719    Companhia Aérea: GOL, Localizador: TJ9NGF. Pas...\n",
            "47720    Companhia Aérea: AZUL, Localizador: QN9KHE. Pa...\n",
            "47721    Companhia Aérea: AZUL, Localizador: QIGVKT. Pa...\n",
            "47722    Companhia Aérea: AZUL, Localizador: QDHKYF. Pa...\n",
            "47723    Companhia Aérea: GOL, Localizador: BQWCVK. Pas...\n",
            "Name: detalhe, Length: 47724, dtype: object\n"
          ]
        }
      ]
    },
    {
      "cell_type": "code",
      "source": [
        "# Lista de arquivos CSV\n",
        "lista_csv = [\"/content/drive/MyDrive/csv/despesa_ceaps_2022.csv\",\n",
        "             \"/content/drive/MyDrive/csv/despesa_ceaps_2021.csv\",\n",
        "             \"/content/drive/MyDrive/csv/despesa_ceaps_2020.csv\"]\n",
        "\n",
        "# Função para gerar DataFrames a partir de arquivos CSV\n",
        "def gerar_ds(lista_arquivos):\n",
        "    lista_ds = []\n",
        "    for arquivo in lista_arquivos:\n",
        "        try:\n",
        "            df = pd.read_csv(arquivo, encoding=\"latin-1\", sep=';', on_bad_lines='skip')\n",
        "            lista_ds.append(df)\n",
        "        except Exception as e:\n",
        "            print(f\"Erro ao carregar o arquivo {arquivo}: {e}\")\n",
        "    return lista_ds\n",
        "\n",
        "# Gerar a lista de DataFrames\n",
        "gerar_data = gerar_ds(lista_csv)\n",
        "\n",
        "# Concatenar todos os DataFrames em um único DataFrame\n",
        "df_unico_2 = pd.concat(gerar_data, ignore_index=True)\n",
        "\n",
        "# Exibir os primeiros registros do DataFrame concatenado\n",
        "print(df_unico_2.head(4))"
      ],
      "metadata": {
        "id": "VlCZNwDnJe_f",
        "outputId": "e12a8729-9d17-4539-8aeb-238026510e03",
        "colab": {
          "base_uri": "https://localhost:8080/"
        }
      },
      "execution_count": 108,
      "outputs": [
        {
          "output_type": "stream",
          "name": "stdout",
          "text": [
            "  ULTIMA ATUALIZACAO 22/09/2024 02:01 23/09/2024 02:00\n",
            "0  VALOR_REEMBOLSADO    COD_DOCUMENTO              NaN\n",
            "1               6000          2173614              NaN\n",
            "2               1500          2173615              NaN\n",
            "3               6000          2173616              NaN\n"
          ]
        }
      ]
    },
    {
      "cell_type": "code",
      "source": [
        "df_unico_2= df_unico_2['ULTIMA ATUALIZACAO']\n",
        "print(df_unico_2)"
      ],
      "metadata": {
        "id": "lfZnzbpxJsVc",
        "outputId": "9147544b-ecd5-453a-dfcd-e4becf836d8c",
        "colab": {
          "base_uri": "https://localhost:8080/"
        }
      },
      "execution_count": 109,
      "outputs": [
        {
          "output_type": "stream",
          "name": "stdout",
          "text": [
            "0        VALOR_REEMBOLSADO\n",
            "1                     6000\n",
            "2                     1500\n",
            "3                     6000\n",
            "4                     1000\n",
            "               ...        \n",
            "47720              1654,46\n",
            "47721              1121,83\n",
            "47722               549,47\n",
            "47723               831,05\n",
            "47724              2026,12\n",
            "Name: ULTIMA ATUALIZACAO, Length: 47725, dtype: object\n"
          ]
        }
      ]
    },
    {
      "cell_type": "code",
      "source": [
        "df_novo_4 = df_novo_3.merge(df_unico_2, left_index=True, right_index=True)"
      ],
      "metadata": {
        "id": "TjfvrDMoKUPe"
      },
      "execution_count": 111,
      "outputs": []
    },
    {
      "cell_type": "code",
      "source": [
        "# Replace 'actual_column_name' with the correct column name from your DataFrame\n",
        "df_unico_2['actual_column_name']"
      ],
      "metadata": {
        "id": "33Rz4kXOMAI8"
      },
      "execution_count": null,
      "outputs": []
    },
    {
      "cell_type": "code",
      "source": [
        "df_novo_4"
      ],
      "metadata": {
        "id": "JAL424FLKXkk",
        "outputId": "57104440-1388-4d72-8069-8c3ab67e0523",
        "colab": {
          "base_uri": "https://localhost:8080/",
          "height": 1000
        }
      },
      "execution_count": 113,
      "outputs": [
        {
          "output_type": "execute_result",
          "data": {
            "text/plain": [
              "          ano  mes           senador  \\\n",
              "0      2022.0  NaN      ACIR GURGACZ   \n",
              "1      2022.0  NaN      ACIR GURGACZ   \n",
              "2      2022.0  NaN      ACIR GURGACZ   \n",
              "3      2022.0  NaN      ACIR GURGACZ   \n",
              "4      2022.0  NaN      ACIR GURGACZ   \n",
              "...       ...  ...               ...   \n",
              "47719  2020.0  NaN  ZEQUINHA MARINHO   \n",
              "47720  2020.0  NaN  ZEQUINHA MARINHO   \n",
              "47721  2020.0  NaN  ZEQUINHA MARINHO   \n",
              "47722  2020.0  NaN  ZEQUINHA MARINHO   \n",
              "47723  2020.0  NaN  ZEQUINHA MARINHO   \n",
              "\n",
              "                                                 despesa            cnpj/cpf  \\\n",
              "0      Aluguel de imóveis para escritório político, c...      004.948.028-63   \n",
              "1                    Divulgação da atividade parlamentar  26.320.603/0001-64   \n",
              "2                    Divulgação da atividade parlamentar  13.659.201/0001-47   \n",
              "3                    Divulgação da atividade parlamentar  23.652.846/0001-01   \n",
              "4                    Divulgação da atividade parlamentar  08.941.827/0001-01   \n",
              "...                                                  ...                 ...   \n",
              "47719  Passagens aéreas, aquáticas e terrestres nacio...  22.052.777/0001-32   \n",
              "47720  Passagens aéreas, aquáticas e terrestres nacio...  22.052.777/0001-32   \n",
              "47721  Passagens aéreas, aquáticas e terrestres nacio...  22.052.777/0001-32   \n",
              "47722  Passagens aéreas, aquáticas e terrestres nacio...  22.052.777/0001-32   \n",
              "47723  Passagens aéreas, aquáticas e terrestres nacio...  22.052.777/0001-32   \n",
              "\n",
              "                                              fornecedot  data  \\\n",
              "0                          GILBERTO PISELO DO NASCIMENTO   1.0   \n",
              "1                                          INFORMANAHORA   1.0   \n",
              "2                        LINHA PURPURA FOTO E VIDEO LTDA   NaN   \n",
              "3                      ROBERTO GUTIERREZ DA ROCHA M.E.I.   NaN   \n",
              "4      RONDONIA DINÂMICA COM. E SERV. DE INFORMÁTICA ...   NaN   \n",
              "...                                                  ...   ...   \n",
              "47719                                      Exceller Tour  12.0   \n",
              "47720                                      Exceller Tour  12.0   \n",
              "47721                                      Exceller Tour   NaN   \n",
              "47722                                      Exceller Tour   NaN   \n",
              "47723                                      Exceller Tour   NaN   \n",
              "\n",
              "                                                 detalhe ULTIMA ATUALIZACAO  \n",
              "0      Despesa com pagamento de aluguel de imóvel par...  VALOR_REEMBOLSADO  \n",
              "1      Despesa com divulgação da atividade parlamenta...               6000  \n",
              "2      Despesa com produção de texto e edição de víde...               1500  \n",
              "3                    Divulgação da atividade parlamentar               6000  \n",
              "4                    Divulgação da atividade parlamentar               1000  \n",
              "...                                                  ...                ...  \n",
              "47719  Companhia Aérea: GOL, Localizador: TJ9NGF. Pas...              44,76  \n",
              "47720  Companhia Aérea: AZUL, Localizador: QN9KHE. Pa...            1654,46  \n",
              "47721  Companhia Aérea: AZUL, Localizador: QIGVKT. Pa...            1121,83  \n",
              "47722  Companhia Aérea: AZUL, Localizador: QDHKYF. Pa...             549,47  \n",
              "47723  Companhia Aérea: GOL, Localizador: BQWCVK. Pas...             831,05  \n",
              "\n",
              "[47724 rows x 9 columns]"
            ],
            "text/html": [
              "\n",
              "  <div id=\"df-6ca7ec5c-e3af-4e57-b7be-ec2b09fa339e\" class=\"colab-df-container\">\n",
              "    <div>\n",
              "<style scoped>\n",
              "    .dataframe tbody tr th:only-of-type {\n",
              "        vertical-align: middle;\n",
              "    }\n",
              "\n",
              "    .dataframe tbody tr th {\n",
              "        vertical-align: top;\n",
              "    }\n",
              "\n",
              "    .dataframe thead th {\n",
              "        text-align: right;\n",
              "    }\n",
              "</style>\n",
              "<table border=\"1\" class=\"dataframe\">\n",
              "  <thead>\n",
              "    <tr style=\"text-align: right;\">\n",
              "      <th></th>\n",
              "      <th>ano</th>\n",
              "      <th>mes</th>\n",
              "      <th>senador</th>\n",
              "      <th>despesa</th>\n",
              "      <th>cnpj/cpf</th>\n",
              "      <th>fornecedot</th>\n",
              "      <th>data</th>\n",
              "      <th>detalhe</th>\n",
              "      <th>ULTIMA ATUALIZACAO</th>\n",
              "    </tr>\n",
              "  </thead>\n",
              "  <tbody>\n",
              "    <tr>\n",
              "      <th>0</th>\n",
              "      <td>2022.0</td>\n",
              "      <td>NaN</td>\n",
              "      <td>ACIR GURGACZ</td>\n",
              "      <td>Aluguel de imóveis para escritório político, c...</td>\n",
              "      <td>004.948.028-63</td>\n",
              "      <td>GILBERTO PISELO DO NASCIMENTO</td>\n",
              "      <td>1.0</td>\n",
              "      <td>Despesa com pagamento de aluguel de imóvel par...</td>\n",
              "      <td>VALOR_REEMBOLSADO</td>\n",
              "    </tr>\n",
              "    <tr>\n",
              "      <th>1</th>\n",
              "      <td>2022.0</td>\n",
              "      <td>NaN</td>\n",
              "      <td>ACIR GURGACZ</td>\n",
              "      <td>Divulgação da atividade parlamentar</td>\n",
              "      <td>26.320.603/0001-64</td>\n",
              "      <td>INFORMANAHORA</td>\n",
              "      <td>1.0</td>\n",
              "      <td>Despesa com divulgação da atividade parlamenta...</td>\n",
              "      <td>6000</td>\n",
              "    </tr>\n",
              "    <tr>\n",
              "      <th>2</th>\n",
              "      <td>2022.0</td>\n",
              "      <td>NaN</td>\n",
              "      <td>ACIR GURGACZ</td>\n",
              "      <td>Divulgação da atividade parlamentar</td>\n",
              "      <td>13.659.201/0001-47</td>\n",
              "      <td>LINHA PURPURA FOTO E VIDEO LTDA</td>\n",
              "      <td>NaN</td>\n",
              "      <td>Despesa com produção de texto e edição de víde...</td>\n",
              "      <td>1500</td>\n",
              "    </tr>\n",
              "    <tr>\n",
              "      <th>3</th>\n",
              "      <td>2022.0</td>\n",
              "      <td>NaN</td>\n",
              "      <td>ACIR GURGACZ</td>\n",
              "      <td>Divulgação da atividade parlamentar</td>\n",
              "      <td>23.652.846/0001-01</td>\n",
              "      <td>ROBERTO GUTIERREZ DA ROCHA M.E.I.</td>\n",
              "      <td>NaN</td>\n",
              "      <td>Divulgação da atividade parlamentar</td>\n",
              "      <td>6000</td>\n",
              "    </tr>\n",
              "    <tr>\n",
              "      <th>4</th>\n",
              "      <td>2022.0</td>\n",
              "      <td>NaN</td>\n",
              "      <td>ACIR GURGACZ</td>\n",
              "      <td>Divulgação da atividade parlamentar</td>\n",
              "      <td>08.941.827/0001-01</td>\n",
              "      <td>RONDONIA DINÂMICA COM. E SERV. DE INFORMÁTICA ...</td>\n",
              "      <td>NaN</td>\n",
              "      <td>Divulgação da atividade parlamentar</td>\n",
              "      <td>1000</td>\n",
              "    </tr>\n",
              "    <tr>\n",
              "      <th>...</th>\n",
              "      <td>...</td>\n",
              "      <td>...</td>\n",
              "      <td>...</td>\n",
              "      <td>...</td>\n",
              "      <td>...</td>\n",
              "      <td>...</td>\n",
              "      <td>...</td>\n",
              "      <td>...</td>\n",
              "      <td>...</td>\n",
              "    </tr>\n",
              "    <tr>\n",
              "      <th>47719</th>\n",
              "      <td>2020.0</td>\n",
              "      <td>NaN</td>\n",
              "      <td>ZEQUINHA MARINHO</td>\n",
              "      <td>Passagens aéreas, aquáticas e terrestres nacio...</td>\n",
              "      <td>22.052.777/0001-32</td>\n",
              "      <td>Exceller Tour</td>\n",
              "      <td>12.0</td>\n",
              "      <td>Companhia Aérea: GOL, Localizador: TJ9NGF. Pas...</td>\n",
              "      <td>44,76</td>\n",
              "    </tr>\n",
              "    <tr>\n",
              "      <th>47720</th>\n",
              "      <td>2020.0</td>\n",
              "      <td>NaN</td>\n",
              "      <td>ZEQUINHA MARINHO</td>\n",
              "      <td>Passagens aéreas, aquáticas e terrestres nacio...</td>\n",
              "      <td>22.052.777/0001-32</td>\n",
              "      <td>Exceller Tour</td>\n",
              "      <td>12.0</td>\n",
              "      <td>Companhia Aérea: AZUL, Localizador: QN9KHE. Pa...</td>\n",
              "      <td>1654,46</td>\n",
              "    </tr>\n",
              "    <tr>\n",
              "      <th>47721</th>\n",
              "      <td>2020.0</td>\n",
              "      <td>NaN</td>\n",
              "      <td>ZEQUINHA MARINHO</td>\n",
              "      <td>Passagens aéreas, aquáticas e terrestres nacio...</td>\n",
              "      <td>22.052.777/0001-32</td>\n",
              "      <td>Exceller Tour</td>\n",
              "      <td>NaN</td>\n",
              "      <td>Companhia Aérea: AZUL, Localizador: QIGVKT. Pa...</td>\n",
              "      <td>1121,83</td>\n",
              "    </tr>\n",
              "    <tr>\n",
              "      <th>47722</th>\n",
              "      <td>2020.0</td>\n",
              "      <td>NaN</td>\n",
              "      <td>ZEQUINHA MARINHO</td>\n",
              "      <td>Passagens aéreas, aquáticas e terrestres nacio...</td>\n",
              "      <td>22.052.777/0001-32</td>\n",
              "      <td>Exceller Tour</td>\n",
              "      <td>NaN</td>\n",
              "      <td>Companhia Aérea: AZUL, Localizador: QDHKYF. Pa...</td>\n",
              "      <td>549,47</td>\n",
              "    </tr>\n",
              "    <tr>\n",
              "      <th>47723</th>\n",
              "      <td>2020.0</td>\n",
              "      <td>NaN</td>\n",
              "      <td>ZEQUINHA MARINHO</td>\n",
              "      <td>Passagens aéreas, aquáticas e terrestres nacio...</td>\n",
              "      <td>22.052.777/0001-32</td>\n",
              "      <td>Exceller Tour</td>\n",
              "      <td>NaN</td>\n",
              "      <td>Companhia Aérea: GOL, Localizador: BQWCVK. Pas...</td>\n",
              "      <td>831,05</td>\n",
              "    </tr>\n",
              "  </tbody>\n",
              "</table>\n",
              "<p>47724 rows × 9 columns</p>\n",
              "</div>\n",
              "    <div class=\"colab-df-buttons\">\n",
              "\n",
              "  <div class=\"colab-df-container\">\n",
              "    <button class=\"colab-df-convert\" onclick=\"convertToInteractive('df-6ca7ec5c-e3af-4e57-b7be-ec2b09fa339e')\"\n",
              "            title=\"Convert this dataframe to an interactive table.\"\n",
              "            style=\"display:none;\">\n",
              "\n",
              "  <svg xmlns=\"http://www.w3.org/2000/svg\" height=\"24px\" viewBox=\"0 -960 960 960\">\n",
              "    <path d=\"M120-120v-720h720v720H120Zm60-500h600v-160H180v160Zm220 220h160v-160H400v160Zm0 220h160v-160H400v160ZM180-400h160v-160H180v160Zm440 0h160v-160H620v160ZM180-180h160v-160H180v160Zm440 0h160v-160H620v160Z\"/>\n",
              "  </svg>\n",
              "    </button>\n",
              "\n",
              "  <style>\n",
              "    .colab-df-container {\n",
              "      display:flex;\n",
              "      gap: 12px;\n",
              "    }\n",
              "\n",
              "    .colab-df-convert {\n",
              "      background-color: #E8F0FE;\n",
              "      border: none;\n",
              "      border-radius: 50%;\n",
              "      cursor: pointer;\n",
              "      display: none;\n",
              "      fill: #1967D2;\n",
              "      height: 32px;\n",
              "      padding: 0 0 0 0;\n",
              "      width: 32px;\n",
              "    }\n",
              "\n",
              "    .colab-df-convert:hover {\n",
              "      background-color: #E2EBFA;\n",
              "      box-shadow: 0px 1px 2px rgba(60, 64, 67, 0.3), 0px 1px 3px 1px rgba(60, 64, 67, 0.15);\n",
              "      fill: #174EA6;\n",
              "    }\n",
              "\n",
              "    .colab-df-buttons div {\n",
              "      margin-bottom: 4px;\n",
              "    }\n",
              "\n",
              "    [theme=dark] .colab-df-convert {\n",
              "      background-color: #3B4455;\n",
              "      fill: #D2E3FC;\n",
              "    }\n",
              "\n",
              "    [theme=dark] .colab-df-convert:hover {\n",
              "      background-color: #434B5C;\n",
              "      box-shadow: 0px 1px 3px 1px rgba(0, 0, 0, 0.15);\n",
              "      filter: drop-shadow(0px 1px 2px rgba(0, 0, 0, 0.3));\n",
              "      fill: #FFFFFF;\n",
              "    }\n",
              "  </style>\n",
              "\n",
              "    <script>\n",
              "      const buttonEl =\n",
              "        document.querySelector('#df-6ca7ec5c-e3af-4e57-b7be-ec2b09fa339e button.colab-df-convert');\n",
              "      buttonEl.style.display =\n",
              "        google.colab.kernel.accessAllowed ? 'block' : 'none';\n",
              "\n",
              "      async function convertToInteractive(key) {\n",
              "        const element = document.querySelector('#df-6ca7ec5c-e3af-4e57-b7be-ec2b09fa339e');\n",
              "        const dataTable =\n",
              "          await google.colab.kernel.invokeFunction('convertToInteractive',\n",
              "                                                    [key], {});\n",
              "        if (!dataTable) return;\n",
              "\n",
              "        const docLinkHtml = 'Like what you see? Visit the ' +\n",
              "          '<a target=\"_blank\" href=https://colab.research.google.com/notebooks/data_table.ipynb>data table notebook</a>'\n",
              "          + ' to learn more about interactive tables.';\n",
              "        element.innerHTML = '';\n",
              "        dataTable['output_type'] = 'display_data';\n",
              "        await google.colab.output.renderOutput(dataTable, element);\n",
              "        const docLink = document.createElement('div');\n",
              "        docLink.innerHTML = docLinkHtml;\n",
              "        element.appendChild(docLink);\n",
              "      }\n",
              "    </script>\n",
              "  </div>\n",
              "\n",
              "\n",
              "<div id=\"df-2ea4927a-c500-4d6f-a9a9-47c9a56505be\">\n",
              "  <button class=\"colab-df-quickchart\" onclick=\"quickchart('df-2ea4927a-c500-4d6f-a9a9-47c9a56505be')\"\n",
              "            title=\"Suggest charts\"\n",
              "            style=\"display:none;\">\n",
              "\n",
              "<svg xmlns=\"http://www.w3.org/2000/svg\" height=\"24px\"viewBox=\"0 0 24 24\"\n",
              "     width=\"24px\">\n",
              "    <g>\n",
              "        <path d=\"M19 3H5c-1.1 0-2 .9-2 2v14c0 1.1.9 2 2 2h14c1.1 0 2-.9 2-2V5c0-1.1-.9-2-2-2zM9 17H7v-7h2v7zm4 0h-2V7h2v10zm4 0h-2v-4h2v4z\"/>\n",
              "    </g>\n",
              "</svg>\n",
              "  </button>\n",
              "\n",
              "<style>\n",
              "  .colab-df-quickchart {\n",
              "      --bg-color: #E8F0FE;\n",
              "      --fill-color: #1967D2;\n",
              "      --hover-bg-color: #E2EBFA;\n",
              "      --hover-fill-color: #174EA6;\n",
              "      --disabled-fill-color: #AAA;\n",
              "      --disabled-bg-color: #DDD;\n",
              "  }\n",
              "\n",
              "  [theme=dark] .colab-df-quickchart {\n",
              "      --bg-color: #3B4455;\n",
              "      --fill-color: #D2E3FC;\n",
              "      --hover-bg-color: #434B5C;\n",
              "      --hover-fill-color: #FFFFFF;\n",
              "      --disabled-bg-color: #3B4455;\n",
              "      --disabled-fill-color: #666;\n",
              "  }\n",
              "\n",
              "  .colab-df-quickchart {\n",
              "    background-color: var(--bg-color);\n",
              "    border: none;\n",
              "    border-radius: 50%;\n",
              "    cursor: pointer;\n",
              "    display: none;\n",
              "    fill: var(--fill-color);\n",
              "    height: 32px;\n",
              "    padding: 0;\n",
              "    width: 32px;\n",
              "  }\n",
              "\n",
              "  .colab-df-quickchart:hover {\n",
              "    background-color: var(--hover-bg-color);\n",
              "    box-shadow: 0 1px 2px rgba(60, 64, 67, 0.3), 0 1px 3px 1px rgba(60, 64, 67, 0.15);\n",
              "    fill: var(--button-hover-fill-color);\n",
              "  }\n",
              "\n",
              "  .colab-df-quickchart-complete:disabled,\n",
              "  .colab-df-quickchart-complete:disabled:hover {\n",
              "    background-color: var(--disabled-bg-color);\n",
              "    fill: var(--disabled-fill-color);\n",
              "    box-shadow: none;\n",
              "  }\n",
              "\n",
              "  .colab-df-spinner {\n",
              "    border: 2px solid var(--fill-color);\n",
              "    border-color: transparent;\n",
              "    border-bottom-color: var(--fill-color);\n",
              "    animation:\n",
              "      spin 1s steps(1) infinite;\n",
              "  }\n",
              "\n",
              "  @keyframes spin {\n",
              "    0% {\n",
              "      border-color: transparent;\n",
              "      border-bottom-color: var(--fill-color);\n",
              "      border-left-color: var(--fill-color);\n",
              "    }\n",
              "    20% {\n",
              "      border-color: transparent;\n",
              "      border-left-color: var(--fill-color);\n",
              "      border-top-color: var(--fill-color);\n",
              "    }\n",
              "    30% {\n",
              "      border-color: transparent;\n",
              "      border-left-color: var(--fill-color);\n",
              "      border-top-color: var(--fill-color);\n",
              "      border-right-color: var(--fill-color);\n",
              "    }\n",
              "    40% {\n",
              "      border-color: transparent;\n",
              "      border-right-color: var(--fill-color);\n",
              "      border-top-color: var(--fill-color);\n",
              "    }\n",
              "    60% {\n",
              "      border-color: transparent;\n",
              "      border-right-color: var(--fill-color);\n",
              "    }\n",
              "    80% {\n",
              "      border-color: transparent;\n",
              "      border-right-color: var(--fill-color);\n",
              "      border-bottom-color: var(--fill-color);\n",
              "    }\n",
              "    90% {\n",
              "      border-color: transparent;\n",
              "      border-bottom-color: var(--fill-color);\n",
              "    }\n",
              "  }\n",
              "</style>\n",
              "\n",
              "  <script>\n",
              "    async function quickchart(key) {\n",
              "      const quickchartButtonEl =\n",
              "        document.querySelector('#' + key + ' button');\n",
              "      quickchartButtonEl.disabled = true;  // To prevent multiple clicks.\n",
              "      quickchartButtonEl.classList.add('colab-df-spinner');\n",
              "      try {\n",
              "        const charts = await google.colab.kernel.invokeFunction(\n",
              "            'suggestCharts', [key], {});\n",
              "      } catch (error) {\n",
              "        console.error('Error during call to suggestCharts:', error);\n",
              "      }\n",
              "      quickchartButtonEl.classList.remove('colab-df-spinner');\n",
              "      quickchartButtonEl.classList.add('colab-df-quickchart-complete');\n",
              "    }\n",
              "    (() => {\n",
              "      let quickchartButtonEl =\n",
              "        document.querySelector('#df-2ea4927a-c500-4d6f-a9a9-47c9a56505be button');\n",
              "      quickchartButtonEl.style.display =\n",
              "        google.colab.kernel.accessAllowed ? 'block' : 'none';\n",
              "    })();\n",
              "  </script>\n",
              "</div>\n",
              "\n",
              "  <div id=\"id_d08e2bb9-eacd-45aa-b227-5b0a0aef2cb5\">\n",
              "    <style>\n",
              "      .colab-df-generate {\n",
              "        background-color: #E8F0FE;\n",
              "        border: none;\n",
              "        border-radius: 50%;\n",
              "        cursor: pointer;\n",
              "        display: none;\n",
              "        fill: #1967D2;\n",
              "        height: 32px;\n",
              "        padding: 0 0 0 0;\n",
              "        width: 32px;\n",
              "      }\n",
              "\n",
              "      .colab-df-generate:hover {\n",
              "        background-color: #E2EBFA;\n",
              "        box-shadow: 0px 1px 2px rgba(60, 64, 67, 0.3), 0px 1px 3px 1px rgba(60, 64, 67, 0.15);\n",
              "        fill: #174EA6;\n",
              "      }\n",
              "\n",
              "      [theme=dark] .colab-df-generate {\n",
              "        background-color: #3B4455;\n",
              "        fill: #D2E3FC;\n",
              "      }\n",
              "\n",
              "      [theme=dark] .colab-df-generate:hover {\n",
              "        background-color: #434B5C;\n",
              "        box-shadow: 0px 1px 3px 1px rgba(0, 0, 0, 0.15);\n",
              "        filter: drop-shadow(0px 1px 2px rgba(0, 0, 0, 0.3));\n",
              "        fill: #FFFFFF;\n",
              "      }\n",
              "    </style>\n",
              "    <button class=\"colab-df-generate\" onclick=\"generateWithVariable('df_novo_4')\"\n",
              "            title=\"Generate code using this dataframe.\"\n",
              "            style=\"display:none;\">\n",
              "\n",
              "  <svg xmlns=\"http://www.w3.org/2000/svg\" height=\"24px\"viewBox=\"0 0 24 24\"\n",
              "       width=\"24px\">\n",
              "    <path d=\"M7,19H8.4L18.45,9,17,7.55,7,17.6ZM5,21V16.75L18.45,3.32a2,2,0,0,1,2.83,0l1.4,1.43a1.91,1.91,0,0,1,.58,1.4,1.91,1.91,0,0,1-.58,1.4L9.25,21ZM18.45,9,17,7.55Zm-12,3A5.31,5.31,0,0,0,4.9,8.1,5.31,5.31,0,0,0,1,6.5,5.31,5.31,0,0,0,4.9,4.9,5.31,5.31,0,0,0,6.5,1,5.31,5.31,0,0,0,8.1,4.9,5.31,5.31,0,0,0,12,6.5,5.46,5.46,0,0,0,6.5,12Z\"/>\n",
              "  </svg>\n",
              "    </button>\n",
              "    <script>\n",
              "      (() => {\n",
              "      const buttonEl =\n",
              "        document.querySelector('#id_d08e2bb9-eacd-45aa-b227-5b0a0aef2cb5 button.colab-df-generate');\n",
              "      buttonEl.style.display =\n",
              "        google.colab.kernel.accessAllowed ? 'block' : 'none';\n",
              "\n",
              "      buttonEl.onclick = () => {\n",
              "        google.colab.notebook.generateWithVariable('df_novo_4');\n",
              "      }\n",
              "      })();\n",
              "    </script>\n",
              "  </div>\n",
              "\n",
              "    </div>\n",
              "  </div>\n"
            ],
            "application/vnd.google.colaboratory.intrinsic+json": {
              "type": "dataframe",
              "variable_name": "df_novo_4",
              "summary": "{\n  \"name\": \"df_novo_4\",\n  \"rows\": 47724,\n  \"fields\": [\n    {\n      \"column\": \"ano\",\n      \"properties\": {\n        \"dtype\": \"number\",\n        \"std\": 0.8026033454441183,\n        \"min\": 2020.0,\n        \"max\": 2022.0,\n        \"num_unique_values\": 3,\n        \"samples\": [\n          2022.0,\n          2021.0,\n          2020.0\n        ],\n        \"semantic_type\": \"\",\n        \"description\": \"\"\n      }\n    },\n    {\n      \"column\": \"mes\",\n      \"properties\": {\n        \"dtype\": \"number\",\n        \"std\": null,\n        \"min\": null,\n        \"max\": null,\n        \"num_unique_values\": 0,\n        \"samples\": [],\n        \"semantic_type\": \"\",\n        \"description\": \"\"\n      }\n    },\n    {\n      \"column\": \"senador\",\n      \"properties\": {\n        \"dtype\": \"category\",\n        \"num_unique_values\": 109,\n        \"samples\": [],\n        \"semantic_type\": \"\",\n        \"description\": \"\"\n      }\n    },\n    {\n      \"column\": \"despesa\",\n      \"properties\": {\n        \"dtype\": \"category\",\n        \"num_unique_values\": 8,\n        \"samples\": [],\n        \"semantic_type\": \"\",\n        \"description\": \"\"\n      }\n    },\n    {\n      \"column\": \"cnpj/cpf\",\n      \"properties\": {\n        \"dtype\": \"category\",\n        \"num_unique_values\": 5725,\n        \"samples\": [],\n        \"semantic_type\": \"\",\n        \"description\": \"\"\n      }\n    },\n    {\n      \"column\": \"fornecedot\",\n      \"properties\": {\n        \"dtype\": \"category\",\n        \"num_unique_values\": 6273,\n        \"samples\": [],\n        \"semantic_type\": \"\",\n        \"description\": \"\"\n      }\n    },\n    {\n      \"column\": \"data\",\n      \"properties\": {\n        \"dtype\": \"number\",\n        \"std\": 3.443143690899067,\n        \"min\": 1.0,\n        \"max\": 12.0,\n        \"num_unique_values\": 12,\n        \"samples\": [],\n        \"semantic_type\": \"\",\n        \"description\": \"\"\n      }\n    },\n    {\n      \"column\": \"detalhe\",\n      \"properties\": {\n        \"dtype\": \"category\",\n        \"num_unique_values\": 14401,\n        \"samples\": [],\n        \"semantic_type\": \"\",\n        \"description\": \"\"\n      }\n    },\n    {\n      \"column\": \"ULTIMA ATUALIZACAO\",\n      \"properties\": {\n        \"dtype\": \"category\",\n        \"num_unique_values\": 22758,\n        \"samples\": [],\n        \"semantic_type\": \"\",\n        \"description\": \"\"\n      }\n    }\n  ]\n}"
            }
          },
          "metadata": {},
          "execution_count": 113
        }
      ]
    }
  ]
}