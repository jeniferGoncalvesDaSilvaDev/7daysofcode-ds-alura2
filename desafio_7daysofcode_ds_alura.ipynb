{
  "nbformat": 4,
  "nbformat_minor": 0,
  "metadata": {
    "colab": {
      "provenance": [],
      "mount_file_id": "1F90c70oZdeJXQrKgZHClDNctIYdkY5on",
      "authorship_tag": "ABX9TyOmJoKL/noD2TS5Mmle+hUn",
      "include_colab_link": true
    },
    "kernelspec": {
      "name": "python3",
      "display_name": "Python 3"
    },
    "language_info": {
      "name": "python"
    }
  },
  "cells": [
    {
      "cell_type": "markdown",
      "metadata": {
        "id": "view-in-github",
        "colab_type": "text"
      },
      "source": [
        "<a href=\"https://colab.research.google.com/github/jeniferGoncalvesDaSilvaDev/7daysofcode-ds-alura2/blob/main/desafio_7daysofcode_ds_alura.ipynb\" target=\"_parent\"><img src=\"https://colab.research.google.com/assets/colab-badge.svg\" alt=\"Open In Colab\"/></a>"
      ]
    },
    {
      "cell_type": "code",
      "execution_count": 199,
      "metadata": {
        "id": "Cm2Jlji_yNtu"
      },
      "outputs": [],
      "source": [
        "import pandas as pd"
      ]
    },
    {
      "cell_type": "code",
      "source": [
        "\n",
        "\n",
        "# Lista de arquivos CSV\n",
        "lista_csv = [\"/content/drive/MyDrive/csv/despesa_ceaps_2022.csv\",\n",
        "             \"/content/drive/MyDrive/csv/despesa_ceaps_2021.csv\",\n",
        "             \"/content/drive/MyDrive/csv/despesa_ceaps_2020.csv\"]\n",
        "\n",
        "# Função para gerar DataFrames a partir de arquivos CSV\n",
        "def gerar_ds(lista_arquivos):\n",
        "    lista_ds = []\n",
        "    for arquivo in lista_arquivos:\n",
        "        try:\n",
        "            df = pd.read_csv(arquivo, encoding=\"latin-1\", sep=';', on_bad_lines='skip')\n",
        "            lista_ds.append(df)\n",
        "        except Exception as e:\n",
        "            print(f\"Erro ao carregar o arquivo {arquivo}: {e}\")\n",
        "    return lista_ds\n",
        "\n",
        "# Gerar a lista de DataFrames\n",
        "gerar_data = gerar_ds(lista_csv)\n",
        "\n",
        "# Concatenar todos os DataFrames em um único DataFrame\n",
        "df_unico = pd.concat(gerar_data, ignore_index=False)\n",
        "\n",
        "# Exibir os primeiros registros do DataFrame concatenado\n",
        "print(df_unico.head(4))"
      ],
      "metadata": {
        "colab": {
          "base_uri": "https://localhost:8080/"
        },
        "id": "ercI_csU1SgS",
        "outputId": "90016bb8-bb98-4abe-b4d7-82884e1cfe3e"
      },
      "execution_count": 200,
      "outputs": [
        {
          "output_type": "stream",
          "name": "stdout",
          "text": [
            "                                                                                                                                                                                                            ULTIMA ATUALIZACAO  \\\n",
            "ANO  MES SENADOR      TIPO_DESPESA                                       CNPJ_CPF           FORNECEDOR                      DOCUMENTO         DATA       DETALHAMENTO                                        VALOR_REEMBOLSADO   \n",
            "2022 1   ACIR GURGACZ Aluguel de imóveis para escritório político, co... 004.948.028-63     GILBERTO PISELO DO NASCIMENTO   001/22            03/01/2022 Despesa com pagamento de aluguel de imóvel para...               6000   \n",
            "                      Divulgação da atividade parlamentar                26.320.603/0001-64 INFORMANAHORA                   000000000000310/A 04/01/2022 Despesa com divulgação da atividade parlamentar...               1500   \n",
            "                                                                         13.659.201/0001-47 LINHA PURPURA FOTO E VIDEO LTDA 107               14/01/2022 Despesa com produção de texto e edição de vídeo...               6000   \n",
            "\n",
            "                                                                                                                                                                                                            22/09/2024 02:01  \\\n",
            "ANO  MES SENADOR      TIPO_DESPESA                                       CNPJ_CPF           FORNECEDOR                      DOCUMENTO         DATA       DETALHAMENTO                                          COD_DOCUMENTO   \n",
            "2022 1   ACIR GURGACZ Aluguel de imóveis para escritório político, co... 004.948.028-63     GILBERTO PISELO DO NASCIMENTO   001/22            03/01/2022 Despesa com pagamento de aluguel de imóvel para...          2173614   \n",
            "                      Divulgação da atividade parlamentar                26.320.603/0001-64 INFORMANAHORA                   000000000000310/A 04/01/2022 Despesa com divulgação da atividade parlamentar...          2173615   \n",
            "                                                                         13.659.201/0001-47 LINHA PURPURA FOTO E VIDEO LTDA 107               14/01/2022 Despesa com produção de texto e edição de vídeo...          2173616   \n",
            "\n",
            "                                                                                                                                                                                                            23/09/2024 02:00  \n",
            "ANO  MES SENADOR      TIPO_DESPESA                                       CNPJ_CPF           FORNECEDOR                      DOCUMENTO         DATA       DETALHAMENTO                                                    NaN  \n",
            "2022 1   ACIR GURGACZ Aluguel de imóveis para escritório político, co... 004.948.028-63     GILBERTO PISELO DO NASCIMENTO   001/22            03/01/2022 Despesa com pagamento de aluguel de imóvel para...              NaN  \n",
            "                      Divulgação da atividade parlamentar                26.320.603/0001-64 INFORMANAHORA                   000000000000310/A 04/01/2022 Despesa com divulgação da atividade parlamentar...              NaN  \n",
            "                                                                         13.659.201/0001-47 LINHA PURPURA FOTO E VIDEO LTDA 107               14/01/2022 Despesa com produção de texto e edição de vídeo...              NaN  \n"
          ]
        }
      ]
    },
    {
      "cell_type": "code",
      "source": [
        "df_unico.columns"
      ],
      "metadata": {
        "colab": {
          "base_uri": "https://localhost:8080/"
        },
        "id": "hasu-t5T1kQq",
        "outputId": "6ff76c6b-a6bb-4129-f6d7-035309aef729"
      },
      "execution_count": 201,
      "outputs": [
        {
          "output_type": "execute_result",
          "data": {
            "text/plain": [
              "Index(['ULTIMA ATUALIZACAO', '22/09/2024 02:01', '23/09/2024 02:00'], dtype='object')"
            ]
          },
          "metadata": {},
          "execution_count": 201
        }
      ]
    },
    {
      "cell_type": "code",
      "source": [
        "df_limpo = df_unico.drop(columns=['22/09/2024 02:01'])"
      ],
      "metadata": {
        "id": "_IWv7vTLQURy"
      },
      "execution_count": 202,
      "outputs": []
    },
    {
      "cell_type": "code",
      "source": [
        "df_limpo = df_unico.drop(columns=['23/09/2024 02:00'])"
      ],
      "metadata": {
        "id": "0yx__KoSRNMh"
      },
      "execution_count": 203,
      "outputs": []
    },
    {
      "cell_type": "code",
      "source": [
        "df_limpo.columns"
      ],
      "metadata": {
        "id": "-FzvE2dlRTgl",
        "outputId": "3d6f1feb-a7ab-4607-b462-a4576feb430c",
        "colab": {
          "base_uri": "https://localhost:8080/"
        }
      },
      "execution_count": 204,
      "outputs": [
        {
          "output_type": "execute_result",
          "data": {
            "text/plain": [
              "Index(['ULTIMA ATUALIZACAO', '22/09/2024 02:01'], dtype='object')"
            ]
          },
          "metadata": {},
          "execution_count": 204
        }
      ]
    },
    {
      "cell_type": "code",
      "source": [
        "df_limpo = df_unico.drop(columns=['22/09/2024 02:01'])"
      ],
      "metadata": {
        "id": "Zncc2VHsRcSP"
      },
      "execution_count": 205,
      "outputs": []
    },
    {
      "cell_type": "code",
      "source": [
        "df_limpo.columns"
      ],
      "metadata": {
        "id": "QHmhWLRKRg3u",
        "outputId": "df44961e-37a8-4f7c-ce9e-42d637fa4e16",
        "colab": {
          "base_uri": "https://localhost:8080/"
        }
      },
      "execution_count": 206,
      "outputs": [
        {
          "output_type": "execute_result",
          "data": {
            "text/plain": [
              "Index(['ULTIMA ATUALIZACAO', '23/09/2024 02:00'], dtype='object')"
            ]
          },
          "metadata": {},
          "execution_count": 206
        }
      ]
    },
    {
      "cell_type": "code",
      "source": [
        "df_limpo = df_unico.drop(columns=['23/09/2024 02:00'])"
      ],
      "metadata": {
        "id": "qvCQM2elRk8n"
      },
      "execution_count": 207,
      "outputs": []
    },
    {
      "cell_type": "code",
      "source": [
        "df_limpo.columns"
      ],
      "metadata": {
        "id": "wWNHfhvyRs4x",
        "outputId": "4b22d755-e1f4-493b-e052-347d53be8847",
        "colab": {
          "base_uri": "https://localhost:8080/"
        }
      },
      "execution_count": 208,
      "outputs": [
        {
          "output_type": "execute_result",
          "data": {
            "text/plain": [
              "Index(['ULTIMA ATUALIZACAO', '22/09/2024 02:01'], dtype='object')"
            ]
          },
          "metadata": {},
          "execution_count": 208
        }
      ]
    },
    {
      "cell_type": "code",
      "source": [
        "df_novo = pd.DataFrame(df_limpo['ULTIMA ATUALIZACAO'])"
      ],
      "metadata": {
        "id": "VaQO_rJaawXK"
      },
      "execution_count": 209,
      "outputs": []
    },
    {
      "cell_type": "code",
      "source": [
        "print(df_novo)"
      ],
      "metadata": {
        "id": "EixKN7pphNHL",
        "outputId": "5d2ab7c1-61fe-4dac-dc8b-298b5a146c6b",
        "colab": {
          "base_uri": "https://localhost:8080/"
        }
      },
      "execution_count": 210,
      "outputs": [
        {
          "output_type": "stream",
          "name": "stdout",
          "text": [
            "                                                                                                                                                                                                                  ULTIMA ATUALIZACAO\n",
            "ANO  MES SENADOR          TIPO_DESPESA                                       CNPJ_CPF           FORNECEDOR                        DOCUMENTO         DATA       DETALHAMENTO                                        VALOR_REEMBOLSADO\n",
            "2022 1   ACIR GURGACZ     Aluguel de imóveis para escritório político, co... 004.948.028-63     GILBERTO PISELO DO NASCIMENTO     001/22            03/01/2022 Despesa com pagamento de aluguel de imóvel para...               6000\n",
            "                          Divulgação da atividade parlamentar                26.320.603/0001-64 INFORMANAHORA                     000000000000310/A 04/01/2022 Despesa com divulgação da atividade parlamentar...               1500\n",
            "                                                                             13.659.201/0001-47 LINHA PURPURA FOTO E VIDEO LTDA   107               14/01/2022 Despesa com produção de texto e edição de vídeo...               6000\n",
            "                                                                             23.652.846/0001-01 ROBERTO GUTIERREZ DA ROCHA M.E.I. 187               18/01/2022 Divulgação da atividade parlamentar                              1000\n",
            "...                                                                                                                                                                                                                              ...\n",
            "2020 12  ZEQUINHA MARINHO Passagens aéreas, aquáticas e terrestres nacionais 22.052.777/0001-32 Exceller Tour                     TJ9NGF            08/12/2020 Companhia Aérea: GOL, Localizador: TJ9NGF. Pass...            1654,46\n",
            "                                                                                                                                  QN9KHE            09/12/2020 Companhia Aérea: AZUL, Localizador: QN9KHE. Pas...            1121,83\n",
            "                                                                                                                                  QIGVKT            14/12/2020 Companhia Aérea: AZUL, Localizador: QIGVKT. Pas...             549,47\n",
            "                                                                                                                                  QDHKYF            14/12/2020 Companhia Aérea: AZUL, Localizador: QDHKYF. Pas...             831,05\n",
            "                                                                                                                                  BQWCVK            18/12/2020 Companhia Aérea: GOL, Localizador: BQWCVK. Pass...            2026,12\n",
            "\n",
            "[47725 rows x 1 columns]\n"
          ]
        }
      ]
    },
    {
      "cell_type": "code",
      "source": [
        "df_novo.index"
      ],
      "metadata": {
        "id": "HkO5I-vSiTSX",
        "outputId": "ff32cac2-654d-4a98-a613-07b02b00421d",
        "colab": {
          "base_uri": "https://localhost:8080/"
        }
      },
      "execution_count": 211,
      "outputs": [
        {
          "output_type": "execute_result",
          "data": {
            "text/plain": [
              "MultiIndex([( 'ANO', 'MES',          'SENADOR', ...),\n",
              "            ('2022',   '1',     'ACIR GURGACZ', ...),\n",
              "            ('2022',   '1',     'ACIR GURGACZ', ...),\n",
              "            ('2022',   '1',     'ACIR GURGACZ', ...),\n",
              "            ('2022',   '1',     'ACIR GURGACZ', ...),\n",
              "            ('2022',   '1',     'ACIR GURGACZ', ...),\n",
              "            ('2022',   '1',     'ACIR GURGACZ', ...),\n",
              "            ('2022',   '2',     'ACIR GURGACZ', ...),\n",
              "            ('2022',   '2',     'ACIR GURGACZ', ...),\n",
              "            ('2022',   '2',     'ACIR GURGACZ', ...),\n",
              "            ...\n",
              "            ('2020',  '12', 'ZEQUINHA MARINHO', ...),\n",
              "            ('2020',  '12', 'ZEQUINHA MARINHO', ...),\n",
              "            ('2020',  '12', 'ZEQUINHA MARINHO', ...),\n",
              "            ('2020',  '12', 'ZEQUINHA MARINHO', ...),\n",
              "            ('2020',  '12', 'ZEQUINHA MARINHO', ...),\n",
              "            ('2020',  '12', 'ZEQUINHA MARINHO', ...),\n",
              "            ('2020',  '12', 'ZEQUINHA MARINHO', ...),\n",
              "            ('2020',  '12', 'ZEQUINHA MARINHO', ...),\n",
              "            ('2020',  '12', 'ZEQUINHA MARINHO', ...),\n",
              "            ('2020',  '12', 'ZEQUINHA MARINHO', ...)],\n",
              "           length=47725)"
            ]
          },
          "metadata": {},
          "execution_count": 211
        }
      ]
    },
    {
      "cell_type": "code",
      "source": [
        "colunas= df_novo.index[0]"
      ],
      "metadata": {
        "id": "iJpIvolYql9U"
      },
      "execution_count": 223,
      "outputs": []
    },
    {
      "cell_type": "code",
      "source": [
        "def criar_lista_itens_df():\n",
        "   lista_itens =[]\n",
        "   for i in df_novo.index:\n",
        "     lista_itens.append(df_novo.index[1:])\n",
        "   return  lista_itens"
      ],
      "metadata": {
        "id": "grNw_0LaqyOL"
      },
      "execution_count": 238,
      "outputs": []
    },
    {
      "cell_type": "code",
      "source": [
        "lista_itens= criar_lista_itens_df()\n",
        "print(lista_itens[0:10])"
      ],
      "metadata": {
        "id": "MgwusFhPrdfQ",
        "outputId": "b94f7276-308d-4381-e7e8-699aab5aedae",
        "colab": {
          "base_uri": "https://localhost:8080/"
        }
      },
      "execution_count": 247,
      "outputs": [
        {
          "output_type": "stream",
          "name": "stdout",
          "text": [
            "[MultiIndex([('2022',  '1',     'ACIR GURGACZ', ...),\n",
            "            ('2022',  '1',     'ACIR GURGACZ', ...),\n",
            "            ('2022',  '1',     'ACIR GURGACZ', ...),\n",
            "            ('2022',  '1',     'ACIR GURGACZ', ...),\n",
            "            ('2022',  '1',     'ACIR GURGACZ', ...),\n",
            "            ('2022',  '1',     'ACIR GURGACZ', ...),\n",
            "            ('2022',  '2',     'ACIR GURGACZ', ...),\n",
            "            ('2022',  '2',     'ACIR GURGACZ', ...),\n",
            "            ('2022',  '2',     'ACIR GURGACZ', ...),\n",
            "            ('2022',  '2',     'ACIR GURGACZ', ...),\n",
            "            ...\n",
            "            ('2020', '12', 'ZEQUINHA MARINHO', ...),\n",
            "            ('2020', '12', 'ZEQUINHA MARINHO', ...),\n",
            "            ('2020', '12', 'ZEQUINHA MARINHO', ...),\n",
            "            ('2020', '12', 'ZEQUINHA MARINHO', ...),\n",
            "            ('2020', '12', 'ZEQUINHA MARINHO', ...),\n",
            "            ('2020', '12', 'ZEQUINHA MARINHO', ...),\n",
            "            ('2020', '12', 'ZEQUINHA MARINHO', ...),\n",
            "            ('2020', '12', 'ZEQUINHA MARINHO', ...),\n",
            "            ('2020', '12', 'ZEQUINHA MARINHO', ...),\n",
            "            ('2020', '12', 'ZEQUINHA MARINHO', ...)],\n",
            "           length=47724), MultiIndex([('2022',  '1',     'ACIR GURGACZ', ...),\n",
            "            ('2022',  '1',     'ACIR GURGACZ', ...),\n",
            "            ('2022',  '1',     'ACIR GURGACZ', ...),\n",
            "            ('2022',  '1',     'ACIR GURGACZ', ...),\n",
            "            ('2022',  '1',     'ACIR GURGACZ', ...),\n",
            "            ('2022',  '1',     'ACIR GURGACZ', ...),\n",
            "            ('2022',  '2',     'ACIR GURGACZ', ...),\n",
            "            ('2022',  '2',     'ACIR GURGACZ', ...),\n",
            "            ('2022',  '2',     'ACIR GURGACZ', ...),\n",
            "            ('2022',  '2',     'ACIR GURGACZ', ...),\n",
            "            ...\n",
            "            ('2020', '12', 'ZEQUINHA MARINHO', ...),\n",
            "            ('2020', '12', 'ZEQUINHA MARINHO', ...),\n",
            "            ('2020', '12', 'ZEQUINHA MARINHO', ...),\n",
            "            ('2020', '12', 'ZEQUINHA MARINHO', ...),\n",
            "            ('2020', '12', 'ZEQUINHA MARINHO', ...),\n",
            "            ('2020', '12', 'ZEQUINHA MARINHO', ...),\n",
            "            ('2020', '12', 'ZEQUINHA MARINHO', ...),\n",
            "            ('2020', '12', 'ZEQUINHA MARINHO', ...),\n",
            "            ('2020', '12', 'ZEQUINHA MARINHO', ...),\n",
            "            ('2020', '12', 'ZEQUINHA MARINHO', ...)],\n",
            "           length=47724), MultiIndex([('2022',  '1',     'ACIR GURGACZ', ...),\n",
            "            ('2022',  '1',     'ACIR GURGACZ', ...),\n",
            "            ('2022',  '1',     'ACIR GURGACZ', ...),\n",
            "            ('2022',  '1',     'ACIR GURGACZ', ...),\n",
            "            ('2022',  '1',     'ACIR GURGACZ', ...),\n",
            "            ('2022',  '1',     'ACIR GURGACZ', ...),\n",
            "            ('2022',  '2',     'ACIR GURGACZ', ...),\n",
            "            ('2022',  '2',     'ACIR GURGACZ', ...),\n",
            "            ('2022',  '2',     'ACIR GURGACZ', ...),\n",
            "            ('2022',  '2',     'ACIR GURGACZ', ...),\n",
            "            ...\n",
            "            ('2020', '12', 'ZEQUINHA MARINHO', ...),\n",
            "            ('2020', '12', 'ZEQUINHA MARINHO', ...),\n",
            "            ('2020', '12', 'ZEQUINHA MARINHO', ...),\n",
            "            ('2020', '12', 'ZEQUINHA MARINHO', ...),\n",
            "            ('2020', '12', 'ZEQUINHA MARINHO', ...),\n",
            "            ('2020', '12', 'ZEQUINHA MARINHO', ...),\n",
            "            ('2020', '12', 'ZEQUINHA MARINHO', ...),\n",
            "            ('2020', '12', 'ZEQUINHA MARINHO', ...),\n",
            "            ('2020', '12', 'ZEQUINHA MARINHO', ...),\n",
            "            ('2020', '12', 'ZEQUINHA MARINHO', ...)],\n",
            "           length=47724), MultiIndex([('2022',  '1',     'ACIR GURGACZ', ...),\n",
            "            ('2022',  '1',     'ACIR GURGACZ', ...),\n",
            "            ('2022',  '1',     'ACIR GURGACZ', ...),\n",
            "            ('2022',  '1',     'ACIR GURGACZ', ...),\n",
            "            ('2022',  '1',     'ACIR GURGACZ', ...),\n",
            "            ('2022',  '1',     'ACIR GURGACZ', ...),\n",
            "            ('2022',  '2',     'ACIR GURGACZ', ...),\n",
            "            ('2022',  '2',     'ACIR GURGACZ', ...),\n",
            "            ('2022',  '2',     'ACIR GURGACZ', ...),\n",
            "            ('2022',  '2',     'ACIR GURGACZ', ...),\n",
            "            ...\n",
            "            ('2020', '12', 'ZEQUINHA MARINHO', ...),\n",
            "            ('2020', '12', 'ZEQUINHA MARINHO', ...),\n",
            "            ('2020', '12', 'ZEQUINHA MARINHO', ...),\n",
            "            ('2020', '12', 'ZEQUINHA MARINHO', ...),\n",
            "            ('2020', '12', 'ZEQUINHA MARINHO', ...),\n",
            "            ('2020', '12', 'ZEQUINHA MARINHO', ...),\n",
            "            ('2020', '12', 'ZEQUINHA MARINHO', ...),\n",
            "            ('2020', '12', 'ZEQUINHA MARINHO', ...),\n",
            "            ('2020', '12', 'ZEQUINHA MARINHO', ...),\n",
            "            ('2020', '12', 'ZEQUINHA MARINHO', ...)],\n",
            "           length=47724), MultiIndex([('2022',  '1',     'ACIR GURGACZ', ...),\n",
            "            ('2022',  '1',     'ACIR GURGACZ', ...),\n",
            "            ('2022',  '1',     'ACIR GURGACZ', ...),\n",
            "            ('2022',  '1',     'ACIR GURGACZ', ...),\n",
            "            ('2022',  '1',     'ACIR GURGACZ', ...),\n",
            "            ('2022',  '1',     'ACIR GURGACZ', ...),\n",
            "            ('2022',  '2',     'ACIR GURGACZ', ...),\n",
            "            ('2022',  '2',     'ACIR GURGACZ', ...),\n",
            "            ('2022',  '2',     'ACIR GURGACZ', ...),\n",
            "            ('2022',  '2',     'ACIR GURGACZ', ...),\n",
            "            ...\n",
            "            ('2020', '12', 'ZEQUINHA MARINHO', ...),\n",
            "            ('2020', '12', 'ZEQUINHA MARINHO', ...),\n",
            "            ('2020', '12', 'ZEQUINHA MARINHO', ...),\n",
            "            ('2020', '12', 'ZEQUINHA MARINHO', ...),\n",
            "            ('2020', '12', 'ZEQUINHA MARINHO', ...),\n",
            "            ('2020', '12', 'ZEQUINHA MARINHO', ...),\n",
            "            ('2020', '12', 'ZEQUINHA MARINHO', ...),\n",
            "            ('2020', '12', 'ZEQUINHA MARINHO', ...),\n",
            "            ('2020', '12', 'ZEQUINHA MARINHO', ...),\n",
            "            ('2020', '12', 'ZEQUINHA MARINHO', ...)],\n",
            "           length=47724), MultiIndex([('2022',  '1',     'ACIR GURGACZ', ...),\n",
            "            ('2022',  '1',     'ACIR GURGACZ', ...),\n",
            "            ('2022',  '1',     'ACIR GURGACZ', ...),\n",
            "            ('2022',  '1',     'ACIR GURGACZ', ...),\n",
            "            ('2022',  '1',     'ACIR GURGACZ', ...),\n",
            "            ('2022',  '1',     'ACIR GURGACZ', ...),\n",
            "            ('2022',  '2',     'ACIR GURGACZ', ...),\n",
            "            ('2022',  '2',     'ACIR GURGACZ', ...),\n",
            "            ('2022',  '2',     'ACIR GURGACZ', ...),\n",
            "            ('2022',  '2',     'ACIR GURGACZ', ...),\n",
            "            ...\n",
            "            ('2020', '12', 'ZEQUINHA MARINHO', ...),\n",
            "            ('2020', '12', 'ZEQUINHA MARINHO', ...),\n",
            "            ('2020', '12', 'ZEQUINHA MARINHO', ...),\n",
            "            ('2020', '12', 'ZEQUINHA MARINHO', ...),\n",
            "            ('2020', '12', 'ZEQUINHA MARINHO', ...),\n",
            "            ('2020', '12', 'ZEQUINHA MARINHO', ...),\n",
            "            ('2020', '12', 'ZEQUINHA MARINHO', ...),\n",
            "            ('2020', '12', 'ZEQUINHA MARINHO', ...),\n",
            "            ('2020', '12', 'ZEQUINHA MARINHO', ...),\n",
            "            ('2020', '12', 'ZEQUINHA MARINHO', ...)],\n",
            "           length=47724), MultiIndex([('2022',  '1',     'ACIR GURGACZ', ...),\n",
            "            ('2022',  '1',     'ACIR GURGACZ', ...),\n",
            "            ('2022',  '1',     'ACIR GURGACZ', ...),\n",
            "            ('2022',  '1',     'ACIR GURGACZ', ...),\n",
            "            ('2022',  '1',     'ACIR GURGACZ', ...),\n",
            "            ('2022',  '1',     'ACIR GURGACZ', ...),\n",
            "            ('2022',  '2',     'ACIR GURGACZ', ...),\n",
            "            ('2022',  '2',     'ACIR GURGACZ', ...),\n",
            "            ('2022',  '2',     'ACIR GURGACZ', ...),\n",
            "            ('2022',  '2',     'ACIR GURGACZ', ...),\n",
            "            ...\n",
            "            ('2020', '12', 'ZEQUINHA MARINHO', ...),\n",
            "            ('2020', '12', 'ZEQUINHA MARINHO', ...),\n",
            "            ('2020', '12', 'ZEQUINHA MARINHO', ...),\n",
            "            ('2020', '12', 'ZEQUINHA MARINHO', ...),\n",
            "            ('2020', '12', 'ZEQUINHA MARINHO', ...),\n",
            "            ('2020', '12', 'ZEQUINHA MARINHO', ...),\n",
            "            ('2020', '12', 'ZEQUINHA MARINHO', ...),\n",
            "            ('2020', '12', 'ZEQUINHA MARINHO', ...),\n",
            "            ('2020', '12', 'ZEQUINHA MARINHO', ...),\n",
            "            ('2020', '12', 'ZEQUINHA MARINHO', ...)],\n",
            "           length=47724), MultiIndex([('2022',  '1',     'ACIR GURGACZ', ...),\n",
            "            ('2022',  '1',     'ACIR GURGACZ', ...),\n",
            "            ('2022',  '1',     'ACIR GURGACZ', ...),\n",
            "            ('2022',  '1',     'ACIR GURGACZ', ...),\n",
            "            ('2022',  '1',     'ACIR GURGACZ', ...),\n",
            "            ('2022',  '1',     'ACIR GURGACZ', ...),\n",
            "            ('2022',  '2',     'ACIR GURGACZ', ...),\n",
            "            ('2022',  '2',     'ACIR GURGACZ', ...),\n",
            "            ('2022',  '2',     'ACIR GURGACZ', ...),\n",
            "            ('2022',  '2',     'ACIR GURGACZ', ...),\n",
            "            ...\n",
            "            ('2020', '12', 'ZEQUINHA MARINHO', ...),\n",
            "            ('2020', '12', 'ZEQUINHA MARINHO', ...),\n",
            "            ('2020', '12', 'ZEQUINHA MARINHO', ...),\n",
            "            ('2020', '12', 'ZEQUINHA MARINHO', ...),\n",
            "            ('2020', '12', 'ZEQUINHA MARINHO', ...),\n",
            "            ('2020', '12', 'ZEQUINHA MARINHO', ...),\n",
            "            ('2020', '12', 'ZEQUINHA MARINHO', ...),\n",
            "            ('2020', '12', 'ZEQUINHA MARINHO', ...),\n",
            "            ('2020', '12', 'ZEQUINHA MARINHO', ...),\n",
            "            ('2020', '12', 'ZEQUINHA MARINHO', ...)],\n",
            "           length=47724), MultiIndex([('2022',  '1',     'ACIR GURGACZ', ...),\n",
            "            ('2022',  '1',     'ACIR GURGACZ', ...),\n",
            "            ('2022',  '1',     'ACIR GURGACZ', ...),\n",
            "            ('2022',  '1',     'ACIR GURGACZ', ...),\n",
            "            ('2022',  '1',     'ACIR GURGACZ', ...),\n",
            "            ('2022',  '1',     'ACIR GURGACZ', ...),\n",
            "            ('2022',  '2',     'ACIR GURGACZ', ...),\n",
            "            ('2022',  '2',     'ACIR GURGACZ', ...),\n",
            "            ('2022',  '2',     'ACIR GURGACZ', ...),\n",
            "            ('2022',  '2',     'ACIR GURGACZ', ...),\n",
            "            ...\n",
            "            ('2020', '12', 'ZEQUINHA MARINHO', ...),\n",
            "            ('2020', '12', 'ZEQUINHA MARINHO', ...),\n",
            "            ('2020', '12', 'ZEQUINHA MARINHO', ...),\n",
            "            ('2020', '12', 'ZEQUINHA MARINHO', ...),\n",
            "            ('2020', '12', 'ZEQUINHA MARINHO', ...),\n",
            "            ('2020', '12', 'ZEQUINHA MARINHO', ...),\n",
            "            ('2020', '12', 'ZEQUINHA MARINHO', ...),\n",
            "            ('2020', '12', 'ZEQUINHA MARINHO', ...),\n",
            "            ('2020', '12', 'ZEQUINHA MARINHO', ...),\n",
            "            ('2020', '12', 'ZEQUINHA MARINHO', ...)],\n",
            "           length=47724), MultiIndex([('2022',  '1',     'ACIR GURGACZ', ...),\n",
            "            ('2022',  '1',     'ACIR GURGACZ', ...),\n",
            "            ('2022',  '1',     'ACIR GURGACZ', ...),\n",
            "            ('2022',  '1',     'ACIR GURGACZ', ...),\n",
            "            ('2022',  '1',     'ACIR GURGACZ', ...),\n",
            "            ('2022',  '1',     'ACIR GURGACZ', ...),\n",
            "            ('2022',  '2',     'ACIR GURGACZ', ...),\n",
            "            ('2022',  '2',     'ACIR GURGACZ', ...),\n",
            "            ('2022',  '2',     'ACIR GURGACZ', ...),\n",
            "            ('2022',  '2',     'ACIR GURGACZ', ...),\n",
            "            ...\n",
            "            ('2020', '12', 'ZEQUINHA MARINHO', ...),\n",
            "            ('2020', '12', 'ZEQUINHA MARINHO', ...),\n",
            "            ('2020', '12', 'ZEQUINHA MARINHO', ...),\n",
            "            ('2020', '12', 'ZEQUINHA MARINHO', ...),\n",
            "            ('2020', '12', 'ZEQUINHA MARINHO', ...),\n",
            "            ('2020', '12', 'ZEQUINHA MARINHO', ...),\n",
            "            ('2020', '12', 'ZEQUINHA MARINHO', ...),\n",
            "            ('2020', '12', 'ZEQUINHA MARINHO', ...),\n",
            "            ('2020', '12', 'ZEQUINHA MARINHO', ...),\n",
            "            ('2020', '12', 'ZEQUINHA MARINHO', ...)],\n",
            "           length=47724)]\n"
          ]
        }
      ]
    },
    {
      "cell_type": "code",
      "source": [
        "df_novo_2 = pd.DataFrame(lista_itens)\n",
        "print(df_novo_2)"
      ],
      "metadata": {
        "id": "y1-Dc8mZy20w"
      },
      "execution_count": null,
      "outputs": []
    }
  ]
}