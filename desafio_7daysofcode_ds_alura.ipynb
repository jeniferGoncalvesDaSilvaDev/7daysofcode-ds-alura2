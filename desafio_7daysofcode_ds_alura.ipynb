{
  "nbformat": 4,
  "nbformat_minor": 0,
  "metadata": {
    "colab": {
      "provenance": [],
      "mount_file_id": "1F90c70oZdeJXQrKgZHClDNctIYdkY5on",
      "authorship_tag": "ABX9TyP8zYey+dgntJJaeuEthtLR",
      "include_colab_link": true
    },
    "kernelspec": {
      "name": "python3",
      "display_name": "Python 3"
    },
    "language_info": {
      "name": "python"
    }
  },
  "cells": [
    {
      "cell_type": "markdown",
      "metadata": {
        "id": "view-in-github",
        "colab_type": "text"
      },
      "source": [
        "<a href=\"https://colab.research.google.com/github/jeniferGoncalvesDaSilvaDev/7daysofcode-ds-alura2/blob/main/desafio_7daysofcode_ds_alura.ipynb\" target=\"_parent\"><img src=\"https://colab.research.google.com/assets/colab-badge.svg\" alt=\"Open In Colab\"/></a>"
      ]
    },
    {
      "cell_type": "code",
      "execution_count": 198,
      "metadata": {
        "id": "Cm2Jlji_yNtu"
      },
      "outputs": [],
      "source": [
        "import pandas as pd"
      ]
    },
    {
      "cell_type": "code",
      "source": [
        "\n",
        "\n",
        "# Lista de arquivos CSV\n",
        "lista_csv = [\"/content/drive/MyDrive/csv/despesa_ceaps_2022.csv\",\n",
        "             \"/content/drive/MyDrive/csv/despesa_ceaps_2021.csv\",\n",
        "             \"/content/drive/MyDrive/csv/despesa_ceaps_2020.csv\"]\n",
        "\n",
        "# Função para gerar DataFrames a partir de arquivos CSV\n",
        "def gerar_ds(lista_arquivos):\n",
        "    lista_ds = []\n",
        "    for arquivo in lista_arquivos:\n",
        "        try:\n",
        "            df = pd.read_csv(arquivo, encoding=\"latin-1\", sep=';', on_bad_lines='skip')\n",
        "            lista_ds.append(df)\n",
        "        except Exception as e:\n",
        "            print(f\"Erro ao carregar o arquivo {arquivo}: {e}\")\n",
        "    return lista_ds\n",
        "\n",
        "# Gerar a lista de DataFrames\n",
        "gerar_data = gerar_ds(lista_csv)\n",
        "\n",
        "# Concatenar todos os DataFrames em um único DataFrame\n",
        "df_unico = pd.concat(gerar_data, ignore_index=False)\n",
        "\n",
        "# Exibir os primeiros registros do DataFrame concatenado\n",
        "print(df_unico.head(4))"
      ],
      "metadata": {
        "colab": {
          "base_uri": "https://localhost:8080/"
        },
        "id": "ercI_csU1SgS",
        "outputId": "b0669c15-2879-4441-9037-15151787c035"
      },
      "execution_count": 199,
      "outputs": [
        {
          "output_type": "stream",
          "name": "stdout",
          "text": [
            "                                                                                                                                                                                                            ULTIMA ATUALIZACAO  \\\n",
            "ANO  MES SENADOR      TIPO_DESPESA                                       CNPJ_CPF           FORNECEDOR                      DOCUMENTO         DATA       DETALHAMENTO                                        VALOR_REEMBOLSADO   \n",
            "2022 1   ACIR GURGACZ Aluguel de imóveis para escritório político, co... 004.948.028-63     GILBERTO PISELO DO NASCIMENTO   001/22            03/01/2022 Despesa com pagamento de aluguel de imóvel para...               6000   \n",
            "                      Divulgação da atividade parlamentar                26.320.603/0001-64 INFORMANAHORA                   000000000000310/A 04/01/2022 Despesa com divulgação da atividade parlamentar...               1500   \n",
            "                                                                         13.659.201/0001-47 LINHA PURPURA FOTO E VIDEO LTDA 107               14/01/2022 Despesa com produção de texto e edição de vídeo...               6000   \n",
            "\n",
            "                                                                                                                                                                                                            22/09/2024 02:01  \\\n",
            "ANO  MES SENADOR      TIPO_DESPESA                                       CNPJ_CPF           FORNECEDOR                      DOCUMENTO         DATA       DETALHAMENTO                                          COD_DOCUMENTO   \n",
            "2022 1   ACIR GURGACZ Aluguel de imóveis para escritório político, co... 004.948.028-63     GILBERTO PISELO DO NASCIMENTO   001/22            03/01/2022 Despesa com pagamento de aluguel de imóvel para...          2173614   \n",
            "                      Divulgação da atividade parlamentar                26.320.603/0001-64 INFORMANAHORA                   000000000000310/A 04/01/2022 Despesa com divulgação da atividade parlamentar...          2173615   \n",
            "                                                                         13.659.201/0001-47 LINHA PURPURA FOTO E VIDEO LTDA 107               14/01/2022 Despesa com produção de texto e edição de vídeo...          2173616   \n",
            "\n",
            "                                                                                                                                                                                                            23/09/2024 02:00  \n",
            "ANO  MES SENADOR      TIPO_DESPESA                                       CNPJ_CPF           FORNECEDOR                      DOCUMENTO         DATA       DETALHAMENTO                                                    NaN  \n",
            "2022 1   ACIR GURGACZ Aluguel de imóveis para escritório político, co... 004.948.028-63     GILBERTO PISELO DO NASCIMENTO   001/22            03/01/2022 Despesa com pagamento de aluguel de imóvel para...              NaN  \n",
            "                      Divulgação da atividade parlamentar                26.320.603/0001-64 INFORMANAHORA                   000000000000310/A 04/01/2022 Despesa com divulgação da atividade parlamentar...              NaN  \n",
            "                                                                         13.659.201/0001-47 LINHA PURPURA FOTO E VIDEO LTDA 107               14/01/2022 Despesa com produção de texto e edição de vídeo...              NaN  \n"
          ]
        }
      ]
    },
    {
      "cell_type": "code",
      "source": [
        "df_unico.columns"
      ],
      "metadata": {
        "colab": {
          "base_uri": "https://localhost:8080/"
        },
        "id": "hasu-t5T1kQq",
        "outputId": "775347e2-4e9d-4130-c931-81b43c0fc898"
      },
      "execution_count": 200,
      "outputs": [
        {
          "output_type": "execute_result",
          "data": {
            "text/plain": [
              "Index(['ULTIMA ATUALIZACAO', '22/09/2024 02:01', '23/09/2024 02:00'], dtype='object')"
            ]
          },
          "metadata": {},
          "execution_count": 200
        }
      ]
    },
    {
      "cell_type": "code",
      "source": [
        "df_limpo = df_unico.drop(columns=['22/09/2024 02:01'])"
      ],
      "metadata": {
        "id": "_IWv7vTLQURy"
      },
      "execution_count": 201,
      "outputs": []
    },
    {
      "cell_type": "code",
      "source": [
        "df_limpo = df_unico.drop(columns=['23/09/2024 02:00'])"
      ],
      "metadata": {
        "id": "0yx__KoSRNMh"
      },
      "execution_count": 202,
      "outputs": []
    },
    {
      "cell_type": "code",
      "source": [
        "df_limpo.columns"
      ],
      "metadata": {
        "id": "-FzvE2dlRTgl",
        "outputId": "57a2af94-e2ba-4003-cb6a-18284ed794f4",
        "colab": {
          "base_uri": "https://localhost:8080/"
        }
      },
      "execution_count": 203,
      "outputs": [
        {
          "output_type": "execute_result",
          "data": {
            "text/plain": [
              "Index(['ULTIMA ATUALIZACAO', '22/09/2024 02:01'], dtype='object')"
            ]
          },
          "metadata": {},
          "execution_count": 203
        }
      ]
    },
    {
      "cell_type": "code",
      "source": [
        "df_limpo = df_unico.drop(columns=['22/09/2024 02:01'])"
      ],
      "metadata": {
        "id": "Zncc2VHsRcSP"
      },
      "execution_count": 204,
      "outputs": []
    },
    {
      "cell_type": "code",
      "source": [
        "df_limpo.columns"
      ],
      "metadata": {
        "id": "QHmhWLRKRg3u",
        "outputId": "f1cf7e98-7ebd-4490-afb4-d7ff72bc23c3",
        "colab": {
          "base_uri": "https://localhost:8080/"
        }
      },
      "execution_count": 205,
      "outputs": [
        {
          "output_type": "execute_result",
          "data": {
            "text/plain": [
              "Index(['ULTIMA ATUALIZACAO', '23/09/2024 02:00'], dtype='object')"
            ]
          },
          "metadata": {},
          "execution_count": 205
        }
      ]
    },
    {
      "cell_type": "code",
      "source": [
        "df_limpo = df_unico.drop(columns=['23/09/2024 02:00'])"
      ],
      "metadata": {
        "id": "qvCQM2elRk8n"
      },
      "execution_count": 206,
      "outputs": []
    },
    {
      "cell_type": "code",
      "source": [
        "df_limpo.columns"
      ],
      "metadata": {
        "id": "wWNHfhvyRs4x",
        "outputId": "05de1071-8165-47d4-e2eb-9ebca5587665",
        "colab": {
          "base_uri": "https://localhost:8080/"
        }
      },
      "execution_count": 207,
      "outputs": [
        {
          "output_type": "execute_result",
          "data": {
            "text/plain": [
              "Index(['ULTIMA ATUALIZACAO', '22/09/2024 02:01'], dtype='object')"
            ]
          },
          "metadata": {},
          "execution_count": 207
        }
      ]
    },
    {
      "cell_type": "code",
      "source": [
        "df_novo = pd.DataFrame(df_limpo['ULTIMA ATUALIZACAO'])"
      ],
      "metadata": {
        "id": "VaQO_rJaawXK"
      },
      "execution_count": 208,
      "outputs": []
    },
    {
      "cell_type": "code",
      "source": [
        "print(df_novo)"
      ],
      "metadata": {
        "id": "EixKN7pphNHL",
        "outputId": "e6b79f02-39c9-4a03-9519-5655497af669",
        "colab": {
          "base_uri": "https://localhost:8080/"
        }
      },
      "execution_count": 209,
      "outputs": [
        {
          "output_type": "stream",
          "name": "stdout",
          "text": [
            "                                                                                                                                                                                                                  ULTIMA ATUALIZACAO\n",
            "ANO  MES SENADOR          TIPO_DESPESA                                       CNPJ_CPF           FORNECEDOR                        DOCUMENTO         DATA       DETALHAMENTO                                        VALOR_REEMBOLSADO\n",
            "2022 1   ACIR GURGACZ     Aluguel de imóveis para escritório político, co... 004.948.028-63     GILBERTO PISELO DO NASCIMENTO     001/22            03/01/2022 Despesa com pagamento de aluguel de imóvel para...               6000\n",
            "                          Divulgação da atividade parlamentar                26.320.603/0001-64 INFORMANAHORA                     000000000000310/A 04/01/2022 Despesa com divulgação da atividade parlamentar...               1500\n",
            "                                                                             13.659.201/0001-47 LINHA PURPURA FOTO E VIDEO LTDA   107               14/01/2022 Despesa com produção de texto e edição de vídeo...               6000\n",
            "                                                                             23.652.846/0001-01 ROBERTO GUTIERREZ DA ROCHA M.E.I. 187               18/01/2022 Divulgação da atividade parlamentar                              1000\n",
            "...                                                                                                                                                                                                                              ...\n",
            "2020 12  ZEQUINHA MARINHO Passagens aéreas, aquáticas e terrestres nacionais 22.052.777/0001-32 Exceller Tour                     TJ9NGF            08/12/2020 Companhia Aérea: GOL, Localizador: TJ9NGF. Pass...            1654,46\n",
            "                                                                                                                                  QN9KHE            09/12/2020 Companhia Aérea: AZUL, Localizador: QN9KHE. Pas...            1121,83\n",
            "                                                                                                                                  QIGVKT            14/12/2020 Companhia Aérea: AZUL, Localizador: QIGVKT. Pas...             549,47\n",
            "                                                                                                                                  QDHKYF            14/12/2020 Companhia Aérea: AZUL, Localizador: QDHKYF. Pas...             831,05\n",
            "                                                                                                                                  BQWCVK            18/12/2020 Companhia Aérea: GOL, Localizador: BQWCVK. Pass...            2026,12\n",
            "\n",
            "[47725 rows x 1 columns]\n"
          ]
        }
      ]
    },
    {
      "cell_type": "code",
      "source": [
        "df_novo.index"
      ],
      "metadata": {
        "id": "HkO5I-vSiTSX",
        "outputId": "842bd8d0-f41f-4873-d24f-b624ae1b02d2",
        "colab": {
          "base_uri": "https://localhost:8080/"
        }
      },
      "execution_count": 210,
      "outputs": [
        {
          "output_type": "execute_result",
          "data": {
            "text/plain": [
              "MultiIndex([( 'ANO', 'MES',          'SENADOR', ...),\n",
              "            ('2022',   '1',     'ACIR GURGACZ', ...),\n",
              "            ('2022',   '1',     'ACIR GURGACZ', ...),\n",
              "            ('2022',   '1',     'ACIR GURGACZ', ...),\n",
              "            ('2022',   '1',     'ACIR GURGACZ', ...),\n",
              "            ('2022',   '1',     'ACIR GURGACZ', ...),\n",
              "            ('2022',   '1',     'ACIR GURGACZ', ...),\n",
              "            ('2022',   '2',     'ACIR GURGACZ', ...),\n",
              "            ('2022',   '2',     'ACIR GURGACZ', ...),\n",
              "            ('2022',   '2',     'ACIR GURGACZ', ...),\n",
              "            ...\n",
              "            ('2020',  '12', 'ZEQUINHA MARINHO', ...),\n",
              "            ('2020',  '12', 'ZEQUINHA MARINHO', ...),\n",
              "            ('2020',  '12', 'ZEQUINHA MARINHO', ...),\n",
              "            ('2020',  '12', 'ZEQUINHA MARINHO', ...),\n",
              "            ('2020',  '12', 'ZEQUINHA MARINHO', ...),\n",
              "            ('2020',  '12', 'ZEQUINHA MARINHO', ...),\n",
              "            ('2020',  '12', 'ZEQUINHA MARINHO', ...),\n",
              "            ('2020',  '12', 'ZEQUINHA MARINHO', ...),\n",
              "            ('2020',  '12', 'ZEQUINHA MARINHO', ...),\n",
              "            ('2020',  '12', 'ZEQUINHA MARINHO', ...)],\n",
              "           length=47725)"
            ]
          },
          "metadata": {},
          "execution_count": 210
        }
      ]
    },
    {
      "cell_type": "code",
      "source": [
        "coluna= df_novo.index[0]\n",
        "print(colunas)"
      ],
      "metadata": {
        "id": "OXEAP8hP2vRj",
        "outputId": "6d259110-235a-4c5d-cac0-f56cbd88540e",
        "colab": {
          "base_uri": "https://localhost:8080/"
        }
      },
      "execution_count": 211,
      "outputs": [
        {
          "output_type": "stream",
          "name": "stdout",
          "text": [
            "('ANO', 'MES', 'SENADOR', 'TIPO_DESPESA', 'CNPJ_CPF', 'FORNECEDOR', 'DOCUMENTO', 'DATA', 'DETALHAMENTO')\n"
          ]
        }
      ]
    },
    {
      "cell_type": "code",
      "source": [
        "linhas = df_novo.index[1:]"
      ],
      "metadata": {
        "id": "pk0_EW6E21j1"
      },
      "execution_count": 212,
      "outputs": []
    },
    {
      "cell_type": "code",
      "source": [
        "print(linhas[0:5])"
      ],
      "metadata": {
        "id": "sKuLydJ328zG",
        "outputId": "6a7b6ca6-5865-47ae-ca98-ab6cb264b54a",
        "colab": {
          "base_uri": "https://localhost:8080/"
        }
      },
      "execution_count": 213,
      "outputs": [
        {
          "output_type": "stream",
          "name": "stdout",
          "text": [
            "MultiIndex([('2022', '1', 'ACIR GURGACZ', ...),\n",
            "            ('2022', '1', 'ACIR GURGACZ', ...),\n",
            "            ('2022', '1', 'ACIR GURGACZ', ...),\n",
            "            ('2022', '1', 'ACIR GURGACZ', ...),\n",
            "            ('2022', '1', 'ACIR GURGACZ', ...)],\n",
            "           )\n"
          ]
        }
      ]
    },
    {
      "cell_type": "code",
      "source": [
        "def criar_dict():\n",
        "    my_dict = {} # Create an empty dictionary\n",
        "    my_dict[\"ano\"] = coluna[0] # Remove the comma after coluna[0]\n",
        "    my_dict[\"mes\"] = coluna[1] # Remove the comma after coluna[1]\n",
        "    my_dict[\"senador\"] = coluna[2] # Remove the comma after coluna[2]\n",
        "    my_dict[\"despesa\"] = coluna[3] # Remove the comma after coluna[3]\n",
        "    my_dict[\"cnpj/cpf\"] = coluna[4] # Remove the comma after coluna[4]\n",
        "    my_dict[\"fornecedot\"] = coluna[5] # Remove the comma after coluna[5]\n",
        "    my_dict[\"documento\"] = coluna[6] # Remove the comma after coluna[6]\n",
        "    my_dict[\"data\"] = coluna[7] # Remove the comma after coluna[7]\n",
        "    my_dict[\"detalhe\"]= coluna[8] # Remove the comma after coluna[8]\n",
        "    return my_dict # Return the created dictionary"
      ],
      "metadata": {
        "id": "bX3tge1X5GzO"
      },
      "execution_count": 214,
      "outputs": []
    },
    {
      "cell_type": "code",
      "source": [
        "dict_columns= criar_dict()\n",
        "print(dict_columns)"
      ],
      "metadata": {
        "id": "OWo_br8H4wyu",
        "outputId": "b1ca1ddc-10b5-4600-ad55-efd4a3e17b0d",
        "colab": {
          "base_uri": "https://localhost:8080/"
        }
      },
      "execution_count": 215,
      "outputs": [
        {
          "output_type": "stream",
          "name": "stdout",
          "text": [
            "{'ano': 'ANO', 'mes': 'MES', 'senador': 'SENADOR', 'despesa': 'TIPO_DESPESA', 'cnpj/cpf': 'CNPJ_CPF', 'fornecedot': 'FORNECEDOR', 'documento': 'DOCUMENTO', 'data': 'DATA', 'detalhe': 'DETALHAMENTO'}\n"
          ]
        }
      ]
    },
    {
      "cell_type": "code",
      "source": [
        "linhas =list(linhas)"
      ],
      "metadata": {
        "id": "4oipFa_05eSW"
      },
      "execution_count": 216,
      "outputs": []
    },
    {
      "cell_type": "code",
      "source": [
        "def interar_linhas():\n",
        "    result = []  # Create a list to store the values\n",
        "    for i in range(len(linhas)):\n",
        "        inner_list = []  # Create a list for each inner list\n",
        "        for j in range(len(linhas[i])):\n",
        "            inner_list.append(linhas[i][j])\n",
        "        result.append(inner_list)  # Add the inner list to the result\n",
        "    return result  # Return the result list\n",
        "\n",
        "tela = interar_linhas()"
      ],
      "metadata": {
        "id": "i6OjrCKZHkiB"
      },
      "execution_count": 219,
      "outputs": []
    },
    {
      "cell_type": "code",
      "source": [
        "def dict_valores():\n",
        "    # Create a list to store the values extracted from linhas\n",
        "    values_list = []\n",
        "    for i in range(len(tela)):\n",
        "        for j in range(len(tela[i])):\n",
        "            values_list.append(tela[i][j]) #Removed unnecessary indent\n",
        "\n",
        "    # Update dict_valor with the values_list\n",
        "    for key, value in zip(dict_valor.keys(), values_list):\n",
        "        dict_valor[key] = value\n",
        "\n",
        "    return dict_valor\n",
        "\n",
        "result = dict_valores()\n",
        "df_novo_2 = pd.DataFrame(result, index=[0])\n",
        "print(df_novo_2)"
      ],
      "metadata": {
        "id": "co6HU1f8I3Ve",
        "outputId": "fa6435d9-3389-4e69-f230-9f823077de16",
        "colab": {
          "base_uri": "https://localhost:8080/"
        }
      },
      "execution_count": 223,
      "outputs": [
        {
          "output_type": "stream",
          "name": "stdout",
          "text": [
            "    ano mes       senador                                            despesa  \\\n",
            "0  2022   1  ACIR GURGACZ  Aluguel de imóveis para escritório político, c...   \n",
            "\n",
            "         cnpj/cpf                     fornecedot documento        data  \\\n",
            "0  004.948.028-63  GILBERTO PISELO DO NASCIMENTO    001/22  03/01/2022   \n",
            "\n",
            "                                             detalhe  \n",
            "0  Despesa com pagamento de aluguel de imóvel par...  \n"
          ]
        }
      ]
    },
    {
      "cell_type": "code",
      "source": [
        " #Import the pandas module\n",
        "\n",
        "def dict_valores(dict_columns, tela):\n",
        "    # Create a list to store the dictionaries\n",
        "    list_of_dicts = []\n",
        "    for row in tela:\n",
        "        # Create a dictionary for each row\n",
        "        row_dict = {}\n",
        "        for key, value in zip(dict_columns.keys(), row):\n",
        "            row_dict[key] = value\n",
        "        list_of_dicts.append(row_dict)\n",
        "\n",
        "    return list_of_dicts\n",
        "\n",
        "result = dict_valores(dict_columns, tela)\n",
        "df_novo_2 = pd.DataFrame(result) #Create the DataFrame from the list of dictionaries\n",
        "print(df_novo_2)"
      ],
      "metadata": {
        "id": "FNxRjaNqJMDD",
        "outputId": "0c40d552-cb6e-479a-c0fe-491b4464e677",
        "colab": {
          "base_uri": "https://localhost:8080/"
        }
      },
      "execution_count": 224,
      "outputs": [
        {
          "output_type": "stream",
          "name": "stdout",
          "text": [
            "        ano mes           senador  \\\n",
            "0      2022   1      ACIR GURGACZ   \n",
            "1      2022   1      ACIR GURGACZ   \n",
            "2      2022   1      ACIR GURGACZ   \n",
            "3      2022   1      ACIR GURGACZ   \n",
            "4      2022   1      ACIR GURGACZ   \n",
            "...     ...  ..               ...   \n",
            "47719  2020  12  ZEQUINHA MARINHO   \n",
            "47720  2020  12  ZEQUINHA MARINHO   \n",
            "47721  2020  12  ZEQUINHA MARINHO   \n",
            "47722  2020  12  ZEQUINHA MARINHO   \n",
            "47723  2020  12  ZEQUINHA MARINHO   \n",
            "\n",
            "                                                 despesa            cnpj/cpf  \\\n",
            "0      Aluguel de imóveis para escritório político, c...      004.948.028-63   \n",
            "1                    Divulgação da atividade parlamentar  26.320.603/0001-64   \n",
            "2                    Divulgação da atividade parlamentar  13.659.201/0001-47   \n",
            "3                    Divulgação da atividade parlamentar  23.652.846/0001-01   \n",
            "4                    Divulgação da atividade parlamentar  08.941.827/0001-01   \n",
            "...                                                  ...                 ...   \n",
            "47719  Passagens aéreas, aquáticas e terrestres nacio...  22.052.777/0001-32   \n",
            "47720  Passagens aéreas, aquáticas e terrestres nacio...  22.052.777/0001-32   \n",
            "47721  Passagens aéreas, aquáticas e terrestres nacio...  22.052.777/0001-32   \n",
            "47722  Passagens aéreas, aquáticas e terrestres nacio...  22.052.777/0001-32   \n",
            "47723  Passagens aéreas, aquáticas e terrestres nacio...  22.052.777/0001-32   \n",
            "\n",
            "                                              fornecedot          documento  \\\n",
            "0                          GILBERTO PISELO DO NASCIMENTO             001/22   \n",
            "1                                          INFORMANAHORA  000000000000310/A   \n",
            "2                        LINHA PURPURA FOTO E VIDEO LTDA                107   \n",
            "3                      ROBERTO GUTIERREZ DA ROCHA M.E.I.                187   \n",
            "4      RONDONIA DINÂMICA COM. E SERV. DE INFORMÁTICA ...  000000000001772/A   \n",
            "...                                                  ...                ...   \n",
            "47719                                      Exceller Tour             TJ9NGF   \n",
            "47720                                      Exceller Tour             QN9KHE   \n",
            "47721                                      Exceller Tour             QIGVKT   \n",
            "47722                                      Exceller Tour             QDHKYF   \n",
            "47723                                      Exceller Tour             BQWCVK   \n",
            "\n",
            "             data                                            detalhe  \n",
            "0      03/01/2022  Despesa com pagamento de aluguel de imóvel par...  \n",
            "1      04/01/2022  Despesa com divulgação da atividade parlamenta...  \n",
            "2      14/01/2022  Despesa com produção de texto e edição de víde...  \n",
            "3      18/01/2022                Divulgação da atividade parlamentar  \n",
            "4      17/01/2022                Divulgação da atividade parlamentar  \n",
            "...           ...                                                ...  \n",
            "47719  08/12/2020  Companhia Aérea: GOL, Localizador: TJ9NGF. Pas...  \n",
            "47720  09/12/2020  Companhia Aérea: AZUL, Localizador: QN9KHE. Pa...  \n",
            "47721  14/12/2020  Companhia Aérea: AZUL, Localizador: QIGVKT. Pa...  \n",
            "47722  14/12/2020  Companhia Aérea: AZUL, Localizador: QDHKYF. Pa...  \n",
            "47723  18/12/2020  Companhia Aérea: GOL, Localizador: BQWCVK. Pas...  \n",
            "\n",
            "[47724 rows x 9 columns]\n"
          ]
        }
      ]
    }
  ]
}