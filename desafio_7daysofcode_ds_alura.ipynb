{
  "nbformat": 4,
  "nbformat_minor": 0,
  "metadata": {
    "colab": {
      "provenance": [],
      "mount_file_id": "https://github.com/jeniferGoncalvesDaSilvaDev/7daysofcode-ds-alura2/blob/main/desafio_7daysofcode_ds_alura.ipynb",
      "authorship_tag": "ABX9TyNMvoWQ0Yt8fnWVXuR2fiTw",
      "include_colab_link": true
    },
    "kernelspec": {
      "name": "python3",
      "display_name": "Python 3"
    },
    "language_info": {
      "name": "python"
    }
  },
  "cells": [
    {
      "cell_type": "markdown",
      "metadata": {
        "id": "view-in-github",
        "colab_type": "text"
      },
      "source": [
        "<a href=\"https://colab.research.google.com/github/jeniferGoncalvesDaSilvaDev/7daysofcode-ds-alura2/blob/main/desafio_7daysofcode_ds_alura.ipynb\" target=\"_parent\"><img src=\"https://colab.research.google.com/assets/colab-badge.svg\" alt=\"Open In Colab\"/></a>"
      ]
    },
    {
      "cell_type": "code",
      "execution_count": 282,
      "metadata": {
        "id": "Cm2Jlji_yNtu"
      },
      "outputs": [],
      "source": [
        "import pandas as pd"
      ]
    },
    {
      "cell_type": "code",
      "source": [
        "\n",
        "\n",
        "# Lista de arquivos CSV\n",
        "lista_csv = [\"/content/drive/MyDrive/csv/despesa_ceaps_2022.csv\",\n",
        "             \"/content/drive/MyDrive/csv/despesa_ceaps_2021.csv\",\n",
        "             \"/content/drive/MyDrive/csv/despesa_ceaps_2020.csv\"]\n",
        "\n",
        "# Função para gerar DataFrames a partir de arquivos CSV\n",
        "def gerar_ds(lista_arquivos):\n",
        "    lista_ds = []\n",
        "    for arquivo in lista_arquivos:\n",
        "        try:\n",
        "            df = pd.read_csv(arquivo, encoding=\"latin-1\", sep=';', on_bad_lines='skip')\n",
        "            lista_ds.append(df)\n",
        "        except Exception as e:\n",
        "            print(f\"Erro ao carregar o arquivo {arquivo}: {e}\")\n",
        "    return lista_ds\n",
        "\n",
        "# Gerar a lista de DataFrames\n",
        "gerar_data = gerar_ds(lista_csv)\n",
        "\n",
        "# Concatenar todos os DataFrames em um único DataFrame\n",
        "df_unico = pd.concat(gerar_data, ignore_index=False)\n",
        "\n",
        "# Exibir os primeiros registros do DataFrame concatenado\n",
        "print(df_unico.head(4))"
      ],
      "metadata": {
        "colab": {
          "base_uri": "https://localhost:8080/"
        },
        "id": "ercI_csU1SgS",
        "outputId": "06b02205-c24b-40a4-d7d8-177321971ca5"
      },
      "execution_count": 283,
      "outputs": [
        {
          "output_type": "stream",
          "name": "stdout",
          "text": [
            "                                                                                                                                                                                                            ULTIMA ATUALIZACAO  \\\n",
            "ANO  MES SENADOR      TIPO_DESPESA                                       CNPJ_CPF           FORNECEDOR                      DOCUMENTO         DATA       DETALHAMENTO                                        VALOR_REEMBOLSADO   \n",
            "2022 1   ACIR GURGACZ Aluguel de imóveis para escritório político, co... 004.948.028-63     GILBERTO PISELO DO NASCIMENTO   001/22            03/01/2022 Despesa com pagamento de aluguel de imóvel para...               6000   \n",
            "                      Divulgação da atividade parlamentar                26.320.603/0001-64 INFORMANAHORA                   000000000000310/A 04/01/2022 Despesa com divulgação da atividade parlamentar...               1500   \n",
            "                                                                         13.659.201/0001-47 LINHA PURPURA FOTO E VIDEO LTDA 107               14/01/2022 Despesa com produção de texto e edição de vídeo...               6000   \n",
            "\n",
            "                                                                                                                                                                                                            22/09/2024 02:01  \\\n",
            "ANO  MES SENADOR      TIPO_DESPESA                                       CNPJ_CPF           FORNECEDOR                      DOCUMENTO         DATA       DETALHAMENTO                                          COD_DOCUMENTO   \n",
            "2022 1   ACIR GURGACZ Aluguel de imóveis para escritório político, co... 004.948.028-63     GILBERTO PISELO DO NASCIMENTO   001/22            03/01/2022 Despesa com pagamento de aluguel de imóvel para...          2173614   \n",
            "                      Divulgação da atividade parlamentar                26.320.603/0001-64 INFORMANAHORA                   000000000000310/A 04/01/2022 Despesa com divulgação da atividade parlamentar...          2173615   \n",
            "                                                                         13.659.201/0001-47 LINHA PURPURA FOTO E VIDEO LTDA 107               14/01/2022 Despesa com produção de texto e edição de vídeo...          2173616   \n",
            "\n",
            "                                                                                                                                                                                                            23/09/2024 02:00  \n",
            "ANO  MES SENADOR      TIPO_DESPESA                                       CNPJ_CPF           FORNECEDOR                      DOCUMENTO         DATA       DETALHAMENTO                                                    NaN  \n",
            "2022 1   ACIR GURGACZ Aluguel de imóveis para escritório político, co... 004.948.028-63     GILBERTO PISELO DO NASCIMENTO   001/22            03/01/2022 Despesa com pagamento de aluguel de imóvel para...              NaN  \n",
            "                      Divulgação da atividade parlamentar                26.320.603/0001-64 INFORMANAHORA                   000000000000310/A 04/01/2022 Despesa com divulgação da atividade parlamentar...              NaN  \n",
            "                                                                         13.659.201/0001-47 LINHA PURPURA FOTO E VIDEO LTDA 107               14/01/2022 Despesa com produção de texto e edição de vídeo...              NaN  \n"
          ]
        }
      ]
    },
    {
      "cell_type": "code",
      "source": [
        "df_unico.columns"
      ],
      "metadata": {
        "colab": {
          "base_uri": "https://localhost:8080/"
        },
        "id": "hasu-t5T1kQq",
        "outputId": "23c51e93-9fcb-49af-cc97-4f2dd736bb5f"
      },
      "execution_count": 284,
      "outputs": [
        {
          "output_type": "execute_result",
          "data": {
            "text/plain": [
              "Index(['ULTIMA ATUALIZACAO', '22/09/2024 02:01', '23/09/2024 02:00'], dtype='object')"
            ]
          },
          "metadata": {},
          "execution_count": 284
        }
      ]
    },
    {
      "cell_type": "code",
      "source": [
        "df_limpo = df_unico.drop(columns=['22/09/2024 02:01'])"
      ],
      "metadata": {
        "id": "_IWv7vTLQURy"
      },
      "execution_count": 285,
      "outputs": []
    },
    {
      "cell_type": "code",
      "source": [
        "df_limpo = df_unico.drop(columns=['23/09/2024 02:00'])"
      ],
      "metadata": {
        "id": "0yx__KoSRNMh"
      },
      "execution_count": 286,
      "outputs": []
    },
    {
      "cell_type": "code",
      "source": [
        "df_limpo.columns"
      ],
      "metadata": {
        "id": "-FzvE2dlRTgl",
        "outputId": "baf3dd52-b35a-45be-d7cf-723d0ea73436",
        "colab": {
          "base_uri": "https://localhost:8080/"
        }
      },
      "execution_count": 287,
      "outputs": [
        {
          "output_type": "execute_result",
          "data": {
            "text/plain": [
              "Index(['ULTIMA ATUALIZACAO', '22/09/2024 02:01'], dtype='object')"
            ]
          },
          "metadata": {},
          "execution_count": 287
        }
      ]
    },
    {
      "cell_type": "code",
      "source": [
        "df_limpo = df_unico.drop(columns=['22/09/2024 02:01'])"
      ],
      "metadata": {
        "id": "Zncc2VHsRcSP"
      },
      "execution_count": 288,
      "outputs": []
    },
    {
      "cell_type": "code",
      "source": [
        "df_limpo.columns"
      ],
      "metadata": {
        "id": "QHmhWLRKRg3u",
        "outputId": "892bce60-4f2f-40a4-d34f-edc157ed6014",
        "colab": {
          "base_uri": "https://localhost:8080/"
        }
      },
      "execution_count": 289,
      "outputs": [
        {
          "output_type": "execute_result",
          "data": {
            "text/plain": [
              "Index(['ULTIMA ATUALIZACAO', '23/09/2024 02:00'], dtype='object')"
            ]
          },
          "metadata": {},
          "execution_count": 289
        }
      ]
    },
    {
      "cell_type": "code",
      "source": [
        "df_limpo = df_unico.drop(columns=['23/09/2024 02:00'])"
      ],
      "metadata": {
        "id": "qvCQM2elRk8n"
      },
      "execution_count": 290,
      "outputs": []
    },
    {
      "cell_type": "code",
      "source": [
        "df_limpo.columns"
      ],
      "metadata": {
        "id": "wWNHfhvyRs4x",
        "outputId": "d1a202be-0fdc-4151-c7e6-b3b03bbe1a5b",
        "colab": {
          "base_uri": "https://localhost:8080/"
        }
      },
      "execution_count": 291,
      "outputs": [
        {
          "output_type": "execute_result",
          "data": {
            "text/plain": [
              "Index(['ULTIMA ATUALIZACAO', '22/09/2024 02:01'], dtype='object')"
            ]
          },
          "metadata": {},
          "execution_count": 291
        }
      ]
    },
    {
      "cell_type": "code",
      "source": [
        "df_novo = pd.DataFrame(df_limpo['ULTIMA ATUALIZACAO'])"
      ],
      "metadata": {
        "id": "VaQO_rJaawXK"
      },
      "execution_count": 292,
      "outputs": []
    },
    {
      "cell_type": "code",
      "source": [
        "df_novo.columns"
      ],
      "metadata": {
        "id": "XAbZfncbGQlv",
        "outputId": "9e3c3b5b-b506-43a6-8a72-0531fee50e2c",
        "colab": {
          "base_uri": "https://localhost:8080/"
        }
      },
      "execution_count": 293,
      "outputs": [
        {
          "output_type": "execute_result",
          "data": {
            "text/plain": [
              "Index(['ULTIMA ATUALIZACAO'], dtype='object')"
            ]
          },
          "metadata": {},
          "execution_count": 293
        }
      ]
    },
    {
      "cell_type": "code",
      "source": [
        "print(df_novo)"
      ],
      "metadata": {
        "id": "EixKN7pphNHL",
        "outputId": "1a809bbf-f367-4162-878a-f6d0c42cc040",
        "colab": {
          "base_uri": "https://localhost:8080/"
        }
      },
      "execution_count": 294,
      "outputs": [
        {
          "output_type": "stream",
          "name": "stdout",
          "text": [
            "                                                                                                                                                                                                                  ULTIMA ATUALIZACAO\n",
            "ANO  MES SENADOR          TIPO_DESPESA                                       CNPJ_CPF           FORNECEDOR                        DOCUMENTO         DATA       DETALHAMENTO                                        VALOR_REEMBOLSADO\n",
            "2022 1   ACIR GURGACZ     Aluguel de imóveis para escritório político, co... 004.948.028-63     GILBERTO PISELO DO NASCIMENTO     001/22            03/01/2022 Despesa com pagamento de aluguel de imóvel para...               6000\n",
            "                          Divulgação da atividade parlamentar                26.320.603/0001-64 INFORMANAHORA                     000000000000310/A 04/01/2022 Despesa com divulgação da atividade parlamentar...               1500\n",
            "                                                                             13.659.201/0001-47 LINHA PURPURA FOTO E VIDEO LTDA   107               14/01/2022 Despesa com produção de texto e edição de vídeo...               6000\n",
            "                                                                             23.652.846/0001-01 ROBERTO GUTIERREZ DA ROCHA M.E.I. 187               18/01/2022 Divulgação da atividade parlamentar                              1000\n",
            "...                                                                                                                                                                                                                              ...\n",
            "2020 12  ZEQUINHA MARINHO Passagens aéreas, aquáticas e terrestres nacionais 22.052.777/0001-32 Exceller Tour                     TJ9NGF            08/12/2020 Companhia Aérea: GOL, Localizador: TJ9NGF. Pass...            1654,46\n",
            "                                                                                                                                  QN9KHE            09/12/2020 Companhia Aérea: AZUL, Localizador: QN9KHE. Pas...            1121,83\n",
            "                                                                                                                                  QIGVKT            14/12/2020 Companhia Aérea: AZUL, Localizador: QIGVKT. Pas...             549,47\n",
            "                                                                                                                                  QDHKYF            14/12/2020 Companhia Aérea: AZUL, Localizador: QDHKYF. Pas...             831,05\n",
            "                                                                                                                                  BQWCVK            18/12/2020 Companhia Aérea: GOL, Localizador: BQWCVK. Pass...            2026,12\n",
            "\n",
            "[47725 rows x 1 columns]\n"
          ]
        }
      ]
    },
    {
      "cell_type": "code",
      "source": [
        "df_novo.index"
      ],
      "metadata": {
        "id": "HkO5I-vSiTSX",
        "outputId": "aabbcec3-771b-41c7-ef69-2f2d32975982",
        "colab": {
          "base_uri": "https://localhost:8080/"
        }
      },
      "execution_count": 295,
      "outputs": [
        {
          "output_type": "execute_result",
          "data": {
            "text/plain": [
              "MultiIndex([( 'ANO', 'MES',          'SENADOR', ...),\n",
              "            ('2022',   '1',     'ACIR GURGACZ', ...),\n",
              "            ('2022',   '1',     'ACIR GURGACZ', ...),\n",
              "            ('2022',   '1',     'ACIR GURGACZ', ...),\n",
              "            ('2022',   '1',     'ACIR GURGACZ', ...),\n",
              "            ('2022',   '1',     'ACIR GURGACZ', ...),\n",
              "            ('2022',   '1',     'ACIR GURGACZ', ...),\n",
              "            ('2022',   '2',     'ACIR GURGACZ', ...),\n",
              "            ('2022',   '2',     'ACIR GURGACZ', ...),\n",
              "            ('2022',   '2',     'ACIR GURGACZ', ...),\n",
              "            ...\n",
              "            ('2020',  '12', 'ZEQUINHA MARINHO', ...),\n",
              "            ('2020',  '12', 'ZEQUINHA MARINHO', ...),\n",
              "            ('2020',  '12', 'ZEQUINHA MARINHO', ...),\n",
              "            ('2020',  '12', 'ZEQUINHA MARINHO', ...),\n",
              "            ('2020',  '12', 'ZEQUINHA MARINHO', ...),\n",
              "            ('2020',  '12', 'ZEQUINHA MARINHO', ...),\n",
              "            ('2020',  '12', 'ZEQUINHA MARINHO', ...),\n",
              "            ('2020',  '12', 'ZEQUINHA MARINHO', ...),\n",
              "            ('2020',  '12', 'ZEQUINHA MARINHO', ...),\n",
              "            ('2020',  '12', 'ZEQUINHA MARINHO', ...)],\n",
              "           length=47725)"
            ]
          },
          "metadata": {},
          "execution_count": 295
        }
      ]
    },
    {
      "cell_type": "code",
      "source": [
        "coluna = df_novo.index[0]\n",
        "print(coluna)\n",
        "print(len(coluna))"
      ],
      "metadata": {
        "id": "wF3tUze7G1kF",
        "outputId": "7f754319-8980-4fac-b067-8b145cd8cd35",
        "colab": {
          "base_uri": "https://localhost:8080/"
        }
      },
      "execution_count": 296,
      "outputs": [
        {
          "output_type": "stream",
          "name": "stdout",
          "text": [
            "('ANO', 'MES', 'SENADOR', 'TIPO_DESPESA', 'CNPJ_CPF', 'FORNECEDOR', 'DOCUMENTO', 'DATA', 'DETALHAMENTO')\n",
            "9\n"
          ]
        }
      ]
    },
    {
      "cell_type": "code",
      "source": [
        "linhas = df_novo.index[1:]"
      ],
      "metadata": {
        "id": "pk0_EW6E21j1"
      },
      "execution_count": 297,
      "outputs": []
    },
    {
      "cell_type": "code",
      "source": [
        "print(linhas[0:5])"
      ],
      "metadata": {
        "id": "sKuLydJ328zG",
        "outputId": "4c7091e2-a0bc-4b63-8615-3abebd970e89",
        "colab": {
          "base_uri": "https://localhost:8080/"
        }
      },
      "execution_count": 298,
      "outputs": [
        {
          "output_type": "stream",
          "name": "stdout",
          "text": [
            "MultiIndex([('2022', '1', 'ACIR GURGACZ', ...),\n",
            "            ('2022', '1', 'ACIR GURGACZ', ...),\n",
            "            ('2022', '1', 'ACIR GURGACZ', ...),\n",
            "            ('2022', '1', 'ACIR GURGACZ', ...),\n",
            "            ('2022', '1', 'ACIR GURGACZ', ...)],\n",
            "           )\n"
          ]
        }
      ]
    },
    {
      "cell_type": "code",
      "source": [
        "def criar_dict():\n",
        "    my_dict = {} # Create an empty dictionary\n",
        "    my_dict[\"ano\"] = coluna[0] # Remove the comma after coluna[0]\n",
        "    my_dict[\"mes\"] = coluna[1] # Remove the comma after coluna[1]\n",
        "    my_dict[\"senador\"] = coluna[2] # Remove the comma after coluna[2]\n",
        "    my_dict[\"despesa\"] = coluna[3] # Remove the comma after coluna[3]\n",
        "    my_dict[\"cnpj/cpf\"] = coluna[4] # Remove the comma after coluna[4]\n",
        "    my_dict[\"fornecedot\"] = coluna[5] # Remove the comma after coluna[5]\n",
        "    my_dict[\"documento\"] = coluna[6] # Remove the comma after coluna[6]\n",
        "    my_dict[\"data\"] = coluna[7] # Remove the comma after coluna[7]\n",
        "    my_dict[\"detalhe\"]= coluna[8] # Remove the comma after coluna[8]\n",
        "    return my_dict # Return the created dictionary"
      ],
      "metadata": {
        "id": "bX3tge1X5GzO"
      },
      "execution_count": 299,
      "outputs": []
    },
    {
      "cell_type": "code",
      "source": [
        "dict_columns= criar_dict()\n",
        "print(dict_columns)"
      ],
      "metadata": {
        "id": "OWo_br8H4wyu",
        "outputId": "ba41fbb5-7fc2-4369-f63c-ab1b6074e365",
        "colab": {
          "base_uri": "https://localhost:8080/"
        }
      },
      "execution_count": 300,
      "outputs": [
        {
          "output_type": "stream",
          "name": "stdout",
          "text": [
            "{'ano': 'ANO', 'mes': 'MES', 'senador': 'SENADOR', 'despesa': 'TIPO_DESPESA', 'cnpj/cpf': 'CNPJ_CPF', 'fornecedot': 'FORNECEDOR', 'documento': 'DOCUMENTO', 'data': 'DATA', 'detalhe': 'DETALHAMENTO'}\n"
          ]
        }
      ]
    },
    {
      "cell_type": "code",
      "source": [
        "linhas =list(linhas)"
      ],
      "metadata": {
        "id": "4oipFa_05eSW"
      },
      "execution_count": 301,
      "outputs": []
    },
    {
      "cell_type": "code",
      "source": [
        "def interar_linhas():\n",
        "    result = []  # Create a list to store the values\n",
        "    for i in range(len(linhas)):\n",
        "        inner_list = []  # Create a list for each inner list\n",
        "        for j in range(len(linhas[i])):\n",
        "            inner_list.append(linhas[i][j])\n",
        "        result.append(inner_list)  # Add the inner list to the result\n",
        "    return result  # Return the result list\n",
        "\n",
        "tela = interar_linhas()"
      ],
      "metadata": {
        "id": "i6OjrCKZHkiB"
      },
      "execution_count": 302,
      "outputs": []
    },
    {
      "cell_type": "code",
      "source": [
        " #Import the pandas module\n",
        "\n",
        "def dict_valores(dict_columns, tela):\n",
        "    # Create a list to store the dictionaries\n",
        "    list_of_dicts = []\n",
        "    for row in tela:\n",
        "        # Create a dictionary for each row\n",
        "        row_dict = {}\n",
        "        for key, value in zip(dict_columns.keys(), row):\n",
        "            row_dict[key] = value\n",
        "        list_of_dicts.append(row_dict)\n",
        "\n",
        "    return list_of_dicts\n",
        "\n",
        "result = dict_valores(dict_columns, tela)\n",
        "df_novo_2 = pd.DataFrame(result) #Create the DataFrame from the list of dictionaries\n",
        "print(df_novo_2)"
      ],
      "metadata": {
        "id": "FNxRjaNqJMDD",
        "outputId": "6e22a32e-d0ea-467f-b20e-9f6917a754fd",
        "colab": {
          "base_uri": "https://localhost:8080/"
        }
      },
      "execution_count": 303,
      "outputs": [
        {
          "output_type": "stream",
          "name": "stdout",
          "text": [
            "        ano mes           senador  \\\n",
            "0      2022   1      ACIR GURGACZ   \n",
            "1      2022   1      ACIR GURGACZ   \n",
            "2      2022   1      ACIR GURGACZ   \n",
            "3      2022   1      ACIR GURGACZ   \n",
            "4      2022   1      ACIR GURGACZ   \n",
            "...     ...  ..               ...   \n",
            "47719  2020  12  ZEQUINHA MARINHO   \n",
            "47720  2020  12  ZEQUINHA MARINHO   \n",
            "47721  2020  12  ZEQUINHA MARINHO   \n",
            "47722  2020  12  ZEQUINHA MARINHO   \n",
            "47723  2020  12  ZEQUINHA MARINHO   \n",
            "\n",
            "                                                 despesa            cnpj/cpf  \\\n",
            "0      Aluguel de imóveis para escritório político, c...      004.948.028-63   \n",
            "1                    Divulgação da atividade parlamentar  26.320.603/0001-64   \n",
            "2                    Divulgação da atividade parlamentar  13.659.201/0001-47   \n",
            "3                    Divulgação da atividade parlamentar  23.652.846/0001-01   \n",
            "4                    Divulgação da atividade parlamentar  08.941.827/0001-01   \n",
            "...                                                  ...                 ...   \n",
            "47719  Passagens aéreas, aquáticas e terrestres nacio...  22.052.777/0001-32   \n",
            "47720  Passagens aéreas, aquáticas e terrestres nacio...  22.052.777/0001-32   \n",
            "47721  Passagens aéreas, aquáticas e terrestres nacio...  22.052.777/0001-32   \n",
            "47722  Passagens aéreas, aquáticas e terrestres nacio...  22.052.777/0001-32   \n",
            "47723  Passagens aéreas, aquáticas e terrestres nacio...  22.052.777/0001-32   \n",
            "\n",
            "                                              fornecedot          documento  \\\n",
            "0                          GILBERTO PISELO DO NASCIMENTO             001/22   \n",
            "1                                          INFORMANAHORA  000000000000310/A   \n",
            "2                        LINHA PURPURA FOTO E VIDEO LTDA                107   \n",
            "3                      ROBERTO GUTIERREZ DA ROCHA M.E.I.                187   \n",
            "4      RONDONIA DINÂMICA COM. E SERV. DE INFORMÁTICA ...  000000000001772/A   \n",
            "...                                                  ...                ...   \n",
            "47719                                      Exceller Tour             TJ9NGF   \n",
            "47720                                      Exceller Tour             QN9KHE   \n",
            "47721                                      Exceller Tour             QIGVKT   \n",
            "47722                                      Exceller Tour             QDHKYF   \n",
            "47723                                      Exceller Tour             BQWCVK   \n",
            "\n",
            "             data                                            detalhe  \n",
            "0      03/01/2022  Despesa com pagamento de aluguel de imóvel par...  \n",
            "1      04/01/2022  Despesa com divulgação da atividade parlamenta...  \n",
            "2      14/01/2022  Despesa com produção de texto e edição de víde...  \n",
            "3      18/01/2022                Divulgação da atividade parlamentar  \n",
            "4      17/01/2022                Divulgação da atividade parlamentar  \n",
            "...           ...                                                ...  \n",
            "47719  08/12/2020  Companhia Aérea: GOL, Localizador: TJ9NGF. Pas...  \n",
            "47720  09/12/2020  Companhia Aérea: AZUL, Localizador: QN9KHE. Pa...  \n",
            "47721  14/12/2020  Companhia Aérea: AZUL, Localizador: QIGVKT. Pa...  \n",
            "47722  14/12/2020  Companhia Aérea: AZUL, Localizador: QDHKYF. Pa...  \n",
            "47723  18/12/2020  Companhia Aérea: GOL, Localizador: BQWCVK. Pas...  \n",
            "\n",
            "[47724 rows x 9 columns]\n"
          ]
        }
      ]
    },
    {
      "cell_type": "code",
      "source": [
        "df_novo_2['ano']"
      ],
      "metadata": {
        "id": "gxM9lU78Js0D",
        "outputId": "4074bf7a-2458-4043-fe3d-ee881697607a",
        "colab": {
          "base_uri": "https://localhost:8080/"
        }
      },
      "execution_count": 304,
      "outputs": [
        {
          "output_type": "execute_result",
          "data": {
            "text/plain": [
              "0        2022\n",
              "1        2022\n",
              "2        2022\n",
              "3        2022\n",
              "4        2022\n",
              "         ... \n",
              "47719    2020\n",
              "47720    2020\n",
              "47721    2020\n",
              "47722    2020\n",
              "47723    2020\n",
              "Name: ano, Length: 47724, dtype: object"
            ],
            "text/html": [
              "<div>\n",
              "<style scoped>\n",
              "    .dataframe tbody tr th:only-of-type {\n",
              "        vertical-align: middle;\n",
              "    }\n",
              "\n",
              "    .dataframe tbody tr th {\n",
              "        vertical-align: top;\n",
              "    }\n",
              "\n",
              "    .dataframe thead th {\n",
              "        text-align: right;\n",
              "    }\n",
              "</style>\n",
              "<table border=\"1\" class=\"dataframe\">\n",
              "  <thead>\n",
              "    <tr style=\"text-align: right;\">\n",
              "      <th></th>\n",
              "      <th>ano</th>\n",
              "    </tr>\n",
              "  </thead>\n",
              "  <tbody>\n",
              "    <tr>\n",
              "      <th>0</th>\n",
              "      <td>2022</td>\n",
              "    </tr>\n",
              "    <tr>\n",
              "      <th>1</th>\n",
              "      <td>2022</td>\n",
              "    </tr>\n",
              "    <tr>\n",
              "      <th>2</th>\n",
              "      <td>2022</td>\n",
              "    </tr>\n",
              "    <tr>\n",
              "      <th>3</th>\n",
              "      <td>2022</td>\n",
              "    </tr>\n",
              "    <tr>\n",
              "      <th>4</th>\n",
              "      <td>2022</td>\n",
              "    </tr>\n",
              "    <tr>\n",
              "      <th>...</th>\n",
              "      <td>...</td>\n",
              "    </tr>\n",
              "    <tr>\n",
              "      <th>47719</th>\n",
              "      <td>2020</td>\n",
              "    </tr>\n",
              "    <tr>\n",
              "      <th>47720</th>\n",
              "      <td>2020</td>\n",
              "    </tr>\n",
              "    <tr>\n",
              "      <th>47721</th>\n",
              "      <td>2020</td>\n",
              "    </tr>\n",
              "    <tr>\n",
              "      <th>47722</th>\n",
              "      <td>2020</td>\n",
              "    </tr>\n",
              "    <tr>\n",
              "      <th>47723</th>\n",
              "      <td>2020</td>\n",
              "    </tr>\n",
              "  </tbody>\n",
              "</table>\n",
              "<p>47724 rows × 1 columns</p>\n",
              "</div><br><label><b>dtype:</b> object</label>"
            ]
          },
          "metadata": {},
          "execution_count": 304
        }
      ]
    },
    {
      "cell_type": "code",
      "source": [
        "df_novo_2['detalhe']"
      ],
      "metadata": {
        "id": "vCQxEL_iKFsI",
        "outputId": "58641b61-f36f-44b6-d7f4-24e32bbc4de3",
        "colab": {
          "base_uri": "https://localhost:8080/",
          "height": 597
        }
      },
      "execution_count": 305,
      "outputs": [
        {
          "output_type": "execute_result",
          "data": {
            "text/plain": [
              "0        Despesa com pagamento de aluguel de imóvel par...\n",
              "1        Despesa com divulgação da atividade parlamenta...\n",
              "2        Despesa com produção de texto e edição de víde...\n",
              "3                      Divulgação da atividade parlamentar\n",
              "4                      Divulgação da atividade parlamentar\n",
              "                               ...                        \n",
              "47719    Companhia Aérea: GOL, Localizador: TJ9NGF. Pas...\n",
              "47720    Companhia Aérea: AZUL, Localizador: QN9KHE. Pa...\n",
              "47721    Companhia Aérea: AZUL, Localizador: QIGVKT. Pa...\n",
              "47722    Companhia Aérea: AZUL, Localizador: QDHKYF. Pa...\n",
              "47723    Companhia Aérea: GOL, Localizador: BQWCVK. Pas...\n",
              "Name: detalhe, Length: 47724, dtype: object"
            ],
            "text/html": [
              "<div>\n",
              "<style scoped>\n",
              "    .dataframe tbody tr th:only-of-type {\n",
              "        vertical-align: middle;\n",
              "    }\n",
              "\n",
              "    .dataframe tbody tr th {\n",
              "        vertical-align: top;\n",
              "    }\n",
              "\n",
              "    .dataframe thead th {\n",
              "        text-align: right;\n",
              "    }\n",
              "</style>\n",
              "<table border=\"1\" class=\"dataframe\">\n",
              "  <thead>\n",
              "    <tr style=\"text-align: right;\">\n",
              "      <th></th>\n",
              "      <th>detalhe</th>\n",
              "    </tr>\n",
              "  </thead>\n",
              "  <tbody>\n",
              "    <tr>\n",
              "      <th>0</th>\n",
              "      <td>Despesa com pagamento de aluguel de imóvel par...</td>\n",
              "    </tr>\n",
              "    <tr>\n",
              "      <th>1</th>\n",
              "      <td>Despesa com divulgação da atividade parlamenta...</td>\n",
              "    </tr>\n",
              "    <tr>\n",
              "      <th>2</th>\n",
              "      <td>Despesa com produção de texto e edição de víde...</td>\n",
              "    </tr>\n",
              "    <tr>\n",
              "      <th>3</th>\n",
              "      <td>Divulgação da atividade parlamentar</td>\n",
              "    </tr>\n",
              "    <tr>\n",
              "      <th>4</th>\n",
              "      <td>Divulgação da atividade parlamentar</td>\n",
              "    </tr>\n",
              "    <tr>\n",
              "      <th>...</th>\n",
              "      <td>...</td>\n",
              "    </tr>\n",
              "    <tr>\n",
              "      <th>47719</th>\n",
              "      <td>Companhia Aérea: GOL, Localizador: TJ9NGF. Pas...</td>\n",
              "    </tr>\n",
              "    <tr>\n",
              "      <th>47720</th>\n",
              "      <td>Companhia Aérea: AZUL, Localizador: QN9KHE. Pa...</td>\n",
              "    </tr>\n",
              "    <tr>\n",
              "      <th>47721</th>\n",
              "      <td>Companhia Aérea: AZUL, Localizador: QIGVKT. Pa...</td>\n",
              "    </tr>\n",
              "    <tr>\n",
              "      <th>47722</th>\n",
              "      <td>Companhia Aérea: AZUL, Localizador: QDHKYF. Pa...</td>\n",
              "    </tr>\n",
              "    <tr>\n",
              "      <th>47723</th>\n",
              "      <td>Companhia Aérea: GOL, Localizador: BQWCVK. Pas...</td>\n",
              "    </tr>\n",
              "  </tbody>\n",
              "</table>\n",
              "<p>47724 rows × 1 columns</p>\n",
              "</div><br><label><b>dtype:</b> object</label>"
            ]
          },
          "metadata": {},
          "execution_count": 305
        }
      ]
    },
    {
      "cell_type": "code",
      "source": [
        "df_novo_2.columns"
      ],
      "metadata": {
        "id": "ESGxr20jDxAa",
        "outputId": "dd79f373-5153-4381-e64d-485dee873253",
        "colab": {
          "base_uri": "https://localhost:8080/"
        }
      },
      "execution_count": 306,
      "outputs": [
        {
          "output_type": "execute_result",
          "data": {
            "text/plain": [
              "Index(['ano', 'mes', 'senador', 'despesa', 'cnpj/cpf', 'fornecedot',\n",
              "       'documento', 'data', 'detalhe'],\n",
              "      dtype='object')"
            ]
          },
          "metadata": {},
          "execution_count": 306
        }
      ]
    },
    {
      "cell_type": "code",
      "source": [
        "df_novo_3 = df_novo_2.drop(columns=['cnpj/cpf'])"
      ],
      "metadata": {
        "id": "ArOuGDNBD12v"
      },
      "execution_count": 307,
      "outputs": []
    },
    {
      "cell_type": "code",
      "source": [
        "df_novo_3 = df_novo_2.drop(columns=['documento'])"
      ],
      "metadata": {
        "id": "eN1rcuXiEFfu"
      },
      "execution_count": 308,
      "outputs": []
    },
    {
      "cell_type": "code",
      "source": [
        "df_novo_3.columns"
      ],
      "metadata": {
        "id": "dq2pI2G7EK4k",
        "outputId": "ff9e7249-e509-476a-9da5-a9742918bac5",
        "colab": {
          "base_uri": "https://localhost:8080/"
        }
      },
      "execution_count": 309,
      "outputs": [
        {
          "output_type": "execute_result",
          "data": {
            "text/plain": [
              "Index(['ano', 'mes', 'senador', 'despesa', 'cnpj/cpf', 'fornecedot', 'data',\n",
              "       'detalhe'],\n",
              "      dtype='object')"
            ]
          },
          "metadata": {},
          "execution_count": 309
        }
      ]
    },
    {
      "cell_type": "code",
      "source": [
        "\n",
        "\n",
        "\n",
        "# Converter a coluna para datetime e extrair o ano\n",
        "df_novo_3['data'] = pd.to_datetime(df_novo_3['data'], errors='coerce').dt.day\n",
        "\n",
        "print(df_novo_3['data'])"
      ],
      "metadata": {
        "id": "zgv1WwNVEVB4",
        "outputId": "d99d0a9a-9590-47a5-c029-8a98a88b2e02",
        "colab": {
          "base_uri": "https://localhost:8080/"
        }
      },
      "execution_count": 310,
      "outputs": [
        {
          "output_type": "stream",
          "name": "stdout",
          "text": [
            "0         1.0\n",
            "1         1.0\n",
            "2         NaN\n",
            "3         NaN\n",
            "4         NaN\n",
            "         ... \n",
            "47719    12.0\n",
            "47720    12.0\n",
            "47721     NaN\n",
            "47722     NaN\n",
            "47723     NaN\n",
            "Name: data, Length: 47724, dtype: float64\n"
          ]
        }
      ]
    },
    {
      "cell_type": "code",
      "source": [
        "# Converter a coluna para datetime e extrair o ano\n",
        "df_novo_3['ano'] = pd.to_datetime(df_novo_3['ano'], errors='coerce')\n",
        "\n",
        "print(df_novo_3['ano'])"
      ],
      "metadata": {
        "id": "GLhsuDARFpz0",
        "outputId": "5759bb6f-dcc1-4b35-82ad-c3e5c28bb2f0",
        "colab": {
          "base_uri": "https://localhost:8080/"
        }
      },
      "execution_count": 311,
      "outputs": [
        {
          "output_type": "stream",
          "name": "stdout",
          "text": [
            "0       2022-01-01\n",
            "1       2022-01-01\n",
            "2       2022-01-01\n",
            "3       2022-01-01\n",
            "4       2022-01-01\n",
            "           ...    \n",
            "47719   2020-01-01\n",
            "47720   2020-01-01\n",
            "47721   2020-01-01\n",
            "47722   2020-01-01\n",
            "47723   2020-01-01\n",
            "Name: ano, Length: 47724, dtype: datetime64[ns]\n"
          ]
        }
      ]
    },
    {
      "cell_type": "code",
      "source": [
        "# Converter a coluna para datetime e extrair o ano\n",
        "df_novo_3['mes'] = pd.to_datetime(df_novo_3['mes'], errors='coerce').dt.month\n",
        "\n",
        "print(df_novo_3['mes'])"
      ],
      "metadata": {
        "id": "3mrS49M4Fxfr",
        "outputId": "0633ebb5-cc84-42e2-da96-59e99d35da80",
        "colab": {
          "base_uri": "https://localhost:8080/"
        }
      },
      "execution_count": 312,
      "outputs": [
        {
          "output_type": "stream",
          "name": "stdout",
          "text": [
            "0       NaN\n",
            "1       NaN\n",
            "2       NaN\n",
            "3       NaN\n",
            "4       NaN\n",
            "         ..\n",
            "47719   NaN\n",
            "47720   NaN\n",
            "47721   NaN\n",
            "47722   NaN\n",
            "47723   NaN\n",
            "Name: mes, Length: 47724, dtype: float64\n"
          ]
        },
        {
          "output_type": "stream",
          "name": "stderr",
          "text": [
            "<ipython-input-312-d92bd4056946>:2: UserWarning: Could not infer format, so each element will be parsed individually, falling back to `dateutil`. To ensure parsing is consistent and as-expected, please specify a format.\n",
            "  df_novo_3['mes'] = pd.to_datetime(df_novo_3['mes'], errors='coerce').dt.month\n"
          ]
        }
      ]
    },
    {
      "cell_type": "code",
      "source": [
        "#colunas object para string\n",
        "df_novo_3['senador'] = df_novo_3['senador'].astype(str)\n",
        "print(df_novo_3['senador'])"
      ],
      "metadata": {
        "id": "NyYTEaAuF6J5",
        "outputId": "710e10ae-eea5-41bf-bd80-26e52059632b",
        "colab": {
          "base_uri": "https://localhost:8080/"
        }
      },
      "execution_count": 313,
      "outputs": [
        {
          "output_type": "stream",
          "name": "stdout",
          "text": [
            "0            ACIR GURGACZ\n",
            "1            ACIR GURGACZ\n",
            "2            ACIR GURGACZ\n",
            "3            ACIR GURGACZ\n",
            "4            ACIR GURGACZ\n",
            "               ...       \n",
            "47719    ZEQUINHA MARINHO\n",
            "47720    ZEQUINHA MARINHO\n",
            "47721    ZEQUINHA MARINHO\n",
            "47722    ZEQUINHA MARINHO\n",
            "47723    ZEQUINHA MARINHO\n",
            "Name: senador, Length: 47724, dtype: object\n"
          ]
        }
      ]
    },
    {
      "cell_type": "code",
      "source": [
        "#colunas object para string\n",
        "#colunas object para string\n",
        "df_novo_3['despesa'] = df_novo_3['despesa'].astype(str)\n",
        "print(df_novo_3['despesa'])"
      ],
      "metadata": {
        "id": "VIxeaxkjHy-Y",
        "outputId": "8eeba352-5dce-4cf8-f6e0-d25732f93333",
        "colab": {
          "base_uri": "https://localhost:8080/"
        }
      },
      "execution_count": 314,
      "outputs": [
        {
          "output_type": "stream",
          "name": "stdout",
          "text": [
            "0        Aluguel de imóveis para escritório político, c...\n",
            "1                      Divulgação da atividade parlamentar\n",
            "2                      Divulgação da atividade parlamentar\n",
            "3                      Divulgação da atividade parlamentar\n",
            "4                      Divulgação da atividade parlamentar\n",
            "                               ...                        \n",
            "47719    Passagens aéreas, aquáticas e terrestres nacio...\n",
            "47720    Passagens aéreas, aquáticas e terrestres nacio...\n",
            "47721    Passagens aéreas, aquáticas e terrestres nacio...\n",
            "47722    Passagens aéreas, aquáticas e terrestres nacio...\n",
            "47723    Passagens aéreas, aquáticas e terrestres nacio...\n",
            "Name: despesa, Length: 47724, dtype: object\n"
          ]
        }
      ]
    },
    {
      "cell_type": "code",
      "source": [
        "#colunas object para string\n",
        "df_novo_3['detalhe'] = df_novo_3['detalhe'].astype(str)\n",
        "print(df_novo_3['detalhe'])"
      ],
      "metadata": {
        "id": "P4MRg56OH485",
        "outputId": "c849a503-b133-4582-8929-1b95017522e2",
        "colab": {
          "base_uri": "https://localhost:8080/"
        }
      },
      "execution_count": 315,
      "outputs": [
        {
          "output_type": "stream",
          "name": "stdout",
          "text": [
            "0        Despesa com pagamento de aluguel de imóvel par...\n",
            "1        Despesa com divulgação da atividade parlamenta...\n",
            "2        Despesa com produção de texto e edição de víde...\n",
            "3                      Divulgação da atividade parlamentar\n",
            "4                      Divulgação da atividade parlamentar\n",
            "                               ...                        \n",
            "47719    Companhia Aérea: GOL, Localizador: TJ9NGF. Pas...\n",
            "47720    Companhia Aérea: AZUL, Localizador: QN9KHE. Pa...\n",
            "47721    Companhia Aérea: AZUL, Localizador: QIGVKT. Pa...\n",
            "47722    Companhia Aérea: AZUL, Localizador: QDHKYF. Pa...\n",
            "47723    Companhia Aérea: GOL, Localizador: BQWCVK. Pas...\n",
            "Name: detalhe, Length: 47724, dtype: object\n"
          ]
        }
      ]
    },
    {
      "cell_type": "code",
      "source": [
        "# Lista de arquivos CSV\n",
        "lista_csv = [\"/content/drive/MyDrive/csv/despesa_ceaps_2022.csv\",\n",
        "             \"/content/drive/MyDrive/csv/despesa_ceaps_2021.csv\",\n",
        "             \"/content/drive/MyDrive/csv/despesa_ceaps_2020.csv\"]\n",
        "\n",
        "# Função para gerar DataFrames a partir de arquivos CSV\n",
        "def gerar_ds(lista_arquivos):\n",
        "    lista_ds = []\n",
        "    for arquivo in lista_arquivos:\n",
        "        try:\n",
        "            df = pd.read_csv(arquivo, encoding=\"latin-1\", sep=';', on_bad_lines='skip')\n",
        "            lista_ds.append(df)\n",
        "        except Exception as e:\n",
        "            print(f\"Erro ao carregar o arquivo {arquivo}: {e}\")\n",
        "    return lista_ds\n",
        "\n",
        "# Gerar a lista de DataFrames\n",
        "gerar_data = gerar_ds(lista_csv)\n",
        "\n",
        "# Concatenar todos os DataFrames em um único DataFrame\n",
        "df_unico_2 = pd.concat(gerar_data, ignore_index=True)\n",
        "\n",
        "# Exibir os primeiros registros do DataFrame concatenado\n",
        "print(df_unico_2.head(4))"
      ],
      "metadata": {
        "id": "VlCZNwDnJe_f",
        "outputId": "0dc89846-251a-4710-915f-9fbc0e93903a",
        "colab": {
          "base_uri": "https://localhost:8080/"
        }
      },
      "execution_count": 316,
      "outputs": [
        {
          "output_type": "stream",
          "name": "stdout",
          "text": [
            "  ULTIMA ATUALIZACAO 22/09/2024 02:01 23/09/2024 02:00\n",
            "0  VALOR_REEMBOLSADO    COD_DOCUMENTO              NaN\n",
            "1               6000          2173614              NaN\n",
            "2               1500          2173615              NaN\n",
            "3               6000          2173616              NaN\n"
          ]
        }
      ]
    },
    {
      "cell_type": "code",
      "source": [
        "df_unico_2= df_unico_2['ULTIMA ATUALIZACAO']\n",
        "print(df_unico_2)"
      ],
      "metadata": {
        "id": "lfZnzbpxJsVc",
        "outputId": "69ebfc1f-12bf-4f40-8bf5-8ae31921bfcf",
        "colab": {
          "base_uri": "https://localhost:8080/"
        }
      },
      "execution_count": 317,
      "outputs": [
        {
          "output_type": "stream",
          "name": "stdout",
          "text": [
            "0        VALOR_REEMBOLSADO\n",
            "1                     6000\n",
            "2                     1500\n",
            "3                     6000\n",
            "4                     1000\n",
            "               ...        \n",
            "47720              1654,46\n",
            "47721              1121,83\n",
            "47722               549,47\n",
            "47723               831,05\n",
            "47724              2026,12\n",
            "Name: ULTIMA ATUALIZACAO, Length: 47725, dtype: object\n"
          ]
        }
      ]
    },
    {
      "cell_type": "code",
      "source": [
        "# Replace 'actual_column_name' with the correct column name from your DataFrame\n",
        "df_unico_2['valor reembolsado'] = df_unico_2"
      ],
      "metadata": {
        "id": "33Rz4kXOMAI8"
      },
      "execution_count": 318,
      "outputs": []
    },
    {
      "cell_type": "code",
      "source": [
        "df_novo_4 = df_novo_3.merge(df_unico_2, left_index=True, right_index=True)"
      ],
      "metadata": {
        "id": "TjfvrDMoKUPe"
      },
      "execution_count": 319,
      "outputs": []
    },
    {
      "cell_type": "code",
      "source": [
        "df_novo_4['ULTIMA ATUALIZACAO']"
      ],
      "metadata": {
        "id": "JAL424FLKXkk",
        "outputId": "268da180-68f3-4dee-d4c2-3f16e6fe6b40",
        "colab": {
          "base_uri": "https://localhost:8080/",
          "height": 458
        }
      },
      "execution_count": 320,
      "outputs": [
        {
          "output_type": "execute_result",
          "data": {
            "text/plain": [
              "0        VALOR_REEMBOLSADO\n",
              "1                     6000\n",
              "2                     1500\n",
              "3                     6000\n",
              "4                     1000\n",
              "               ...        \n",
              "47719                44,76\n",
              "47720              1654,46\n",
              "47721              1121,83\n",
              "47722               549,47\n",
              "47723               831,05\n",
              "Name: ULTIMA ATUALIZACAO, Length: 47724, dtype: object"
            ],
            "text/html": [
              "<div>\n",
              "<style scoped>\n",
              "    .dataframe tbody tr th:only-of-type {\n",
              "        vertical-align: middle;\n",
              "    }\n",
              "\n",
              "    .dataframe tbody tr th {\n",
              "        vertical-align: top;\n",
              "    }\n",
              "\n",
              "    .dataframe thead th {\n",
              "        text-align: right;\n",
              "    }\n",
              "</style>\n",
              "<table border=\"1\" class=\"dataframe\">\n",
              "  <thead>\n",
              "    <tr style=\"text-align: right;\">\n",
              "      <th></th>\n",
              "      <th>ULTIMA ATUALIZACAO</th>\n",
              "    </tr>\n",
              "  </thead>\n",
              "  <tbody>\n",
              "    <tr>\n",
              "      <th>0</th>\n",
              "      <td>VALOR_REEMBOLSADO</td>\n",
              "    </tr>\n",
              "    <tr>\n",
              "      <th>1</th>\n",
              "      <td>6000</td>\n",
              "    </tr>\n",
              "    <tr>\n",
              "      <th>2</th>\n",
              "      <td>1500</td>\n",
              "    </tr>\n",
              "    <tr>\n",
              "      <th>3</th>\n",
              "      <td>6000</td>\n",
              "    </tr>\n",
              "    <tr>\n",
              "      <th>4</th>\n",
              "      <td>1000</td>\n",
              "    </tr>\n",
              "    <tr>\n",
              "      <th>...</th>\n",
              "      <td>...</td>\n",
              "    </tr>\n",
              "    <tr>\n",
              "      <th>47719</th>\n",
              "      <td>44,76</td>\n",
              "    </tr>\n",
              "    <tr>\n",
              "      <th>47720</th>\n",
              "      <td>1654,46</td>\n",
              "    </tr>\n",
              "    <tr>\n",
              "      <th>47721</th>\n",
              "      <td>1121,83</td>\n",
              "    </tr>\n",
              "    <tr>\n",
              "      <th>47722</th>\n",
              "      <td>549,47</td>\n",
              "    </tr>\n",
              "    <tr>\n",
              "      <th>47723</th>\n",
              "      <td>831,05</td>\n",
              "    </tr>\n",
              "  </tbody>\n",
              "</table>\n",
              "<p>47724 rows × 1 columns</p>\n",
              "</div><br><label><b>dtype:</b> object</label>"
            ]
          },
          "metadata": {},
          "execution_count": 320
        }
      ]
    },
    {
      "cell_type": "code",
      "source": [
        "df_novo_4['valor reembolso'] =df_novo_4['ULTIMA ATUALIZACAO']"
      ],
      "metadata": {
        "id": "7wLezte3Nvjo"
      },
      "execution_count": 321,
      "outputs": []
    },
    {
      "cell_type": "code",
      "source": [
        "df_novo_4.columns"
      ],
      "metadata": {
        "id": "LQ0DEEKyN9jm",
        "outputId": "18efeeb8-bd33-4d36-9591-6b93600fc75d",
        "colab": {
          "base_uri": "https://localhost:8080/"
        }
      },
      "execution_count": 322,
      "outputs": [
        {
          "output_type": "execute_result",
          "data": {
            "text/plain": [
              "Index(['ano', 'mes', 'senador', 'despesa', 'cnpj/cpf', 'fornecedot', 'data',\n",
              "       'detalhe', 'ULTIMA ATUALIZACAO', 'valor reembolso'],\n",
              "      dtype='object')"
            ]
          },
          "metadata": {},
          "execution_count": 322
        }
      ]
    },
    {
      "cell_type": "code",
      "source": [
        "df_novo_4['valor reembolso']"
      ],
      "metadata": {
        "id": "91cKz2jCODDq",
        "outputId": "ba365dc0-8762-4219-9efc-5410bcc5b19b",
        "colab": {
          "base_uri": "https://localhost:8080/",
          "height": 458
        }
      },
      "execution_count": 323,
      "outputs": [
        {
          "output_type": "execute_result",
          "data": {
            "text/plain": [
              "0        VALOR_REEMBOLSADO\n",
              "1                     6000\n",
              "2                     1500\n",
              "3                     6000\n",
              "4                     1000\n",
              "               ...        \n",
              "47719                44,76\n",
              "47720              1654,46\n",
              "47721              1121,83\n",
              "47722               549,47\n",
              "47723               831,05\n",
              "Name: valor reembolso, Length: 47724, dtype: object"
            ],
            "text/html": [
              "<div>\n",
              "<style scoped>\n",
              "    .dataframe tbody tr th:only-of-type {\n",
              "        vertical-align: middle;\n",
              "    }\n",
              "\n",
              "    .dataframe tbody tr th {\n",
              "        vertical-align: top;\n",
              "    }\n",
              "\n",
              "    .dataframe thead th {\n",
              "        text-align: right;\n",
              "    }\n",
              "</style>\n",
              "<table border=\"1\" class=\"dataframe\">\n",
              "  <thead>\n",
              "    <tr style=\"text-align: right;\">\n",
              "      <th></th>\n",
              "      <th>valor reembolso</th>\n",
              "    </tr>\n",
              "  </thead>\n",
              "  <tbody>\n",
              "    <tr>\n",
              "      <th>0</th>\n",
              "      <td>VALOR_REEMBOLSADO</td>\n",
              "    </tr>\n",
              "    <tr>\n",
              "      <th>1</th>\n",
              "      <td>6000</td>\n",
              "    </tr>\n",
              "    <tr>\n",
              "      <th>2</th>\n",
              "      <td>1500</td>\n",
              "    </tr>\n",
              "    <tr>\n",
              "      <th>3</th>\n",
              "      <td>6000</td>\n",
              "    </tr>\n",
              "    <tr>\n",
              "      <th>4</th>\n",
              "      <td>1000</td>\n",
              "    </tr>\n",
              "    <tr>\n",
              "      <th>...</th>\n",
              "      <td>...</td>\n",
              "    </tr>\n",
              "    <tr>\n",
              "      <th>47719</th>\n",
              "      <td>44,76</td>\n",
              "    </tr>\n",
              "    <tr>\n",
              "      <th>47720</th>\n",
              "      <td>1654,46</td>\n",
              "    </tr>\n",
              "    <tr>\n",
              "      <th>47721</th>\n",
              "      <td>1121,83</td>\n",
              "    </tr>\n",
              "    <tr>\n",
              "      <th>47722</th>\n",
              "      <td>549,47</td>\n",
              "    </tr>\n",
              "    <tr>\n",
              "      <th>47723</th>\n",
              "      <td>831,05</td>\n",
              "    </tr>\n",
              "  </tbody>\n",
              "</table>\n",
              "<p>47724 rows × 1 columns</p>\n",
              "</div><br><label><b>dtype:</b> object</label>"
            ]
          },
          "metadata": {},
          "execution_count": 323
        }
      ]
    },
    {
      "cell_type": "code",
      "source": [
        "df_novo_4= df_novo_4.drop(columns = ['ULTIMA ATUALIZACAO'])"
      ],
      "metadata": {
        "id": "bMeUE8YvOLS8"
      },
      "execution_count": 324,
      "outputs": []
    },
    {
      "cell_type": "code",
      "source": [
        "df_novo_4.columns"
      ],
      "metadata": {
        "id": "CsdoTR4xOeiF",
        "outputId": "9cc284ad-9da1-4417-eee4-e2b1b9d53912",
        "colab": {
          "base_uri": "https://localhost:8080/"
        }
      },
      "execution_count": 325,
      "outputs": [
        {
          "output_type": "execute_result",
          "data": {
            "text/plain": [
              "Index(['ano', 'mes', 'senador', 'despesa', 'cnpj/cpf', 'fornecedot', 'data',\n",
              "       'detalhe', 'valor reembolso'],\n",
              "      dtype='object')"
            ]
          },
          "metadata": {},
          "execution_count": 325
        }
      ]
    },
    {
      "cell_type": "code",
      "source": [
        "df_novo_4 = df_novo_4.drop(columns=['cnpj/cpf'])"
      ],
      "metadata": {
        "id": "iHf1MGVOOj5V"
      },
      "execution_count": 326,
      "outputs": []
    },
    {
      "cell_type": "code",
      "source": [
        "df_novo_4.columns"
      ],
      "metadata": {
        "id": "pA62FJnHO6lT",
        "outputId": "20b17dc0-5214-44e9-bd69-e6c842917f10",
        "colab": {
          "base_uri": "https://localhost:8080/"
        }
      },
      "execution_count": 327,
      "outputs": [
        {
          "output_type": "execute_result",
          "data": {
            "text/plain": [
              "Index(['ano', 'mes', 'senador', 'despesa', 'fornecedot', 'data', 'detalhe',\n",
              "       'valor reembolso'],\n",
              "      dtype='object')"
            ]
          },
          "metadata": {},
          "execution_count": 327
        }
      ]
    },
    {
      "cell_type": "code",
      "source": [
        "# Remove the header row if it exists\n",
        "df_novo_4 = df_novo_4[1:]\n",
        "\n",
        "# Replace commas with periods and convert to float, but handle errors\n",
        "df_novo_4['valor reembolso'] = pd.to_numeric(df_novo_4['valor reembolso'].str.replace(',', '.'), errors='coerce')"
      ],
      "metadata": {
        "id": "RGSS0BPbdLbV",
        "outputId": "5ea3f808-a345-48b7-f02f-ecf1a50bbb5a",
        "colab": {
          "base_uri": "https://localhost:8080/"
        }
      },
      "execution_count": 328,
      "outputs": [
        {
          "output_type": "stream",
          "name": "stderr",
          "text": [
            "<ipython-input-328-d1a2188c5fc4>:5: SettingWithCopyWarning: \n",
            "A value is trying to be set on a copy of a slice from a DataFrame.\n",
            "Try using .loc[row_indexer,col_indexer] = value instead\n",
            "\n",
            "See the caveats in the documentation: https://pandas.pydata.org/pandas-docs/stable/user_guide/indexing.html#returning-a-view-versus-a-copy\n",
            "  df_novo_4['valor reembolso'] = pd.to_numeric(df_novo_4['valor reembolso'].str.replace(',', '.'), errors='coerce')\n"
          ]
        }
      ]
    },
    {
      "cell_type": "code",
      "source": [
        "print(df_novo_4['valor reembolso'])"
      ],
      "metadata": {
        "id": "WkV-1h1Ddnwj",
        "outputId": "9c2c1cf3-54ad-4224-c9dd-4faa72e7edae",
        "colab": {
          "base_uri": "https://localhost:8080/"
        }
      },
      "execution_count": 329,
      "outputs": [
        {
          "output_type": "stream",
          "name": "stdout",
          "text": [
            "1        6000.00\n",
            "2        1500.00\n",
            "3        6000.00\n",
            "4        1000.00\n",
            "5        2000.00\n",
            "          ...   \n",
            "47719      44.76\n",
            "47720    1654.46\n",
            "47721    1121.83\n",
            "47722     549.47\n",
            "47723     831.05\n",
            "Name: valor reembolso, Length: 47723, dtype: float64\n"
          ]
        }
      ]
    },
    {
      "cell_type": "code",
      "source": [
        "df_novo_4.columns"
      ],
      "metadata": {
        "id": "SYk8Uy6_f0qH",
        "outputId": "d826cd04-d224-4e2e-fc50-d99f417386f7",
        "colab": {
          "base_uri": "https://localhost:8080/"
        }
      },
      "execution_count": 335,
      "outputs": [
        {
          "output_type": "execute_result",
          "data": {
            "text/plain": [
              "Index(['ano', 'mes', 'senador', 'despesa', 'fornecedot', 'data', 'detalhe',\n",
              "       'valor reembolso'],\n",
              "      dtype='object')"
            ]
          },
          "metadata": {},
          "execution_count": 335
        }
      ]
    },
    {
      "cell_type": "code",
      "source": [
        "df_novo_4.isnull().sum()"
      ],
      "metadata": {
        "id": "Lb9r_1aEf_Ol",
        "outputId": "ed4ac0f2-1481-410e-baf7-e5df2c745646",
        "colab": {
          "base_uri": "https://localhost:8080/",
          "height": 335
        }
      },
      "execution_count": 336,
      "outputs": [
        {
          "output_type": "execute_result",
          "data": {
            "text/plain": [
              "ano                    2\n",
              "mes                47723\n",
              "senador                0\n",
              "despesa                0\n",
              "fornecedot             0\n",
              "data               27295\n",
              "detalhe                0\n",
              "valor reembolso        2\n",
              "dtype: int64"
            ],
            "text/html": [
              "<div>\n",
              "<style scoped>\n",
              "    .dataframe tbody tr th:only-of-type {\n",
              "        vertical-align: middle;\n",
              "    }\n",
              "\n",
              "    .dataframe tbody tr th {\n",
              "        vertical-align: top;\n",
              "    }\n",
              "\n",
              "    .dataframe thead th {\n",
              "        text-align: right;\n",
              "    }\n",
              "</style>\n",
              "<table border=\"1\" class=\"dataframe\">\n",
              "  <thead>\n",
              "    <tr style=\"text-align: right;\">\n",
              "      <th></th>\n",
              "      <th>0</th>\n",
              "    </tr>\n",
              "  </thead>\n",
              "  <tbody>\n",
              "    <tr>\n",
              "      <th>ano</th>\n",
              "      <td>2</td>\n",
              "    </tr>\n",
              "    <tr>\n",
              "      <th>mes</th>\n",
              "      <td>47723</td>\n",
              "    </tr>\n",
              "    <tr>\n",
              "      <th>senador</th>\n",
              "      <td>0</td>\n",
              "    </tr>\n",
              "    <tr>\n",
              "      <th>despesa</th>\n",
              "      <td>0</td>\n",
              "    </tr>\n",
              "    <tr>\n",
              "      <th>fornecedot</th>\n",
              "      <td>0</td>\n",
              "    </tr>\n",
              "    <tr>\n",
              "      <th>data</th>\n",
              "      <td>27295</td>\n",
              "    </tr>\n",
              "    <tr>\n",
              "      <th>detalhe</th>\n",
              "      <td>0</td>\n",
              "    </tr>\n",
              "    <tr>\n",
              "      <th>valor reembolso</th>\n",
              "      <td>2</td>\n",
              "    </tr>\n",
              "  </tbody>\n",
              "</table>\n",
              "</div><br><label><b>dtype:</b> int64</label>"
            ]
          },
          "metadata": {},
          "execution_count": 336
        }
      ]
    },
    {
      "cell_type": "code",
      "source": [
        "df_novo_4= df_novo_4.drop(columns = ['data'])\n",
        "df_novo_4= df_novo_4.drop(columns = ['mes'])"
      ],
      "metadata": {
        "id": "X4fNGcEQgG06"
      },
      "execution_count": 337,
      "outputs": []
    },
    {
      "cell_type": "code",
      "source": [
        "df_novo_4.columns"
      ],
      "metadata": {
        "id": "sRn7Gr8IgaNf",
        "outputId": "85ba8721-84c9-4314-f31b-52db099ad23d",
        "colab": {
          "base_uri": "https://localhost:8080/"
        }
      },
      "execution_count": 338,
      "outputs": [
        {
          "output_type": "execute_result",
          "data": {
            "text/plain": [
              "Index(['ano', 'senador', 'despesa', 'fornecedot', 'detalhe',\n",
              "       'valor reembolso'],\n",
              "      dtype='object')"
            ]
          },
          "metadata": {},
          "execution_count": 338
        }
      ]
    }
  ]
}