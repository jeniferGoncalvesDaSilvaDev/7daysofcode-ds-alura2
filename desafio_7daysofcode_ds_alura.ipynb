{
  "nbformat": 4,
  "nbformat_minor": 0,
  "metadata": {
    "colab": {
      "provenance": [],
      "mount_file_id": "https://github.com/jeniferGoncalvesDaSilvaDev/7daysofcode-ds-alura2/blob/main/desafio_7daysofcode_ds_alura.ipynb",
      "authorship_tag": "ABX9TyMsPMFj6cQDrqsWitLMMtFv",
      "include_colab_link": true
    },
    "kernelspec": {
      "name": "python3",
      "display_name": "Python 3"
    },
    "language_info": {
      "name": "python"
    }
  },
  "cells": [
    {
      "cell_type": "markdown",
      "metadata": {
        "id": "view-in-github",
        "colab_type": "text"
      },
      "source": [
        "<a href=\"https://colab.research.google.com/github/jeniferGoncalvesDaSilvaDev/7daysofcode-ds-alura2/blob/main/desafio_7daysofcode_ds_alura.ipynb\" target=\"_parent\"><img src=\"https://colab.research.google.com/assets/colab-badge.svg\" alt=\"Open In Colab\"/></a>"
      ]
    },
    {
      "cell_type": "code",
      "execution_count": 469,
      "metadata": {
        "id": "Cm2Jlji_yNtu"
      },
      "outputs": [],
      "source": [
        "import pandas as pd"
      ]
    },
    {
      "cell_type": "markdown",
      "source": [
        "Dia 1: limpeza de dados"
      ],
      "metadata": {
        "id": "j05InQjClTsR"
      }
    },
    {
      "cell_type": "code",
      "source": [
        "\n",
        "\n",
        "# Lista de arquivos CSV\n",
        "lista_csv = [\"/content/drive/MyDrive/csv/despesa_ceaps_2022.csv\",\n",
        "             \"/content/drive/MyDrive/csv/despesa_ceaps_2021.csv\",\n",
        "             \"/content/drive/MyDrive/csv/despesa_ceaps_2020.csv\"]\n",
        "\n",
        "# Função para gerar DataFrames a partir de arquivos CSV\n",
        "def gerar_ds(lista_arquivos):\n",
        "    lista_ds = []\n",
        "    for arquivo in lista_arquivos:\n",
        "        try:\n",
        "            df = pd.read_csv(arquivo, encoding=\"latin-1\", sep=';', on_bad_lines='skip')\n",
        "            lista_ds.append(df)\n",
        "        except Exception as e:\n",
        "            print(f\"Erro ao carregar o arquivo {arquivo}: {e}\")\n",
        "    return lista_ds\n",
        "\n",
        "# Gerar a lista de DataFrames\n",
        "gerar_data = gerar_ds(lista_csv)\n",
        "\n",
        "# Concatenar todos os DataFrames em um único DataFrame\n",
        "df_unico = pd.concat(gerar_data, ignore_index=False)\n",
        "\n",
        "# Exibir os primeiros registros do DataFrame concatenado\n",
        "print(df_unico.head(4))"
      ],
      "metadata": {
        "colab": {
          "base_uri": "https://localhost:8080/"
        },
        "id": "ercI_csU1SgS",
        "outputId": "d9c8faea-3f53-4ebe-e013-cc57e121603e"
      },
      "execution_count": 470,
      "outputs": [
        {
          "output_type": "stream",
          "name": "stdout",
          "text": [
            "                                                                                                                                                                                                            ULTIMA ATUALIZACAO  \\\n",
            "ANO  MES SENADOR      TIPO_DESPESA                                       CNPJ_CPF           FORNECEDOR                      DOCUMENTO         DATA       DETALHAMENTO                                        VALOR_REEMBOLSADO   \n",
            "2022 1   ACIR GURGACZ Aluguel de imóveis para escritório político, co... 004.948.028-63     GILBERTO PISELO DO NASCIMENTO   001/22            03/01/2022 Despesa com pagamento de aluguel de imóvel para...               6000   \n",
            "                      Divulgação da atividade parlamentar                26.320.603/0001-64 INFORMANAHORA                   000000000000310/A 04/01/2022 Despesa com divulgação da atividade parlamentar...               1500   \n",
            "                                                                         13.659.201/0001-47 LINHA PURPURA FOTO E VIDEO LTDA 107               14/01/2022 Despesa com produção de texto e edição de vídeo...               6000   \n",
            "\n",
            "                                                                                                                                                                                                            22/09/2024 02:01  \\\n",
            "ANO  MES SENADOR      TIPO_DESPESA                                       CNPJ_CPF           FORNECEDOR                      DOCUMENTO         DATA       DETALHAMENTO                                          COD_DOCUMENTO   \n",
            "2022 1   ACIR GURGACZ Aluguel de imóveis para escritório político, co... 004.948.028-63     GILBERTO PISELO DO NASCIMENTO   001/22            03/01/2022 Despesa com pagamento de aluguel de imóvel para...          2173614   \n",
            "                      Divulgação da atividade parlamentar                26.320.603/0001-64 INFORMANAHORA                   000000000000310/A 04/01/2022 Despesa com divulgação da atividade parlamentar...          2173615   \n",
            "                                                                         13.659.201/0001-47 LINHA PURPURA FOTO E VIDEO LTDA 107               14/01/2022 Despesa com produção de texto e edição de vídeo...          2173616   \n",
            "\n",
            "                                                                                                                                                                                                            23/09/2024 02:00  \n",
            "ANO  MES SENADOR      TIPO_DESPESA                                       CNPJ_CPF           FORNECEDOR                      DOCUMENTO         DATA       DETALHAMENTO                                                    NaN  \n",
            "2022 1   ACIR GURGACZ Aluguel de imóveis para escritório político, co... 004.948.028-63     GILBERTO PISELO DO NASCIMENTO   001/22            03/01/2022 Despesa com pagamento de aluguel de imóvel para...              NaN  \n",
            "                      Divulgação da atividade parlamentar                26.320.603/0001-64 INFORMANAHORA                   000000000000310/A 04/01/2022 Despesa com divulgação da atividade parlamentar...              NaN  \n",
            "                                                                         13.659.201/0001-47 LINHA PURPURA FOTO E VIDEO LTDA 107               14/01/2022 Despesa com produção de texto e edição de vídeo...              NaN  \n"
          ]
        }
      ]
    },
    {
      "cell_type": "code",
      "source": [
        "df_unico.columns"
      ],
      "metadata": {
        "colab": {
          "base_uri": "https://localhost:8080/"
        },
        "id": "hasu-t5T1kQq",
        "outputId": "52afc018-b7b9-4890-e23c-22730ea47700"
      },
      "execution_count": 471,
      "outputs": [
        {
          "output_type": "execute_result",
          "data": {
            "text/plain": [
              "Index(['ULTIMA ATUALIZACAO', '22/09/2024 02:01', '23/09/2024 02:00'], dtype='object')"
            ]
          },
          "metadata": {},
          "execution_count": 471
        }
      ]
    },
    {
      "cell_type": "code",
      "source": [
        "df_limpo = df_unico.drop(columns=['22/09/2024 02:01'])"
      ],
      "metadata": {
        "id": "_IWv7vTLQURy"
      },
      "execution_count": 472,
      "outputs": []
    },
    {
      "cell_type": "code",
      "source": [
        "df_limpo = df_unico.drop(columns=['23/09/2024 02:00'])"
      ],
      "metadata": {
        "id": "0yx__KoSRNMh"
      },
      "execution_count": 473,
      "outputs": []
    },
    {
      "cell_type": "code",
      "source": [
        "df_limpo.columns"
      ],
      "metadata": {
        "id": "-FzvE2dlRTgl",
        "outputId": "bc617ec0-5b9a-41a9-f435-dac72b5bd602",
        "colab": {
          "base_uri": "https://localhost:8080/"
        }
      },
      "execution_count": 474,
      "outputs": [
        {
          "output_type": "execute_result",
          "data": {
            "text/plain": [
              "Index(['ULTIMA ATUALIZACAO', '22/09/2024 02:01'], dtype='object')"
            ]
          },
          "metadata": {},
          "execution_count": 474
        }
      ]
    },
    {
      "cell_type": "code",
      "source": [
        "df_limpo = df_unico.drop(columns=['22/09/2024 02:01'])"
      ],
      "metadata": {
        "id": "Zncc2VHsRcSP"
      },
      "execution_count": 475,
      "outputs": []
    },
    {
      "cell_type": "code",
      "source": [
        "df_limpo.columns"
      ],
      "metadata": {
        "id": "QHmhWLRKRg3u",
        "outputId": "1ecd74b4-3a4d-4eff-f42e-95cd159a36ca",
        "colab": {
          "base_uri": "https://localhost:8080/"
        }
      },
      "execution_count": 476,
      "outputs": [
        {
          "output_type": "execute_result",
          "data": {
            "text/plain": [
              "Index(['ULTIMA ATUALIZACAO', '23/09/2024 02:00'], dtype='object')"
            ]
          },
          "metadata": {},
          "execution_count": 476
        }
      ]
    },
    {
      "cell_type": "code",
      "source": [
        "df_limpo = df_unico.drop(columns=['23/09/2024 02:00'])"
      ],
      "metadata": {
        "id": "qvCQM2elRk8n"
      },
      "execution_count": 477,
      "outputs": []
    },
    {
      "cell_type": "code",
      "source": [
        "df_limpo.columns"
      ],
      "metadata": {
        "id": "wWNHfhvyRs4x",
        "outputId": "7fc0552a-fded-460c-e5dd-a0d85fabc6a1",
        "colab": {
          "base_uri": "https://localhost:8080/"
        }
      },
      "execution_count": 478,
      "outputs": [
        {
          "output_type": "execute_result",
          "data": {
            "text/plain": [
              "Index(['ULTIMA ATUALIZACAO', '22/09/2024 02:01'], dtype='object')"
            ]
          },
          "metadata": {},
          "execution_count": 478
        }
      ]
    },
    {
      "cell_type": "code",
      "source": [
        "df_novo = pd.DataFrame(df_limpo['ULTIMA ATUALIZACAO'])"
      ],
      "metadata": {
        "id": "VaQO_rJaawXK"
      },
      "execution_count": 479,
      "outputs": []
    },
    {
      "cell_type": "code",
      "source": [
        "df_novo.columns"
      ],
      "metadata": {
        "id": "XAbZfncbGQlv",
        "outputId": "6e673e2b-241b-4722-ca70-233af8b9b8fc",
        "colab": {
          "base_uri": "https://localhost:8080/"
        }
      },
      "execution_count": 480,
      "outputs": [
        {
          "output_type": "execute_result",
          "data": {
            "text/plain": [
              "Index(['ULTIMA ATUALIZACAO'], dtype='object')"
            ]
          },
          "metadata": {},
          "execution_count": 480
        }
      ]
    },
    {
      "cell_type": "code",
      "source": [
        "print(df_novo)"
      ],
      "metadata": {
        "id": "EixKN7pphNHL",
        "outputId": "aec53b0a-eaed-4884-8326-a4d616f72fb2",
        "colab": {
          "base_uri": "https://localhost:8080/"
        }
      },
      "execution_count": 481,
      "outputs": [
        {
          "output_type": "stream",
          "name": "stdout",
          "text": [
            "                                                                                                                                                                                                                  ULTIMA ATUALIZACAO\n",
            "ANO  MES SENADOR          TIPO_DESPESA                                       CNPJ_CPF           FORNECEDOR                        DOCUMENTO         DATA       DETALHAMENTO                                        VALOR_REEMBOLSADO\n",
            "2022 1   ACIR GURGACZ     Aluguel de imóveis para escritório político, co... 004.948.028-63     GILBERTO PISELO DO NASCIMENTO     001/22            03/01/2022 Despesa com pagamento de aluguel de imóvel para...               6000\n",
            "                          Divulgação da atividade parlamentar                26.320.603/0001-64 INFORMANAHORA                     000000000000310/A 04/01/2022 Despesa com divulgação da atividade parlamentar...               1500\n",
            "                                                                             13.659.201/0001-47 LINHA PURPURA FOTO E VIDEO LTDA   107               14/01/2022 Despesa com produção de texto e edição de vídeo...               6000\n",
            "                                                                             23.652.846/0001-01 ROBERTO GUTIERREZ DA ROCHA M.E.I. 187               18/01/2022 Divulgação da atividade parlamentar                              1000\n",
            "...                                                                                                                                                                                                                              ...\n",
            "2020 12  ZEQUINHA MARINHO Passagens aéreas, aquáticas e terrestres nacionais 22.052.777/0001-32 Exceller Tour                     TJ9NGF            08/12/2020 Companhia Aérea: GOL, Localizador: TJ9NGF. Pass...            1654,46\n",
            "                                                                                                                                  QN9KHE            09/12/2020 Companhia Aérea: AZUL, Localizador: QN9KHE. Pas...            1121,83\n",
            "                                                                                                                                  QIGVKT            14/12/2020 Companhia Aérea: AZUL, Localizador: QIGVKT. Pas...             549,47\n",
            "                                                                                                                                  QDHKYF            14/12/2020 Companhia Aérea: AZUL, Localizador: QDHKYF. Pas...             831,05\n",
            "                                                                                                                                  BQWCVK            18/12/2020 Companhia Aérea: GOL, Localizador: BQWCVK. Pass...            2026,12\n",
            "\n",
            "[47725 rows x 1 columns]\n"
          ]
        }
      ]
    },
    {
      "cell_type": "code",
      "source": [
        "df_novo.index"
      ],
      "metadata": {
        "id": "HkO5I-vSiTSX",
        "outputId": "d006d776-ec1f-4734-cd2c-2a9452059ace",
        "colab": {
          "base_uri": "https://localhost:8080/"
        }
      },
      "execution_count": 482,
      "outputs": [
        {
          "output_type": "execute_result",
          "data": {
            "text/plain": [
              "MultiIndex([( 'ANO', 'MES',          'SENADOR', ...),\n",
              "            ('2022',   '1',     'ACIR GURGACZ', ...),\n",
              "            ('2022',   '1',     'ACIR GURGACZ', ...),\n",
              "            ('2022',   '1',     'ACIR GURGACZ', ...),\n",
              "            ('2022',   '1',     'ACIR GURGACZ', ...),\n",
              "            ('2022',   '1',     'ACIR GURGACZ', ...),\n",
              "            ('2022',   '1',     'ACIR GURGACZ', ...),\n",
              "            ('2022',   '2',     'ACIR GURGACZ', ...),\n",
              "            ('2022',   '2',     'ACIR GURGACZ', ...),\n",
              "            ('2022',   '2',     'ACIR GURGACZ', ...),\n",
              "            ...\n",
              "            ('2020',  '12', 'ZEQUINHA MARINHO', ...),\n",
              "            ('2020',  '12', 'ZEQUINHA MARINHO', ...),\n",
              "            ('2020',  '12', 'ZEQUINHA MARINHO', ...),\n",
              "            ('2020',  '12', 'ZEQUINHA MARINHO', ...),\n",
              "            ('2020',  '12', 'ZEQUINHA MARINHO', ...),\n",
              "            ('2020',  '12', 'ZEQUINHA MARINHO', ...),\n",
              "            ('2020',  '12', 'ZEQUINHA MARINHO', ...),\n",
              "            ('2020',  '12', 'ZEQUINHA MARINHO', ...),\n",
              "            ('2020',  '12', 'ZEQUINHA MARINHO', ...),\n",
              "            ('2020',  '12', 'ZEQUINHA MARINHO', ...)],\n",
              "           length=47725)"
            ]
          },
          "metadata": {},
          "execution_count": 482
        }
      ]
    },
    {
      "cell_type": "code",
      "source": [
        "coluna = df_novo.index[0]\n",
        "print(coluna)\n",
        "print(len(coluna))"
      ],
      "metadata": {
        "id": "wF3tUze7G1kF",
        "outputId": "df9927b3-8d70-4d59-b8ed-f4bdf98673b3",
        "colab": {
          "base_uri": "https://localhost:8080/"
        }
      },
      "execution_count": 483,
      "outputs": [
        {
          "output_type": "stream",
          "name": "stdout",
          "text": [
            "('ANO', 'MES', 'SENADOR', 'TIPO_DESPESA', 'CNPJ_CPF', 'FORNECEDOR', 'DOCUMENTO', 'DATA', 'DETALHAMENTO')\n",
            "9\n"
          ]
        }
      ]
    },
    {
      "cell_type": "code",
      "source": [
        "linhas = df_novo.index[1:]"
      ],
      "metadata": {
        "id": "pk0_EW6E21j1"
      },
      "execution_count": 484,
      "outputs": []
    },
    {
      "cell_type": "code",
      "source": [
        "def criar_dict():\n",
        "    my_dict = {} # Create an empty dictionary\n",
        "    my_dict[\"ano\"] = coluna[0] # Remove the comma after coluna[0]\n",
        "    my_dict[\"mes\"] = coluna[1] # Remove the comma after coluna[1]\n",
        "    my_dict[\"senador\"] = coluna[2] # Remove the comma after coluna[2]\n",
        "    my_dict[\"despesa\"] = coluna[3] # Remove the comma after coluna[3]\n",
        "    my_dict[\"cnpj/cpf\"] = coluna[4] # Remove the comma after coluna[4]\n",
        "    my_dict[\"fornecedot\"] = coluna[5] # Remove the comma after coluna[5]\n",
        "    my_dict[\"documento\"] = coluna[6] # Remove the comma after coluna[6]\n",
        "    my_dict[\"data\"] = coluna[7] # Remove the comma after coluna[7]\n",
        "    my_dict[\"detalhe\"]= coluna[8] # Remove the comma after coluna[8]\n",
        "    return my_dict # Return the created dictionary"
      ],
      "metadata": {
        "id": "bX3tge1X5GzO"
      },
      "execution_count": 485,
      "outputs": []
    },
    {
      "cell_type": "code",
      "source": [
        "dict_columns= criar_dict()\n",
        "print(dict_columns)"
      ],
      "metadata": {
        "id": "OWo_br8H4wyu",
        "outputId": "4259d104-73fb-4500-d740-b7c1e4271ed9",
        "colab": {
          "base_uri": "https://localhost:8080/"
        }
      },
      "execution_count": 486,
      "outputs": [
        {
          "output_type": "stream",
          "name": "stdout",
          "text": [
            "{'ano': 'ANO', 'mes': 'MES', 'senador': 'SENADOR', 'despesa': 'TIPO_DESPESA', 'cnpj/cpf': 'CNPJ_CPF', 'fornecedot': 'FORNECEDOR', 'documento': 'DOCUMENTO', 'data': 'DATA', 'detalhe': 'DETALHAMENTO'}\n"
          ]
        }
      ]
    },
    {
      "cell_type": "code",
      "source": [
        "linhas =list(linhas)"
      ],
      "metadata": {
        "id": "4oipFa_05eSW"
      },
      "execution_count": 487,
      "outputs": []
    },
    {
      "cell_type": "code",
      "source": [
        "def interar_linhas():\n",
        "    result = []  # Create a list to store the values\n",
        "    for i in range(len(linhas)):\n",
        "        inner_list = []  # Create a list for each inner list\n",
        "        for j in range(len(linhas[i])):\n",
        "            inner_list.append(linhas[i][j])\n",
        "        result.append(inner_list)  # Add the inner list to the result\n",
        "    return result  # Return the result list\n",
        "\n",
        "tela = interar_linhas()"
      ],
      "metadata": {
        "id": "i6OjrCKZHkiB"
      },
      "execution_count": 488,
      "outputs": []
    },
    {
      "cell_type": "code",
      "source": [
        " #Import the pandas module\n",
        "\n",
        "def dict_valores(dict_columns, tela):\n",
        "    # Create a list to store the dictionaries\n",
        "    list_of_dicts = []\n",
        "    for row in tela:\n",
        "        # Create a dictionary for each row\n",
        "        row_dict = {}\n",
        "        for key, value in zip(dict_columns.keys(), row):\n",
        "            row_dict[key] = value\n",
        "        list_of_dicts.append(row_dict)\n",
        "\n",
        "    return list_of_dicts\n",
        "\n",
        "result = dict_valores(dict_columns, tela)\n",
        "df_novo_2 = pd.DataFrame(result) #Create the DataFrame from the list of dictionaries\n",
        "print(df_novo_2)"
      ],
      "metadata": {
        "id": "FNxRjaNqJMDD",
        "outputId": "97a4ca0b-4dcf-49f5-9e55-ec5cde3f4bf3",
        "colab": {
          "base_uri": "https://localhost:8080/"
        }
      },
      "execution_count": 489,
      "outputs": [
        {
          "output_type": "stream",
          "name": "stdout",
          "text": [
            "        ano mes           senador  \\\n",
            "0      2022   1      ACIR GURGACZ   \n",
            "1      2022   1      ACIR GURGACZ   \n",
            "2      2022   1      ACIR GURGACZ   \n",
            "3      2022   1      ACIR GURGACZ   \n",
            "4      2022   1      ACIR GURGACZ   \n",
            "...     ...  ..               ...   \n",
            "47719  2020  12  ZEQUINHA MARINHO   \n",
            "47720  2020  12  ZEQUINHA MARINHO   \n",
            "47721  2020  12  ZEQUINHA MARINHO   \n",
            "47722  2020  12  ZEQUINHA MARINHO   \n",
            "47723  2020  12  ZEQUINHA MARINHO   \n",
            "\n",
            "                                                 despesa            cnpj/cpf  \\\n",
            "0      Aluguel de imóveis para escritório político, c...      004.948.028-63   \n",
            "1                    Divulgação da atividade parlamentar  26.320.603/0001-64   \n",
            "2                    Divulgação da atividade parlamentar  13.659.201/0001-47   \n",
            "3                    Divulgação da atividade parlamentar  23.652.846/0001-01   \n",
            "4                    Divulgação da atividade parlamentar  08.941.827/0001-01   \n",
            "...                                                  ...                 ...   \n",
            "47719  Passagens aéreas, aquáticas e terrestres nacio...  22.052.777/0001-32   \n",
            "47720  Passagens aéreas, aquáticas e terrestres nacio...  22.052.777/0001-32   \n",
            "47721  Passagens aéreas, aquáticas e terrestres nacio...  22.052.777/0001-32   \n",
            "47722  Passagens aéreas, aquáticas e terrestres nacio...  22.052.777/0001-32   \n",
            "47723  Passagens aéreas, aquáticas e terrestres nacio...  22.052.777/0001-32   \n",
            "\n",
            "                                              fornecedot          documento  \\\n",
            "0                          GILBERTO PISELO DO NASCIMENTO             001/22   \n",
            "1                                          INFORMANAHORA  000000000000310/A   \n",
            "2                        LINHA PURPURA FOTO E VIDEO LTDA                107   \n",
            "3                      ROBERTO GUTIERREZ DA ROCHA M.E.I.                187   \n",
            "4      RONDONIA DINÂMICA COM. E SERV. DE INFORMÁTICA ...  000000000001772/A   \n",
            "...                                                  ...                ...   \n",
            "47719                                      Exceller Tour             TJ9NGF   \n",
            "47720                                      Exceller Tour             QN9KHE   \n",
            "47721                                      Exceller Tour             QIGVKT   \n",
            "47722                                      Exceller Tour             QDHKYF   \n",
            "47723                                      Exceller Tour             BQWCVK   \n",
            "\n",
            "             data                                            detalhe  \n",
            "0      03/01/2022  Despesa com pagamento de aluguel de imóvel par...  \n",
            "1      04/01/2022  Despesa com divulgação da atividade parlamenta...  \n",
            "2      14/01/2022  Despesa com produção de texto e edição de víde...  \n",
            "3      18/01/2022                Divulgação da atividade parlamentar  \n",
            "4      17/01/2022                Divulgação da atividade parlamentar  \n",
            "...           ...                                                ...  \n",
            "47719  08/12/2020  Companhia Aérea: GOL, Localizador: TJ9NGF. Pas...  \n",
            "47720  09/12/2020  Companhia Aérea: AZUL, Localizador: QN9KHE. Pa...  \n",
            "47721  14/12/2020  Companhia Aérea: AZUL, Localizador: QIGVKT. Pa...  \n",
            "47722  14/12/2020  Companhia Aérea: AZUL, Localizador: QDHKYF. Pa...  \n",
            "47723  18/12/2020  Companhia Aérea: GOL, Localizador: BQWCVK. Pas...  \n",
            "\n",
            "[47724 rows x 9 columns]\n"
          ]
        }
      ]
    },
    {
      "cell_type": "code",
      "source": [
        "df_novo_2['ano']"
      ],
      "metadata": {
        "id": "gxM9lU78Js0D",
        "outputId": "d0f9811f-87de-40b7-f5a4-864d69cbc870",
        "colab": {
          "base_uri": "https://localhost:8080/",
          "height": 458
        }
      },
      "execution_count": 490,
      "outputs": [
        {
          "output_type": "execute_result",
          "data": {
            "text/plain": [
              "0        2022\n",
              "1        2022\n",
              "2        2022\n",
              "3        2022\n",
              "4        2022\n",
              "         ... \n",
              "47719    2020\n",
              "47720    2020\n",
              "47721    2020\n",
              "47722    2020\n",
              "47723    2020\n",
              "Name: ano, Length: 47724, dtype: object"
            ],
            "text/html": [
              "<div>\n",
              "<style scoped>\n",
              "    .dataframe tbody tr th:only-of-type {\n",
              "        vertical-align: middle;\n",
              "    }\n",
              "\n",
              "    .dataframe tbody tr th {\n",
              "        vertical-align: top;\n",
              "    }\n",
              "\n",
              "    .dataframe thead th {\n",
              "        text-align: right;\n",
              "    }\n",
              "</style>\n",
              "<table border=\"1\" class=\"dataframe\">\n",
              "  <thead>\n",
              "    <tr style=\"text-align: right;\">\n",
              "      <th></th>\n",
              "      <th>ano</th>\n",
              "    </tr>\n",
              "  </thead>\n",
              "  <tbody>\n",
              "    <tr>\n",
              "      <th>0</th>\n",
              "      <td>2022</td>\n",
              "    </tr>\n",
              "    <tr>\n",
              "      <th>1</th>\n",
              "      <td>2022</td>\n",
              "    </tr>\n",
              "    <tr>\n",
              "      <th>2</th>\n",
              "      <td>2022</td>\n",
              "    </tr>\n",
              "    <tr>\n",
              "      <th>3</th>\n",
              "      <td>2022</td>\n",
              "    </tr>\n",
              "    <tr>\n",
              "      <th>4</th>\n",
              "      <td>2022</td>\n",
              "    </tr>\n",
              "    <tr>\n",
              "      <th>...</th>\n",
              "      <td>...</td>\n",
              "    </tr>\n",
              "    <tr>\n",
              "      <th>47719</th>\n",
              "      <td>2020</td>\n",
              "    </tr>\n",
              "    <tr>\n",
              "      <th>47720</th>\n",
              "      <td>2020</td>\n",
              "    </tr>\n",
              "    <tr>\n",
              "      <th>47721</th>\n",
              "      <td>2020</td>\n",
              "    </tr>\n",
              "    <tr>\n",
              "      <th>47722</th>\n",
              "      <td>2020</td>\n",
              "    </tr>\n",
              "    <tr>\n",
              "      <th>47723</th>\n",
              "      <td>2020</td>\n",
              "    </tr>\n",
              "  </tbody>\n",
              "</table>\n",
              "<p>47724 rows × 1 columns</p>\n",
              "</div><br><label><b>dtype:</b> object</label>"
            ]
          },
          "metadata": {},
          "execution_count": 490
        }
      ]
    },
    {
      "cell_type": "code",
      "source": [
        "df_novo_2['detalhe']"
      ],
      "metadata": {
        "id": "vCQxEL_iKFsI",
        "outputId": "2430c93f-ab12-469d-aa39-2162f1bf4b04",
        "colab": {
          "base_uri": "https://localhost:8080/",
          "height": 597
        }
      },
      "execution_count": 491,
      "outputs": [
        {
          "output_type": "execute_result",
          "data": {
            "text/plain": [
              "0        Despesa com pagamento de aluguel de imóvel par...\n",
              "1        Despesa com divulgação da atividade parlamenta...\n",
              "2        Despesa com produção de texto e edição de víde...\n",
              "3                      Divulgação da atividade parlamentar\n",
              "4                      Divulgação da atividade parlamentar\n",
              "                               ...                        \n",
              "47719    Companhia Aérea: GOL, Localizador: TJ9NGF. Pas...\n",
              "47720    Companhia Aérea: AZUL, Localizador: QN9KHE. Pa...\n",
              "47721    Companhia Aérea: AZUL, Localizador: QIGVKT. Pa...\n",
              "47722    Companhia Aérea: AZUL, Localizador: QDHKYF. Pa...\n",
              "47723    Companhia Aérea: GOL, Localizador: BQWCVK. Pas...\n",
              "Name: detalhe, Length: 47724, dtype: object"
            ],
            "text/html": [
              "<div>\n",
              "<style scoped>\n",
              "    .dataframe tbody tr th:only-of-type {\n",
              "        vertical-align: middle;\n",
              "    }\n",
              "\n",
              "    .dataframe tbody tr th {\n",
              "        vertical-align: top;\n",
              "    }\n",
              "\n",
              "    .dataframe thead th {\n",
              "        text-align: right;\n",
              "    }\n",
              "</style>\n",
              "<table border=\"1\" class=\"dataframe\">\n",
              "  <thead>\n",
              "    <tr style=\"text-align: right;\">\n",
              "      <th></th>\n",
              "      <th>detalhe</th>\n",
              "    </tr>\n",
              "  </thead>\n",
              "  <tbody>\n",
              "    <tr>\n",
              "      <th>0</th>\n",
              "      <td>Despesa com pagamento de aluguel de imóvel par...</td>\n",
              "    </tr>\n",
              "    <tr>\n",
              "      <th>1</th>\n",
              "      <td>Despesa com divulgação da atividade parlamenta...</td>\n",
              "    </tr>\n",
              "    <tr>\n",
              "      <th>2</th>\n",
              "      <td>Despesa com produção de texto e edição de víde...</td>\n",
              "    </tr>\n",
              "    <tr>\n",
              "      <th>3</th>\n",
              "      <td>Divulgação da atividade parlamentar</td>\n",
              "    </tr>\n",
              "    <tr>\n",
              "      <th>4</th>\n",
              "      <td>Divulgação da atividade parlamentar</td>\n",
              "    </tr>\n",
              "    <tr>\n",
              "      <th>...</th>\n",
              "      <td>...</td>\n",
              "    </tr>\n",
              "    <tr>\n",
              "      <th>47719</th>\n",
              "      <td>Companhia Aérea: GOL, Localizador: TJ9NGF. Pas...</td>\n",
              "    </tr>\n",
              "    <tr>\n",
              "      <th>47720</th>\n",
              "      <td>Companhia Aérea: AZUL, Localizador: QN9KHE. Pa...</td>\n",
              "    </tr>\n",
              "    <tr>\n",
              "      <th>47721</th>\n",
              "      <td>Companhia Aérea: AZUL, Localizador: QIGVKT. Pa...</td>\n",
              "    </tr>\n",
              "    <tr>\n",
              "      <th>47722</th>\n",
              "      <td>Companhia Aérea: AZUL, Localizador: QDHKYF. Pa...</td>\n",
              "    </tr>\n",
              "    <tr>\n",
              "      <th>47723</th>\n",
              "      <td>Companhia Aérea: GOL, Localizador: BQWCVK. Pas...</td>\n",
              "    </tr>\n",
              "  </tbody>\n",
              "</table>\n",
              "<p>47724 rows × 1 columns</p>\n",
              "</div><br><label><b>dtype:</b> object</label>"
            ]
          },
          "metadata": {},
          "execution_count": 491
        }
      ]
    },
    {
      "cell_type": "code",
      "source": [
        "df_novo_2.columns"
      ],
      "metadata": {
        "id": "ESGxr20jDxAa",
        "outputId": "f30d3332-c3da-4526-ea2b-46df57aa0530",
        "colab": {
          "base_uri": "https://localhost:8080/"
        }
      },
      "execution_count": 492,
      "outputs": [
        {
          "output_type": "execute_result",
          "data": {
            "text/plain": [
              "Index(['ano', 'mes', 'senador', 'despesa', 'cnpj/cpf', 'fornecedot',\n",
              "       'documento', 'data', 'detalhe'],\n",
              "      dtype='object')"
            ]
          },
          "metadata": {},
          "execution_count": 492
        }
      ]
    },
    {
      "cell_type": "code",
      "source": [
        "df_novo_3 = df_novo_2.drop(columns=['cnpj/cpf'])"
      ],
      "metadata": {
        "id": "ArOuGDNBD12v"
      },
      "execution_count": 493,
      "outputs": []
    },
    {
      "cell_type": "code",
      "source": [
        "df_novo_3 = df_novo_2.drop(columns=['documento'])"
      ],
      "metadata": {
        "id": "eN1rcuXiEFfu"
      },
      "execution_count": 494,
      "outputs": []
    },
    {
      "cell_type": "code",
      "source": [
        "df_novo_3.columns"
      ],
      "metadata": {
        "id": "dq2pI2G7EK4k",
        "outputId": "a04e43e2-4789-4ad8-b124-82c071dcc79e",
        "colab": {
          "base_uri": "https://localhost:8080/"
        }
      },
      "execution_count": 495,
      "outputs": [
        {
          "output_type": "execute_result",
          "data": {
            "text/plain": [
              "Index(['ano', 'mes', 'senador', 'despesa', 'cnpj/cpf', 'fornecedot', 'data',\n",
              "       'detalhe'],\n",
              "      dtype='object')"
            ]
          },
          "metadata": {},
          "execution_count": 495
        }
      ]
    },
    {
      "cell_type": "code",
      "source": [
        "\n",
        "\n",
        "\n",
        "# Converter a coluna para datetime e extrair o ano\n",
        "df_novo_3['data'] = pd.to_datetime(df_novo_3['data'], errors='coerce').dt.day\n",
        "\n",
        "print(df_novo_3['data'])"
      ],
      "metadata": {
        "id": "zgv1WwNVEVB4",
        "outputId": "1b68ff86-f158-484f-8183-dc612b3b4461",
        "colab": {
          "base_uri": "https://localhost:8080/"
        }
      },
      "execution_count": 496,
      "outputs": [
        {
          "output_type": "stream",
          "name": "stdout",
          "text": [
            "0         1.0\n",
            "1         1.0\n",
            "2         NaN\n",
            "3         NaN\n",
            "4         NaN\n",
            "         ... \n",
            "47719    12.0\n",
            "47720    12.0\n",
            "47721     NaN\n",
            "47722     NaN\n",
            "47723     NaN\n",
            "Name: data, Length: 47724, dtype: float64\n"
          ]
        }
      ]
    },
    {
      "cell_type": "code",
      "source": [
        "# Converter a coluna para datetime e extrair o ano\n",
        "df_novo_3['ano'] = pd.to_datetime(df_novo_3['ano'], errors='coerce')\n",
        "\n",
        "print(df_novo_3['ano'])"
      ],
      "metadata": {
        "id": "GLhsuDARFpz0",
        "outputId": "832bd6bd-915e-4502-a964-7dcf137beac0",
        "colab": {
          "base_uri": "https://localhost:8080/"
        }
      },
      "execution_count": 497,
      "outputs": [
        {
          "output_type": "stream",
          "name": "stdout",
          "text": [
            "0       2022-01-01\n",
            "1       2022-01-01\n",
            "2       2022-01-01\n",
            "3       2022-01-01\n",
            "4       2022-01-01\n",
            "           ...    \n",
            "47719   2020-01-01\n",
            "47720   2020-01-01\n",
            "47721   2020-01-01\n",
            "47722   2020-01-01\n",
            "47723   2020-01-01\n",
            "Name: ano, Length: 47724, dtype: datetime64[ns]\n"
          ]
        }
      ]
    },
    {
      "cell_type": "code",
      "source": [
        "# Converter a coluna para datetime e extrair o ano\n",
        "df_novo_3['mes'] = pd.to_datetime(df_novo_3['mes'], errors='coerce').dt.month\n",
        "\n",
        "print(df_novo_3['mes'])"
      ],
      "metadata": {
        "id": "3mrS49M4Fxfr",
        "outputId": "0e747ea5-fd6b-4043-a294-107dc6b73932",
        "colab": {
          "base_uri": "https://localhost:8080/"
        }
      },
      "execution_count": 498,
      "outputs": [
        {
          "output_type": "stream",
          "name": "stdout",
          "text": [
            "0       NaN\n",
            "1       NaN\n",
            "2       NaN\n",
            "3       NaN\n",
            "4       NaN\n",
            "         ..\n",
            "47719   NaN\n",
            "47720   NaN\n",
            "47721   NaN\n",
            "47722   NaN\n",
            "47723   NaN\n",
            "Name: mes, Length: 47724, dtype: float64\n"
          ]
        },
        {
          "output_type": "stream",
          "name": "stderr",
          "text": [
            "<ipython-input-498-d92bd4056946>:2: UserWarning:\n",
            "\n",
            "Could not infer format, so each element will be parsed individually, falling back to `dateutil`. To ensure parsing is consistent and as-expected, please specify a format.\n",
            "\n"
          ]
        }
      ]
    },
    {
      "cell_type": "code",
      "source": [
        "#colunas object para string\n",
        "df_novo_3['senador'] = df_novo_3['senador'].astype(str)\n",
        "print(df_novo_3['senador'])"
      ],
      "metadata": {
        "id": "NyYTEaAuF6J5",
        "outputId": "9687c186-2ba7-47c7-cc66-48f8742f21f3",
        "colab": {
          "base_uri": "https://localhost:8080/"
        }
      },
      "execution_count": 499,
      "outputs": [
        {
          "output_type": "stream",
          "name": "stdout",
          "text": [
            "0            ACIR GURGACZ\n",
            "1            ACIR GURGACZ\n",
            "2            ACIR GURGACZ\n",
            "3            ACIR GURGACZ\n",
            "4            ACIR GURGACZ\n",
            "               ...       \n",
            "47719    ZEQUINHA MARINHO\n",
            "47720    ZEQUINHA MARINHO\n",
            "47721    ZEQUINHA MARINHO\n",
            "47722    ZEQUINHA MARINHO\n",
            "47723    ZEQUINHA MARINHO\n",
            "Name: senador, Length: 47724, dtype: object\n"
          ]
        }
      ]
    },
    {
      "cell_type": "code",
      "source": [
        "#colunas object para string\n",
        "#colunas object para string\n",
        "df_novo_3['despesa'] = df_novo_3['despesa'].astype(str)\n",
        "print(df_novo_3['despesa'])"
      ],
      "metadata": {
        "id": "VIxeaxkjHy-Y",
        "outputId": "ac2eee87-5a1a-4e4e-de0b-4d7e8765f015",
        "colab": {
          "base_uri": "https://localhost:8080/"
        }
      },
      "execution_count": 500,
      "outputs": [
        {
          "output_type": "stream",
          "name": "stdout",
          "text": [
            "0        Aluguel de imóveis para escritório político, c...\n",
            "1                      Divulgação da atividade parlamentar\n",
            "2                      Divulgação da atividade parlamentar\n",
            "3                      Divulgação da atividade parlamentar\n",
            "4                      Divulgação da atividade parlamentar\n",
            "                               ...                        \n",
            "47719    Passagens aéreas, aquáticas e terrestres nacio...\n",
            "47720    Passagens aéreas, aquáticas e terrestres nacio...\n",
            "47721    Passagens aéreas, aquáticas e terrestres nacio...\n",
            "47722    Passagens aéreas, aquáticas e terrestres nacio...\n",
            "47723    Passagens aéreas, aquáticas e terrestres nacio...\n",
            "Name: despesa, Length: 47724, dtype: object\n"
          ]
        }
      ]
    },
    {
      "cell_type": "code",
      "source": [
        "#colunas object para string\n",
        "df_novo_3['detalhe'] = df_novo_3['detalhe'].astype(str)\n",
        "print(df_novo_3['detalhe'])"
      ],
      "metadata": {
        "id": "P4MRg56OH485",
        "outputId": "42788c12-12bd-4dc7-a110-e7708939a7da",
        "colab": {
          "base_uri": "https://localhost:8080/"
        }
      },
      "execution_count": 501,
      "outputs": [
        {
          "output_type": "stream",
          "name": "stdout",
          "text": [
            "0        Despesa com pagamento de aluguel de imóvel par...\n",
            "1        Despesa com divulgação da atividade parlamenta...\n",
            "2        Despesa com produção de texto e edição de víde...\n",
            "3                      Divulgação da atividade parlamentar\n",
            "4                      Divulgação da atividade parlamentar\n",
            "                               ...                        \n",
            "47719    Companhia Aérea: GOL, Localizador: TJ9NGF. Pas...\n",
            "47720    Companhia Aérea: AZUL, Localizador: QN9KHE. Pa...\n",
            "47721    Companhia Aérea: AZUL, Localizador: QIGVKT. Pa...\n",
            "47722    Companhia Aérea: AZUL, Localizador: QDHKYF. Pa...\n",
            "47723    Companhia Aérea: GOL, Localizador: BQWCVK. Pas...\n",
            "Name: detalhe, Length: 47724, dtype: object\n"
          ]
        }
      ]
    },
    {
      "cell_type": "code",
      "source": [
        "# Lista de arquivos CSV\n",
        "lista_csv = [\"/content/drive/MyDrive/csv/despesa_ceaps_2022.csv\",\n",
        "             \"/content/drive/MyDrive/csv/despesa_ceaps_2021.csv\",\n",
        "             \"/content/drive/MyDrive/csv/despesa_ceaps_2020.csv\"]\n",
        "\n",
        "# Função para gerar DataFrames a partir de arquivos CSV\n",
        "def gerar_ds(lista_arquivos):\n",
        "    lista_ds = []\n",
        "    for arquivo in lista_arquivos:\n",
        "        try:\n",
        "            df = pd.read_csv(arquivo, encoding=\"latin-1\", sep=';', on_bad_lines='skip')\n",
        "            lista_ds.append(df)\n",
        "        except Exception as e:\n",
        "            print(f\"Erro ao carregar o arquivo {arquivo}: {e}\")\n",
        "    return lista_ds\n",
        "\n",
        "# Gerar a lista de DataFrames\n",
        "gerar_data = gerar_ds(lista_csv)\n",
        "\n",
        "# Concatenar todos os DataFrames em um único DataFrame\n",
        "df_unico_2 = pd.concat(gerar_data, ignore_index=True)\n",
        "\n",
        "# Exibir os primeiros registros do DataFrame concatenado\n",
        "print(df_unico_2.head(4))"
      ],
      "metadata": {
        "id": "VlCZNwDnJe_f",
        "outputId": "78bc6b75-5a26-4f21-ab9f-afe1c65bf1fe",
        "colab": {
          "base_uri": "https://localhost:8080/"
        }
      },
      "execution_count": 502,
      "outputs": [
        {
          "output_type": "stream",
          "name": "stdout",
          "text": [
            "  ULTIMA ATUALIZACAO 22/09/2024 02:01 23/09/2024 02:00\n",
            "0  VALOR_REEMBOLSADO    COD_DOCUMENTO              NaN\n",
            "1               6000          2173614              NaN\n",
            "2               1500          2173615              NaN\n",
            "3               6000          2173616              NaN\n"
          ]
        }
      ]
    },
    {
      "cell_type": "code",
      "source": [
        "df_unico_2= df_unico_2['ULTIMA ATUALIZACAO']\n",
        "print(df_unico_2)"
      ],
      "metadata": {
        "id": "lfZnzbpxJsVc",
        "outputId": "776291de-b916-4dc8-c7e5-11253de0e127",
        "colab": {
          "base_uri": "https://localhost:8080/"
        }
      },
      "execution_count": 503,
      "outputs": [
        {
          "output_type": "stream",
          "name": "stdout",
          "text": [
            "0        VALOR_REEMBOLSADO\n",
            "1                     6000\n",
            "2                     1500\n",
            "3                     6000\n",
            "4                     1000\n",
            "               ...        \n",
            "47720              1654,46\n",
            "47721              1121,83\n",
            "47722               549,47\n",
            "47723               831,05\n",
            "47724              2026,12\n",
            "Name: ULTIMA ATUALIZACAO, Length: 47725, dtype: object\n"
          ]
        }
      ]
    },
    {
      "cell_type": "code",
      "source": [
        "# Replace 'actual_column_name' with the correct column name from your DataFrame\n",
        "df_unico_2['valor reembolsado'] = df_unico_2"
      ],
      "metadata": {
        "id": "33Rz4kXOMAI8"
      },
      "execution_count": 504,
      "outputs": []
    },
    {
      "cell_type": "code",
      "source": [
        "df_novo_4 = df_novo_3.merge(df_unico_2, left_index=True, right_index=True)"
      ],
      "metadata": {
        "id": "TjfvrDMoKUPe"
      },
      "execution_count": 505,
      "outputs": []
    },
    {
      "cell_type": "code",
      "source": [
        "df_novo_4['ULTIMA ATUALIZACAO']"
      ],
      "metadata": {
        "id": "JAL424FLKXkk",
        "outputId": "7d043cd0-522a-4a5e-8f06-2345f890c69f",
        "colab": {
          "base_uri": "https://localhost:8080/",
          "height": 458
        }
      },
      "execution_count": 506,
      "outputs": [
        {
          "output_type": "execute_result",
          "data": {
            "text/plain": [
              "0        VALOR_REEMBOLSADO\n",
              "1                     6000\n",
              "2                     1500\n",
              "3                     6000\n",
              "4                     1000\n",
              "               ...        \n",
              "47719                44,76\n",
              "47720              1654,46\n",
              "47721              1121,83\n",
              "47722               549,47\n",
              "47723               831,05\n",
              "Name: ULTIMA ATUALIZACAO, Length: 47724, dtype: object"
            ],
            "text/html": [
              "<div>\n",
              "<style scoped>\n",
              "    .dataframe tbody tr th:only-of-type {\n",
              "        vertical-align: middle;\n",
              "    }\n",
              "\n",
              "    .dataframe tbody tr th {\n",
              "        vertical-align: top;\n",
              "    }\n",
              "\n",
              "    .dataframe thead th {\n",
              "        text-align: right;\n",
              "    }\n",
              "</style>\n",
              "<table border=\"1\" class=\"dataframe\">\n",
              "  <thead>\n",
              "    <tr style=\"text-align: right;\">\n",
              "      <th></th>\n",
              "      <th>ULTIMA ATUALIZACAO</th>\n",
              "    </tr>\n",
              "  </thead>\n",
              "  <tbody>\n",
              "    <tr>\n",
              "      <th>0</th>\n",
              "      <td>VALOR_REEMBOLSADO</td>\n",
              "    </tr>\n",
              "    <tr>\n",
              "      <th>1</th>\n",
              "      <td>6000</td>\n",
              "    </tr>\n",
              "    <tr>\n",
              "      <th>2</th>\n",
              "      <td>1500</td>\n",
              "    </tr>\n",
              "    <tr>\n",
              "      <th>3</th>\n",
              "      <td>6000</td>\n",
              "    </tr>\n",
              "    <tr>\n",
              "      <th>4</th>\n",
              "      <td>1000</td>\n",
              "    </tr>\n",
              "    <tr>\n",
              "      <th>...</th>\n",
              "      <td>...</td>\n",
              "    </tr>\n",
              "    <tr>\n",
              "      <th>47719</th>\n",
              "      <td>44,76</td>\n",
              "    </tr>\n",
              "    <tr>\n",
              "      <th>47720</th>\n",
              "      <td>1654,46</td>\n",
              "    </tr>\n",
              "    <tr>\n",
              "      <th>47721</th>\n",
              "      <td>1121,83</td>\n",
              "    </tr>\n",
              "    <tr>\n",
              "      <th>47722</th>\n",
              "      <td>549,47</td>\n",
              "    </tr>\n",
              "    <tr>\n",
              "      <th>47723</th>\n",
              "      <td>831,05</td>\n",
              "    </tr>\n",
              "  </tbody>\n",
              "</table>\n",
              "<p>47724 rows × 1 columns</p>\n",
              "</div><br><label><b>dtype:</b> object</label>"
            ]
          },
          "metadata": {},
          "execution_count": 506
        }
      ]
    },
    {
      "cell_type": "code",
      "source": [
        "df_novo_4['valor reembolso'] =df_novo_4['ULTIMA ATUALIZACAO']"
      ],
      "metadata": {
        "id": "7wLezte3Nvjo"
      },
      "execution_count": 507,
      "outputs": []
    },
    {
      "cell_type": "code",
      "source": [
        "df_novo_4.columns"
      ],
      "metadata": {
        "id": "LQ0DEEKyN9jm",
        "outputId": "4d0bf9d4-d590-4c86-ab03-e2beca0c999c",
        "colab": {
          "base_uri": "https://localhost:8080/"
        }
      },
      "execution_count": 508,
      "outputs": [
        {
          "output_type": "execute_result",
          "data": {
            "text/plain": [
              "Index(['ano', 'mes', 'senador', 'despesa', 'cnpj/cpf', 'fornecedot', 'data',\n",
              "       'detalhe', 'ULTIMA ATUALIZACAO', 'valor reembolso'],\n",
              "      dtype='object')"
            ]
          },
          "metadata": {},
          "execution_count": 508
        }
      ]
    },
    {
      "cell_type": "code",
      "source": [
        "df_novo_4['valor reembolso']"
      ],
      "metadata": {
        "id": "91cKz2jCODDq",
        "outputId": "fdd09164-06aa-4b91-d0cb-7a3ec2590406",
        "colab": {
          "base_uri": "https://localhost:8080/",
          "height": 458
        }
      },
      "execution_count": 509,
      "outputs": [
        {
          "output_type": "execute_result",
          "data": {
            "text/plain": [
              "0        VALOR_REEMBOLSADO\n",
              "1                     6000\n",
              "2                     1500\n",
              "3                     6000\n",
              "4                     1000\n",
              "               ...        \n",
              "47719                44,76\n",
              "47720              1654,46\n",
              "47721              1121,83\n",
              "47722               549,47\n",
              "47723               831,05\n",
              "Name: valor reembolso, Length: 47724, dtype: object"
            ],
            "text/html": [
              "<div>\n",
              "<style scoped>\n",
              "    .dataframe tbody tr th:only-of-type {\n",
              "        vertical-align: middle;\n",
              "    }\n",
              "\n",
              "    .dataframe tbody tr th {\n",
              "        vertical-align: top;\n",
              "    }\n",
              "\n",
              "    .dataframe thead th {\n",
              "        text-align: right;\n",
              "    }\n",
              "</style>\n",
              "<table border=\"1\" class=\"dataframe\">\n",
              "  <thead>\n",
              "    <tr style=\"text-align: right;\">\n",
              "      <th></th>\n",
              "      <th>valor reembolso</th>\n",
              "    </tr>\n",
              "  </thead>\n",
              "  <tbody>\n",
              "    <tr>\n",
              "      <th>0</th>\n",
              "      <td>VALOR_REEMBOLSADO</td>\n",
              "    </tr>\n",
              "    <tr>\n",
              "      <th>1</th>\n",
              "      <td>6000</td>\n",
              "    </tr>\n",
              "    <tr>\n",
              "      <th>2</th>\n",
              "      <td>1500</td>\n",
              "    </tr>\n",
              "    <tr>\n",
              "      <th>3</th>\n",
              "      <td>6000</td>\n",
              "    </tr>\n",
              "    <tr>\n",
              "      <th>4</th>\n",
              "      <td>1000</td>\n",
              "    </tr>\n",
              "    <tr>\n",
              "      <th>...</th>\n",
              "      <td>...</td>\n",
              "    </tr>\n",
              "    <tr>\n",
              "      <th>47719</th>\n",
              "      <td>44,76</td>\n",
              "    </tr>\n",
              "    <tr>\n",
              "      <th>47720</th>\n",
              "      <td>1654,46</td>\n",
              "    </tr>\n",
              "    <tr>\n",
              "      <th>47721</th>\n",
              "      <td>1121,83</td>\n",
              "    </tr>\n",
              "    <tr>\n",
              "      <th>47722</th>\n",
              "      <td>549,47</td>\n",
              "    </tr>\n",
              "    <tr>\n",
              "      <th>47723</th>\n",
              "      <td>831,05</td>\n",
              "    </tr>\n",
              "  </tbody>\n",
              "</table>\n",
              "<p>47724 rows × 1 columns</p>\n",
              "</div><br><label><b>dtype:</b> object</label>"
            ]
          },
          "metadata": {},
          "execution_count": 509
        }
      ]
    },
    {
      "cell_type": "code",
      "source": [
        "df_novo_4= df_novo_4.drop(columns = ['ULTIMA ATUALIZACAO'])"
      ],
      "metadata": {
        "id": "bMeUE8YvOLS8"
      },
      "execution_count": 510,
      "outputs": []
    },
    {
      "cell_type": "code",
      "source": [
        "df_novo_4.columns"
      ],
      "metadata": {
        "id": "CsdoTR4xOeiF",
        "outputId": "5ea49304-037d-4ab8-e0ca-11a50ed431b8",
        "colab": {
          "base_uri": "https://localhost:8080/"
        }
      },
      "execution_count": 511,
      "outputs": [
        {
          "output_type": "execute_result",
          "data": {
            "text/plain": [
              "Index(['ano', 'mes', 'senador', 'despesa', 'cnpj/cpf', 'fornecedot', 'data',\n",
              "       'detalhe', 'valor reembolso'],\n",
              "      dtype='object')"
            ]
          },
          "metadata": {},
          "execution_count": 511
        }
      ]
    },
    {
      "cell_type": "code",
      "source": [
        "df_novo_4 = df_novo_4.drop(columns=['cnpj/cpf'])"
      ],
      "metadata": {
        "id": "iHf1MGVOOj5V"
      },
      "execution_count": 512,
      "outputs": []
    },
    {
      "cell_type": "code",
      "source": [
        "df_novo_4.columns"
      ],
      "metadata": {
        "id": "pA62FJnHO6lT",
        "outputId": "d544b3d1-26d5-497e-d8ad-eb3a556e206d",
        "colab": {
          "base_uri": "https://localhost:8080/"
        }
      },
      "execution_count": 513,
      "outputs": [
        {
          "output_type": "execute_result",
          "data": {
            "text/plain": [
              "Index(['ano', 'mes', 'senador', 'despesa', 'fornecedot', 'data', 'detalhe',\n",
              "       'valor reembolso'],\n",
              "      dtype='object')"
            ]
          },
          "metadata": {},
          "execution_count": 513
        }
      ]
    },
    {
      "cell_type": "code",
      "source": [
        "# Remove the header row if it exists\n",
        "df_novo_4 = df_novo_4[1:]\n",
        "\n",
        "# Replace commas with periods and convert to float, but handle errors\n",
        "df_novo_4['valor reembolso'] = pd.to_numeric(df_novo_4['valor reembolso'].str.replace(',', '.'), errors='coerce')"
      ],
      "metadata": {
        "id": "RGSS0BPbdLbV"
      },
      "execution_count": 514,
      "outputs": []
    },
    {
      "cell_type": "code",
      "source": [
        "print(df_novo_4['valor reembolso'])"
      ],
      "metadata": {
        "id": "WkV-1h1Ddnwj",
        "outputId": "138f782a-f184-4ad1-8330-94698a056efa",
        "colab": {
          "base_uri": "https://localhost:8080/"
        }
      },
      "execution_count": 515,
      "outputs": [
        {
          "output_type": "stream",
          "name": "stdout",
          "text": [
            "1        6000.00\n",
            "2        1500.00\n",
            "3        6000.00\n",
            "4        1000.00\n",
            "5        2000.00\n",
            "          ...   \n",
            "47719      44.76\n",
            "47720    1654.46\n",
            "47721    1121.83\n",
            "47722     549.47\n",
            "47723     831.05\n",
            "Name: valor reembolso, Length: 47723, dtype: float64\n"
          ]
        }
      ]
    },
    {
      "cell_type": "code",
      "source": [
        "df_novo_4.columns"
      ],
      "metadata": {
        "id": "SYk8Uy6_f0qH",
        "outputId": "5bdf9b19-69c4-469d-fa0c-ef021cbd357f",
        "colab": {
          "base_uri": "https://localhost:8080/"
        }
      },
      "execution_count": 516,
      "outputs": [
        {
          "output_type": "execute_result",
          "data": {
            "text/plain": [
              "Index(['ano', 'mes', 'senador', 'despesa', 'fornecedot', 'data', 'detalhe',\n",
              "       'valor reembolso'],\n",
              "      dtype='object')"
            ]
          },
          "metadata": {},
          "execution_count": 516
        }
      ]
    },
    {
      "cell_type": "code",
      "source": [
        "df_novo_4.isnull().sum()"
      ],
      "metadata": {
        "id": "Lb9r_1aEf_Ol",
        "outputId": "8f2bf10e-02ed-4db8-9120-53db6750f35e",
        "colab": {
          "base_uri": "https://localhost:8080/",
          "height": 335
        }
      },
      "execution_count": 517,
      "outputs": [
        {
          "output_type": "execute_result",
          "data": {
            "text/plain": [
              "ano                    2\n",
              "mes                47723\n",
              "senador                0\n",
              "despesa                0\n",
              "fornecedot             0\n",
              "data               27295\n",
              "detalhe                0\n",
              "valor reembolso        2\n",
              "dtype: int64"
            ],
            "text/html": [
              "<div>\n",
              "<style scoped>\n",
              "    .dataframe tbody tr th:only-of-type {\n",
              "        vertical-align: middle;\n",
              "    }\n",
              "\n",
              "    .dataframe tbody tr th {\n",
              "        vertical-align: top;\n",
              "    }\n",
              "\n",
              "    .dataframe thead th {\n",
              "        text-align: right;\n",
              "    }\n",
              "</style>\n",
              "<table border=\"1\" class=\"dataframe\">\n",
              "  <thead>\n",
              "    <tr style=\"text-align: right;\">\n",
              "      <th></th>\n",
              "      <th>0</th>\n",
              "    </tr>\n",
              "  </thead>\n",
              "  <tbody>\n",
              "    <tr>\n",
              "      <th>ano</th>\n",
              "      <td>2</td>\n",
              "    </tr>\n",
              "    <tr>\n",
              "      <th>mes</th>\n",
              "      <td>47723</td>\n",
              "    </tr>\n",
              "    <tr>\n",
              "      <th>senador</th>\n",
              "      <td>0</td>\n",
              "    </tr>\n",
              "    <tr>\n",
              "      <th>despesa</th>\n",
              "      <td>0</td>\n",
              "    </tr>\n",
              "    <tr>\n",
              "      <th>fornecedot</th>\n",
              "      <td>0</td>\n",
              "    </tr>\n",
              "    <tr>\n",
              "      <th>data</th>\n",
              "      <td>27295</td>\n",
              "    </tr>\n",
              "    <tr>\n",
              "      <th>detalhe</th>\n",
              "      <td>0</td>\n",
              "    </tr>\n",
              "    <tr>\n",
              "      <th>valor reembolso</th>\n",
              "      <td>2</td>\n",
              "    </tr>\n",
              "  </tbody>\n",
              "</table>\n",
              "</div><br><label><b>dtype:</b> int64</label>"
            ]
          },
          "metadata": {},
          "execution_count": 517
        }
      ]
    },
    {
      "cell_type": "code",
      "source": [
        "df_novo_4= df_novo_4.drop(columns = ['data'])\n",
        "df_novo_4= df_novo_4.drop(columns = ['mes'])"
      ],
      "metadata": {
        "id": "X4fNGcEQgG06"
      },
      "execution_count": 518,
      "outputs": []
    },
    {
      "cell_type": "code",
      "source": [
        "df_novo_4.columns"
      ],
      "metadata": {
        "id": "sRn7Gr8IgaNf",
        "outputId": "d7d11733-7c01-4b4d-d4d1-dcaab75f665a",
        "colab": {
          "base_uri": "https://localhost:8080/"
        }
      },
      "execution_count": 519,
      "outputs": [
        {
          "output_type": "execute_result",
          "data": {
            "text/plain": [
              "Index(['ano', 'senador', 'despesa', 'fornecedot', 'detalhe',\n",
              "       'valor reembolso'],\n",
              "      dtype='object')"
            ]
          },
          "metadata": {},
          "execution_count": 519
        }
      ]
    },
    {
      "cell_type": "code",
      "source": [
        "df_novo_4['ano']= df_novo_4['ano'].dropna()\n",
        "df_novo_4['valor reembolso']= df_novo_4['valor reembolso'].dropna()"
      ],
      "metadata": {
        "id": "I0KAH0HCipEH"
      },
      "execution_count": 520,
      "outputs": []
    },
    {
      "cell_type": "code",
      "source": [
        "df_novo_4.isnull().sum()"
      ],
      "metadata": {
        "id": "DqA0HYkWi8FP",
        "outputId": "682600d7-fe7b-4bdd-8a10-bbfd3db65f59",
        "colab": {
          "base_uri": "https://localhost:8080/",
          "height": 272
        }
      },
      "execution_count": 521,
      "outputs": [
        {
          "output_type": "execute_result",
          "data": {
            "text/plain": [
              "ano                2\n",
              "senador            0\n",
              "despesa            0\n",
              "fornecedot         0\n",
              "detalhe            0\n",
              "valor reembolso    2\n",
              "dtype: int64"
            ],
            "text/html": [
              "<div>\n",
              "<style scoped>\n",
              "    .dataframe tbody tr th:only-of-type {\n",
              "        vertical-align: middle;\n",
              "    }\n",
              "\n",
              "    .dataframe tbody tr th {\n",
              "        vertical-align: top;\n",
              "    }\n",
              "\n",
              "    .dataframe thead th {\n",
              "        text-align: right;\n",
              "    }\n",
              "</style>\n",
              "<table border=\"1\" class=\"dataframe\">\n",
              "  <thead>\n",
              "    <tr style=\"text-align: right;\">\n",
              "      <th></th>\n",
              "      <th>0</th>\n",
              "    </tr>\n",
              "  </thead>\n",
              "  <tbody>\n",
              "    <tr>\n",
              "      <th>ano</th>\n",
              "      <td>2</td>\n",
              "    </tr>\n",
              "    <tr>\n",
              "      <th>senador</th>\n",
              "      <td>0</td>\n",
              "    </tr>\n",
              "    <tr>\n",
              "      <th>despesa</th>\n",
              "      <td>0</td>\n",
              "    </tr>\n",
              "    <tr>\n",
              "      <th>fornecedot</th>\n",
              "      <td>0</td>\n",
              "    </tr>\n",
              "    <tr>\n",
              "      <th>detalhe</th>\n",
              "      <td>0</td>\n",
              "    </tr>\n",
              "    <tr>\n",
              "      <th>valor reembolso</th>\n",
              "      <td>2</td>\n",
              "    </tr>\n",
              "  </tbody>\n",
              "</table>\n",
              "</div><br><label><b>dtype:</b> int64</label>"
            ]
          },
          "metadata": {},
          "execution_count": 521
        }
      ]
    },
    {
      "cell_type": "code",
      "source": [
        "df_novo_5 = df_novo_4.dropna()\n",
        "df_novo_5"
      ],
      "metadata": {
        "id": "ekwVlURJmR0t",
        "outputId": "4cbcb1a9-9aad-4c3e-f4bc-6b0591d0d9cb",
        "colab": {
          "base_uri": "https://localhost:8080/",
          "height": 1000
        }
      },
      "execution_count": 522,
      "outputs": [
        {
          "output_type": "execute_result",
          "data": {
            "text/plain": [
              "             ano           senador  \\\n",
              "1     2022-01-01      ACIR GURGACZ   \n",
              "2     2022-01-01      ACIR GURGACZ   \n",
              "3     2022-01-01      ACIR GURGACZ   \n",
              "4     2022-01-01      ACIR GURGACZ   \n",
              "5     2022-01-01      ACIR GURGACZ   \n",
              "...          ...               ...   \n",
              "47719 2020-01-01  ZEQUINHA MARINHO   \n",
              "47720 2020-01-01  ZEQUINHA MARINHO   \n",
              "47721 2020-01-01  ZEQUINHA MARINHO   \n",
              "47722 2020-01-01  ZEQUINHA MARINHO   \n",
              "47723 2020-01-01  ZEQUINHA MARINHO   \n",
              "\n",
              "                                                 despesa  \\\n",
              "1                    Divulgação da atividade parlamentar   \n",
              "2                    Divulgação da atividade parlamentar   \n",
              "3                    Divulgação da atividade parlamentar   \n",
              "4                    Divulgação da atividade parlamentar   \n",
              "5      Passagens aéreas, aquáticas e terrestres nacio...   \n",
              "...                                                  ...   \n",
              "47719  Passagens aéreas, aquáticas e terrestres nacio...   \n",
              "47720  Passagens aéreas, aquáticas e terrestres nacio...   \n",
              "47721  Passagens aéreas, aquáticas e terrestres nacio...   \n",
              "47722  Passagens aéreas, aquáticas e terrestres nacio...   \n",
              "47723  Passagens aéreas, aquáticas e terrestres nacio...   \n",
              "\n",
              "                                              fornecedot  \\\n",
              "1                                          INFORMANAHORA   \n",
              "2                        LINHA PURPURA FOTO E VIDEO LTDA   \n",
              "3                      ROBERTO GUTIERREZ DA ROCHA M.E.I.   \n",
              "4      RONDONIA DINÂMICA COM. E SERV. DE INFORMÁTICA ...   \n",
              "5                    AMERICA VIAGENS E TURISMO LTDA - ME   \n",
              "...                                                  ...   \n",
              "47719                                      Exceller Tour   \n",
              "47720                                      Exceller Tour   \n",
              "47721                                      Exceller Tour   \n",
              "47722                                      Exceller Tour   \n",
              "47723                                      Exceller Tour   \n",
              "\n",
              "                                                 detalhe  valor reembolso  \n",
              "1      Despesa com divulgação da atividade parlamenta...          6000.00  \n",
              "2      Despesa com produção de texto e edição de víde...          1500.00  \n",
              "3                    Divulgação da atividade parlamentar          6000.00  \n",
              "4                    Divulgação da atividade parlamentar          1000.00  \n",
              "5      Companhia Aérea: LATAM, Localizador: ZTRPJB. P...          2000.00  \n",
              "...                                                  ...              ...  \n",
              "47719  Companhia Aérea: GOL, Localizador: TJ9NGF. Pas...            44.76  \n",
              "47720  Companhia Aérea: AZUL, Localizador: QN9KHE. Pa...          1654.46  \n",
              "47721  Companhia Aérea: AZUL, Localizador: QIGVKT. Pa...          1121.83  \n",
              "47722  Companhia Aérea: AZUL, Localizador: QDHKYF. Pa...           549.47  \n",
              "47723  Companhia Aérea: GOL, Localizador: BQWCVK. Pas...           831.05  \n",
              "\n",
              "[47719 rows x 6 columns]"
            ],
            "text/html": [
              "\n",
              "  <div id=\"df-1534e7fc-9e01-43f0-9f53-45c93b0f034c\" class=\"colab-df-container\">\n",
              "    <div>\n",
              "<style scoped>\n",
              "    .dataframe tbody tr th:only-of-type {\n",
              "        vertical-align: middle;\n",
              "    }\n",
              "\n",
              "    .dataframe tbody tr th {\n",
              "        vertical-align: top;\n",
              "    }\n",
              "\n",
              "    .dataframe thead th {\n",
              "        text-align: right;\n",
              "    }\n",
              "</style>\n",
              "<table border=\"1\" class=\"dataframe\">\n",
              "  <thead>\n",
              "    <tr style=\"text-align: right;\">\n",
              "      <th></th>\n",
              "      <th>ano</th>\n",
              "      <th>senador</th>\n",
              "      <th>despesa</th>\n",
              "      <th>fornecedot</th>\n",
              "      <th>detalhe</th>\n",
              "      <th>valor reembolso</th>\n",
              "    </tr>\n",
              "  </thead>\n",
              "  <tbody>\n",
              "    <tr>\n",
              "      <th>1</th>\n",
              "      <td>2022-01-01</td>\n",
              "      <td>ACIR GURGACZ</td>\n",
              "      <td>Divulgação da atividade parlamentar</td>\n",
              "      <td>INFORMANAHORA</td>\n",
              "      <td>Despesa com divulgação da atividade parlamenta...</td>\n",
              "      <td>6000.00</td>\n",
              "    </tr>\n",
              "    <tr>\n",
              "      <th>2</th>\n",
              "      <td>2022-01-01</td>\n",
              "      <td>ACIR GURGACZ</td>\n",
              "      <td>Divulgação da atividade parlamentar</td>\n",
              "      <td>LINHA PURPURA FOTO E VIDEO LTDA</td>\n",
              "      <td>Despesa com produção de texto e edição de víde...</td>\n",
              "      <td>1500.00</td>\n",
              "    </tr>\n",
              "    <tr>\n",
              "      <th>3</th>\n",
              "      <td>2022-01-01</td>\n",
              "      <td>ACIR GURGACZ</td>\n",
              "      <td>Divulgação da atividade parlamentar</td>\n",
              "      <td>ROBERTO GUTIERREZ DA ROCHA M.E.I.</td>\n",
              "      <td>Divulgação da atividade parlamentar</td>\n",
              "      <td>6000.00</td>\n",
              "    </tr>\n",
              "    <tr>\n",
              "      <th>4</th>\n",
              "      <td>2022-01-01</td>\n",
              "      <td>ACIR GURGACZ</td>\n",
              "      <td>Divulgação da atividade parlamentar</td>\n",
              "      <td>RONDONIA DINÂMICA COM. E SERV. DE INFORMÁTICA ...</td>\n",
              "      <td>Divulgação da atividade parlamentar</td>\n",
              "      <td>1000.00</td>\n",
              "    </tr>\n",
              "    <tr>\n",
              "      <th>5</th>\n",
              "      <td>2022-01-01</td>\n",
              "      <td>ACIR GURGACZ</td>\n",
              "      <td>Passagens aéreas, aquáticas e terrestres nacio...</td>\n",
              "      <td>AMERICA VIAGENS E TURISMO LTDA - ME</td>\n",
              "      <td>Companhia Aérea: LATAM, Localizador: ZTRPJB. P...</td>\n",
              "      <td>2000.00</td>\n",
              "    </tr>\n",
              "    <tr>\n",
              "      <th>...</th>\n",
              "      <td>...</td>\n",
              "      <td>...</td>\n",
              "      <td>...</td>\n",
              "      <td>...</td>\n",
              "      <td>...</td>\n",
              "      <td>...</td>\n",
              "    </tr>\n",
              "    <tr>\n",
              "      <th>47719</th>\n",
              "      <td>2020-01-01</td>\n",
              "      <td>ZEQUINHA MARINHO</td>\n",
              "      <td>Passagens aéreas, aquáticas e terrestres nacio...</td>\n",
              "      <td>Exceller Tour</td>\n",
              "      <td>Companhia Aérea: GOL, Localizador: TJ9NGF. Pas...</td>\n",
              "      <td>44.76</td>\n",
              "    </tr>\n",
              "    <tr>\n",
              "      <th>47720</th>\n",
              "      <td>2020-01-01</td>\n",
              "      <td>ZEQUINHA MARINHO</td>\n",
              "      <td>Passagens aéreas, aquáticas e terrestres nacio...</td>\n",
              "      <td>Exceller Tour</td>\n",
              "      <td>Companhia Aérea: AZUL, Localizador: QN9KHE. Pa...</td>\n",
              "      <td>1654.46</td>\n",
              "    </tr>\n",
              "    <tr>\n",
              "      <th>47721</th>\n",
              "      <td>2020-01-01</td>\n",
              "      <td>ZEQUINHA MARINHO</td>\n",
              "      <td>Passagens aéreas, aquáticas e terrestres nacio...</td>\n",
              "      <td>Exceller Tour</td>\n",
              "      <td>Companhia Aérea: AZUL, Localizador: QIGVKT. Pa...</td>\n",
              "      <td>1121.83</td>\n",
              "    </tr>\n",
              "    <tr>\n",
              "      <th>47722</th>\n",
              "      <td>2020-01-01</td>\n",
              "      <td>ZEQUINHA MARINHO</td>\n",
              "      <td>Passagens aéreas, aquáticas e terrestres nacio...</td>\n",
              "      <td>Exceller Tour</td>\n",
              "      <td>Companhia Aérea: AZUL, Localizador: QDHKYF. Pa...</td>\n",
              "      <td>549.47</td>\n",
              "    </tr>\n",
              "    <tr>\n",
              "      <th>47723</th>\n",
              "      <td>2020-01-01</td>\n",
              "      <td>ZEQUINHA MARINHO</td>\n",
              "      <td>Passagens aéreas, aquáticas e terrestres nacio...</td>\n",
              "      <td>Exceller Tour</td>\n",
              "      <td>Companhia Aérea: GOL, Localizador: BQWCVK. Pas...</td>\n",
              "      <td>831.05</td>\n",
              "    </tr>\n",
              "  </tbody>\n",
              "</table>\n",
              "<p>47719 rows × 6 columns</p>\n",
              "</div>\n",
              "    <div class=\"colab-df-buttons\">\n",
              "\n",
              "  <div class=\"colab-df-container\">\n",
              "    <button class=\"colab-df-convert\" onclick=\"convertToInteractive('df-1534e7fc-9e01-43f0-9f53-45c93b0f034c')\"\n",
              "            title=\"Convert this dataframe to an interactive table.\"\n",
              "            style=\"display:none;\">\n",
              "\n",
              "  <svg xmlns=\"http://www.w3.org/2000/svg\" height=\"24px\" viewBox=\"0 -960 960 960\">\n",
              "    <path d=\"M120-120v-720h720v720H120Zm60-500h600v-160H180v160Zm220 220h160v-160H400v160Zm0 220h160v-160H400v160ZM180-400h160v-160H180v160Zm440 0h160v-160H620v160ZM180-180h160v-160H180v160Zm440 0h160v-160H620v160Z\"/>\n",
              "  </svg>\n",
              "    </button>\n",
              "\n",
              "  <style>\n",
              "    .colab-df-container {\n",
              "      display:flex;\n",
              "      gap: 12px;\n",
              "    }\n",
              "\n",
              "    .colab-df-convert {\n",
              "      background-color: #E8F0FE;\n",
              "      border: none;\n",
              "      border-radius: 50%;\n",
              "      cursor: pointer;\n",
              "      display: none;\n",
              "      fill: #1967D2;\n",
              "      height: 32px;\n",
              "      padding: 0 0 0 0;\n",
              "      width: 32px;\n",
              "    }\n",
              "\n",
              "    .colab-df-convert:hover {\n",
              "      background-color: #E2EBFA;\n",
              "      box-shadow: 0px 1px 2px rgba(60, 64, 67, 0.3), 0px 1px 3px 1px rgba(60, 64, 67, 0.15);\n",
              "      fill: #174EA6;\n",
              "    }\n",
              "\n",
              "    .colab-df-buttons div {\n",
              "      margin-bottom: 4px;\n",
              "    }\n",
              "\n",
              "    [theme=dark] .colab-df-convert {\n",
              "      background-color: #3B4455;\n",
              "      fill: #D2E3FC;\n",
              "    }\n",
              "\n",
              "    [theme=dark] .colab-df-convert:hover {\n",
              "      background-color: #434B5C;\n",
              "      box-shadow: 0px 1px 3px 1px rgba(0, 0, 0, 0.15);\n",
              "      filter: drop-shadow(0px 1px 2px rgba(0, 0, 0, 0.3));\n",
              "      fill: #FFFFFF;\n",
              "    }\n",
              "  </style>\n",
              "\n",
              "    <script>\n",
              "      const buttonEl =\n",
              "        document.querySelector('#df-1534e7fc-9e01-43f0-9f53-45c93b0f034c button.colab-df-convert');\n",
              "      buttonEl.style.display =\n",
              "        google.colab.kernel.accessAllowed ? 'block' : 'none';\n",
              "\n",
              "      async function convertToInteractive(key) {\n",
              "        const element = document.querySelector('#df-1534e7fc-9e01-43f0-9f53-45c93b0f034c');\n",
              "        const dataTable =\n",
              "          await google.colab.kernel.invokeFunction('convertToInteractive',\n",
              "                                                    [key], {});\n",
              "        if (!dataTable) return;\n",
              "\n",
              "        const docLinkHtml = 'Like what you see? Visit the ' +\n",
              "          '<a target=\"_blank\" href=https://colab.research.google.com/notebooks/data_table.ipynb>data table notebook</a>'\n",
              "          + ' to learn more about interactive tables.';\n",
              "        element.innerHTML = '';\n",
              "        dataTable['output_type'] = 'display_data';\n",
              "        await google.colab.output.renderOutput(dataTable, element);\n",
              "        const docLink = document.createElement('div');\n",
              "        docLink.innerHTML = docLinkHtml;\n",
              "        element.appendChild(docLink);\n",
              "      }\n",
              "    </script>\n",
              "  </div>\n",
              "\n",
              "\n",
              "<div id=\"df-637141cd-25ec-44d7-9ddd-c2e834922f27\">\n",
              "  <button class=\"colab-df-quickchart\" onclick=\"quickchart('df-637141cd-25ec-44d7-9ddd-c2e834922f27')\"\n",
              "            title=\"Suggest charts\"\n",
              "            style=\"display:none;\">\n",
              "\n",
              "<svg xmlns=\"http://www.w3.org/2000/svg\" height=\"24px\"viewBox=\"0 0 24 24\"\n",
              "     width=\"24px\">\n",
              "    <g>\n",
              "        <path d=\"M19 3H5c-1.1 0-2 .9-2 2v14c0 1.1.9 2 2 2h14c1.1 0 2-.9 2-2V5c0-1.1-.9-2-2-2zM9 17H7v-7h2v7zm4 0h-2V7h2v10zm4 0h-2v-4h2v4z\"/>\n",
              "    </g>\n",
              "</svg>\n",
              "  </button>\n",
              "\n",
              "<style>\n",
              "  .colab-df-quickchart {\n",
              "      --bg-color: #E8F0FE;\n",
              "      --fill-color: #1967D2;\n",
              "      --hover-bg-color: #E2EBFA;\n",
              "      --hover-fill-color: #174EA6;\n",
              "      --disabled-fill-color: #AAA;\n",
              "      --disabled-bg-color: #DDD;\n",
              "  }\n",
              "\n",
              "  [theme=dark] .colab-df-quickchart {\n",
              "      --bg-color: #3B4455;\n",
              "      --fill-color: #D2E3FC;\n",
              "      --hover-bg-color: #434B5C;\n",
              "      --hover-fill-color: #FFFFFF;\n",
              "      --disabled-bg-color: #3B4455;\n",
              "      --disabled-fill-color: #666;\n",
              "  }\n",
              "\n",
              "  .colab-df-quickchart {\n",
              "    background-color: var(--bg-color);\n",
              "    border: none;\n",
              "    border-radius: 50%;\n",
              "    cursor: pointer;\n",
              "    display: none;\n",
              "    fill: var(--fill-color);\n",
              "    height: 32px;\n",
              "    padding: 0;\n",
              "    width: 32px;\n",
              "  }\n",
              "\n",
              "  .colab-df-quickchart:hover {\n",
              "    background-color: var(--hover-bg-color);\n",
              "    box-shadow: 0 1px 2px rgba(60, 64, 67, 0.3), 0 1px 3px 1px rgba(60, 64, 67, 0.15);\n",
              "    fill: var(--button-hover-fill-color);\n",
              "  }\n",
              "\n",
              "  .colab-df-quickchart-complete:disabled,\n",
              "  .colab-df-quickchart-complete:disabled:hover {\n",
              "    background-color: var(--disabled-bg-color);\n",
              "    fill: var(--disabled-fill-color);\n",
              "    box-shadow: none;\n",
              "  }\n",
              "\n",
              "  .colab-df-spinner {\n",
              "    border: 2px solid var(--fill-color);\n",
              "    border-color: transparent;\n",
              "    border-bottom-color: var(--fill-color);\n",
              "    animation:\n",
              "      spin 1s steps(1) infinite;\n",
              "  }\n",
              "\n",
              "  @keyframes spin {\n",
              "    0% {\n",
              "      border-color: transparent;\n",
              "      border-bottom-color: var(--fill-color);\n",
              "      border-left-color: var(--fill-color);\n",
              "    }\n",
              "    20% {\n",
              "      border-color: transparent;\n",
              "      border-left-color: var(--fill-color);\n",
              "      border-top-color: var(--fill-color);\n",
              "    }\n",
              "    30% {\n",
              "      border-color: transparent;\n",
              "      border-left-color: var(--fill-color);\n",
              "      border-top-color: var(--fill-color);\n",
              "      border-right-color: var(--fill-color);\n",
              "    }\n",
              "    40% {\n",
              "      border-color: transparent;\n",
              "      border-right-color: var(--fill-color);\n",
              "      border-top-color: var(--fill-color);\n",
              "    }\n",
              "    60% {\n",
              "      border-color: transparent;\n",
              "      border-right-color: var(--fill-color);\n",
              "    }\n",
              "    80% {\n",
              "      border-color: transparent;\n",
              "      border-right-color: var(--fill-color);\n",
              "      border-bottom-color: var(--fill-color);\n",
              "    }\n",
              "    90% {\n",
              "      border-color: transparent;\n",
              "      border-bottom-color: var(--fill-color);\n",
              "    }\n",
              "  }\n",
              "</style>\n",
              "\n",
              "  <script>\n",
              "    async function quickchart(key) {\n",
              "      const quickchartButtonEl =\n",
              "        document.querySelector('#' + key + ' button');\n",
              "      quickchartButtonEl.disabled = true;  // To prevent multiple clicks.\n",
              "      quickchartButtonEl.classList.add('colab-df-spinner');\n",
              "      try {\n",
              "        const charts = await google.colab.kernel.invokeFunction(\n",
              "            'suggestCharts', [key], {});\n",
              "      } catch (error) {\n",
              "        console.error('Error during call to suggestCharts:', error);\n",
              "      }\n",
              "      quickchartButtonEl.classList.remove('colab-df-spinner');\n",
              "      quickchartButtonEl.classList.add('colab-df-quickchart-complete');\n",
              "    }\n",
              "    (() => {\n",
              "      let quickchartButtonEl =\n",
              "        document.querySelector('#df-637141cd-25ec-44d7-9ddd-c2e834922f27 button');\n",
              "      quickchartButtonEl.style.display =\n",
              "        google.colab.kernel.accessAllowed ? 'block' : 'none';\n",
              "    })();\n",
              "  </script>\n",
              "</div>\n",
              "\n",
              "  <div id=\"id_9c70bbed-0619-4d00-8445-4b488e82ddbf\">\n",
              "    <style>\n",
              "      .colab-df-generate {\n",
              "        background-color: #E8F0FE;\n",
              "        border: none;\n",
              "        border-radius: 50%;\n",
              "        cursor: pointer;\n",
              "        display: none;\n",
              "        fill: #1967D2;\n",
              "        height: 32px;\n",
              "        padding: 0 0 0 0;\n",
              "        width: 32px;\n",
              "      }\n",
              "\n",
              "      .colab-df-generate:hover {\n",
              "        background-color: #E2EBFA;\n",
              "        box-shadow: 0px 1px 2px rgba(60, 64, 67, 0.3), 0px 1px 3px 1px rgba(60, 64, 67, 0.15);\n",
              "        fill: #174EA6;\n",
              "      }\n",
              "\n",
              "      [theme=dark] .colab-df-generate {\n",
              "        background-color: #3B4455;\n",
              "        fill: #D2E3FC;\n",
              "      }\n",
              "\n",
              "      [theme=dark] .colab-df-generate:hover {\n",
              "        background-color: #434B5C;\n",
              "        box-shadow: 0px 1px 3px 1px rgba(0, 0, 0, 0.15);\n",
              "        filter: drop-shadow(0px 1px 2px rgba(0, 0, 0, 0.3));\n",
              "        fill: #FFFFFF;\n",
              "      }\n",
              "    </style>\n",
              "    <button class=\"colab-df-generate\" onclick=\"generateWithVariable('df_novo_5')\"\n",
              "            title=\"Generate code using this dataframe.\"\n",
              "            style=\"display:none;\">\n",
              "\n",
              "  <svg xmlns=\"http://www.w3.org/2000/svg\" height=\"24px\"viewBox=\"0 0 24 24\"\n",
              "       width=\"24px\">\n",
              "    <path d=\"M7,19H8.4L18.45,9,17,7.55,7,17.6ZM5,21V16.75L18.45,3.32a2,2,0,0,1,2.83,0l1.4,1.43a1.91,1.91,0,0,1,.58,1.4,1.91,1.91,0,0,1-.58,1.4L9.25,21ZM18.45,9,17,7.55Zm-12,3A5.31,5.31,0,0,0,4.9,8.1,5.31,5.31,0,0,0,1,6.5,5.31,5.31,0,0,0,4.9,4.9,5.31,5.31,0,0,0,6.5,1,5.31,5.31,0,0,0,8.1,4.9,5.31,5.31,0,0,0,12,6.5,5.46,5.46,0,0,0,6.5,12Z\"/>\n",
              "  </svg>\n",
              "    </button>\n",
              "    <script>\n",
              "      (() => {\n",
              "      const buttonEl =\n",
              "        document.querySelector('#id_9c70bbed-0619-4d00-8445-4b488e82ddbf button.colab-df-generate');\n",
              "      buttonEl.style.display =\n",
              "        google.colab.kernel.accessAllowed ? 'block' : 'none';\n",
              "\n",
              "      buttonEl.onclick = () => {\n",
              "        google.colab.notebook.generateWithVariable('df_novo_5');\n",
              "      }\n",
              "      })();\n",
              "    </script>\n",
              "  </div>\n",
              "\n",
              "    </div>\n",
              "  </div>\n"
            ],
            "application/vnd.google.colaboratory.intrinsic+json": {
              "type": "dataframe",
              "variable_name": "df_novo_5",
              "summary": "{\n  \"name\": \"df_novo_5\",\n  \"rows\": 47719,\n  \"fields\": [\n    {\n      \"column\": \"ano\",\n      \"properties\": {\n        \"dtype\": \"date\",\n        \"min\": \"2020-01-01 00:00:00\",\n        \"max\": \"2022-01-01 00:00:00\",\n        \"num_unique_values\": 3,\n        \"samples\": [\n          \"2022-01-01 00:00:00\",\n          \"2021-01-01 00:00:00\",\n          \"2020-01-01 00:00:00\"\n        ],\n        \"semantic_type\": \"\",\n        \"description\": \"\"\n      }\n    },\n    {\n      \"column\": \"senador\",\n      \"properties\": {\n        \"dtype\": \"category\",\n        \"num_unique_values\": 108,\n        \"samples\": [\n          \"ROBERTH BRINGEL\",\n          \"CHIQUINHO FEITOSA\",\n          \"ANGELO CORONEL\"\n        ],\n        \"semantic_type\": \"\",\n        \"description\": \"\"\n      }\n    },\n    {\n      \"column\": \"despesa\",\n      \"properties\": {\n        \"dtype\": \"category\",\n        \"num_unique_values\": 7,\n        \"samples\": [\n          \"Divulga\\u00e7\\u00e3o da atividade parlamentar\",\n          \"Passagens a\\u00e9reas, aqu\\u00e1ticas e terrestres nacionais\",\n          \"Aquisi\\u00e7\\u00e3o de material de consumo para uso no escrit\\u00f3rio pol\\u00edtico, inclusive aquisi\\u00e7\\u00e3o ou loca\\u00e7\\u00e3o de software, despesas postais, aquisi\\u00e7\\u00e3o de publica\\u00e7\\u00f5es, loca\\u00e7\\u00e3o de m\\u00f3veis e de equipamentos. \"\n        ],\n        \"semantic_type\": \"\",\n        \"description\": \"\"\n      }\n    },\n    {\n      \"column\": \"fornecedot\",\n      \"properties\": {\n        \"dtype\": \"category\",\n        \"num_unique_values\": 6272,\n        \"samples\": [\n          \"Goes Combust\\u00edveis Lubrificantes e GLP LTDA - Posto Monumental\",\n          \"Posto Bertamoni Ltda\",\n          \"HOTEL DIPLOMAT\"\n        ],\n        \"semantic_type\": \"\",\n        \"description\": \"\"\n      }\n    },\n    {\n      \"column\": \"detalhe\",\n      \"properties\": {\n        \"dtype\": \"category\",\n        \"num_unique_values\": 14399,\n        \"samples\": [\n          \"Companhia A\\u00e9rea: GOL, Localizador: WNGARR. Passageiros: WALTER MOURA CAMARA DOS REIS JUNIOR (Matr\\u00edcula 354240, COMISSIONADO), Voo: 1768 - BSB / MCP - 20/07/2022;\",\n          \"Despesa com energia el\\u00e9trica - escrit\\u00f3rio parlamentar no estado - sala 911 - 10-21\",\n          \"Companhia A\\u00e9rea: AZUL, Localizador: MYUWPB. Passageiros: MARCOS ROG\\u00c9RIO DA SILVA BRITO (Matr\\u00edcula 341153, PARLAMENTAR), Voo: 2940 - CUIAB\\u00c1 - BRAS\\u00cdLIA - 10/07/2022; MARCOS ROG\\u00c9RIO DA SILVA BRITO (Matr\\u00edcula 341153, PARLAMENTAR), Voo: 4345 - PORTO VELHO - CUIAB\\u00c1 - 10/07/2022;\"\n        ],\n        \"semantic_type\": \"\",\n        \"description\": \"\"\n      }\n    },\n    {\n      \"column\": \"valor reembolso\",\n      \"properties\": {\n        \"dtype\": \"number\",\n        \"std\": 3253.0939747942775,\n        \"min\": 0.01,\n        \"max\": 120000.0,\n        \"num_unique_values\": 22755,\n        \"samples\": [\n          1534.47,\n          212.05,\n          115.7\n        ],\n        \"semantic_type\": \"\",\n        \"description\": \"\"\n      }\n    }\n  ]\n}"
            }
          },
          "metadata": {},
          "execution_count": 522
        }
      ]
    },
    {
      "cell_type": "markdown",
      "source": [
        "Dia 2: Análise de dados"
      ],
      "metadata": {
        "id": "oRGw6FOLLHen"
      }
    },
    {
      "cell_type": "code",
      "source": [
        "import matplotlib.pyplot as plt\n",
        "import seaborn as sb"
      ],
      "metadata": {
        "id": "rm8X65ONKlsm"
      },
      "execution_count": 541,
      "outputs": []
    },
    {
      "cell_type": "code",
      "source": [
        "valor_reembolso = df_novo_5['valor reembolso']"
      ],
      "metadata": {
        "id": "AzMtt5GhK4PK"
      },
      "execution_count": 524,
      "outputs": []
    },
    {
      "cell_type": "markdown",
      "source": [
        "Verificando se há outliers e a distribuição do valor de reembolso"
      ],
      "metadata": {
        "id": "3NvbqpWJMIC-"
      }
    },
    {
      "cell_type": "code",
      "source": [
        "sb.boxplot(valor_reembolso)\n",
        "plt.show()"
      ],
      "metadata": {
        "id": "-fEuJJhbLGZ_",
        "outputId": "e417bd03-d826-4673-846d-77d695593d44",
        "colab": {
          "base_uri": "https://localhost:8080/",
          "height": 218
        }
      },
      "execution_count": 525,
      "outputs": [
        {
          "output_type": "display_data",
          "data": {
            "text/plain": [
              "<Figure size 640x480 with 1 Axes>"
            ],
            "image/png": "[encoded data removed]"
          },
          "metadata": {}
        }
      ]
    },
    {
      "cell_type": "code",
      "source": [
        "import numpy as np\n",
        "\n",
        "# Função para calcular o IQR\n",
        "q75, q25 = np.percentile(valor_reembolso, [75 ,25])\n",
        "IQR = q75 - q25\n",
        "\n",
        "# Largura do bin pela regra de Freedman-Diaconis\n",
        "bin_width = 2 * IQR / (len(valor_reembolso) ** (1 / 3))\n",
        "\n",
        "# Número de bins\n",
        "num_bins = int(np.ceil((valor_reembolso.max() - valor_reembolso.min()) / bin_width))"
      ],
      "metadata": {
        "id": "QspKz2jxOj00"
      },
      "execution_count": 526,
      "outputs": []
    },
    {
      "cell_type": "code",
      "source": [
        "sb.histplot(valor_reembolso, bins=num_bins)\n",
        "plt.show()"
      ],
      "metadata": {
        "id": "AWDbGGADLnKh",
        "outputId": "22e02a70-ab09-4dcb-c96d-0957f4d394d2",
        "colab": {
          "base_uri": "https://localhost:8080/",
          "height": 242
        }
      },
      "execution_count": 527,
      "outputs": [
        {
          "output_type": "display_data",
          "data": {
            "text/plain": [
              "<Figure size 640x480 with 1 Axes>"
            ],
            "image/png": "[encoded data removed]"
          },
          "metadata": {}
        }
      ]
    },
    {
      "cell_type": "markdown",
      "source": [
        "Removando outliers da colina valor reembolso"
      ],
      "metadata": {
        "id": "f5kQKfbFRDys"
      }
    },
    {
      "cell_type": "code",
      "source": [
        "\n",
        "\n",
        "\n",
        "\n",
        "# Calcula Q1 (primeiro quartil) e Q3 (terceiro quartil)\n",
        "Q1 = valor_reembolso.quantile(0.25)\n",
        "Q3 = valor_reembolso.quantile(0.75)\n",
        "IQR = Q3 - Q1\n",
        "\n",
        "# Define limites para identificar os outliers\n",
        "limite_inferior = Q1 - 1.5 * IQR\n",
        "limite_superior = Q3 + 1.5 * IQR\n",
        "\n",
        "# Remove outliers\n",
        "df_sem_outliers = df_novo_5[(valor_reembolso>= limite_inferior) & (valor_reembolso<= limite_superior)]\n",
        "\n",
        "print(df_sem_outliers)"
      ],
      "metadata": {
        "id": "kkncUsOkPryh",
        "outputId": "eb969090-3b19-4f87-f5f3-c462a5ecf650",
        "colab": {
          "base_uri": "https://localhost:8080/"
        }
      },
      "execution_count": 528,
      "outputs": [
        {
          "output_type": "stream",
          "name": "stdout",
          "text": [
            "             ano           senador  \\\n",
            "2     2022-01-01      ACIR GURGACZ   \n",
            "4     2022-01-01      ACIR GURGACZ   \n",
            "5     2022-01-01      ACIR GURGACZ   \n",
            "6     2022-01-01      ACIR GURGACZ   \n",
            "9     2022-01-01      ACIR GURGACZ   \n",
            "...          ...               ...   \n",
            "47719 2020-01-01  ZEQUINHA MARINHO   \n",
            "47720 2020-01-01  ZEQUINHA MARINHO   \n",
            "47721 2020-01-01  ZEQUINHA MARINHO   \n",
            "47722 2020-01-01  ZEQUINHA MARINHO   \n",
            "47723 2020-01-01  ZEQUINHA MARINHO   \n",
            "\n",
            "                                                 despesa  \\\n",
            "2                    Divulgação da atividade parlamentar   \n",
            "4                    Divulgação da atividade parlamentar   \n",
            "5      Passagens aéreas, aquáticas e terrestres nacio...   \n",
            "6      Aluguel de imóveis para escritório político, c...   \n",
            "9                    Divulgação da atividade parlamentar   \n",
            "...                                                  ...   \n",
            "47719  Passagens aéreas, aquáticas e terrestres nacio...   \n",
            "47720  Passagens aéreas, aquáticas e terrestres nacio...   \n",
            "47721  Passagens aéreas, aquáticas e terrestres nacio...   \n",
            "47722  Passagens aéreas, aquáticas e terrestres nacio...   \n",
            "47723  Passagens aéreas, aquáticas e terrestres nacio...   \n",
            "\n",
            "                                              fornecedot  \\\n",
            "2                        LINHA PURPURA FOTO E VIDEO LTDA   \n",
            "4      RONDONIA DINÂMICA COM. E SERV. DE INFORMÁTICA ...   \n",
            "5                    AMERICA VIAGENS E TURISMO LTDA - ME   \n",
            "6                          GILBERTO PISELO DO NASCIMENTO   \n",
            "9                                 J. J. M. CALADO EIRELI   \n",
            "...                                                  ...   \n",
            "47719                                      Exceller Tour   \n",
            "47720                                      Exceller Tour   \n",
            "47721                                      Exceller Tour   \n",
            "47722                                      Exceller Tour   \n",
            "47723                                      Exceller Tour   \n",
            "\n",
            "                                                 detalhe  valor reembolso  \n",
            "2      Despesa com produção de texto e edição de víde...          1500.00  \n",
            "4                    Divulgação da atividade parlamentar          1000.00  \n",
            "5      Companhia Aérea: LATAM, Localizador: ZTRPJB. P...          2000.00  \n",
            "6      Despesa com pagamento de aluguel de imóvel par...          1000.36  \n",
            "9                    Divulgação da atividade parlamentar          1500.00  \n",
            "...                                                  ...              ...  \n",
            "47719  Companhia Aérea: GOL, Localizador: TJ9NGF. Pas...            44.76  \n",
            "47720  Companhia Aérea: AZUL, Localizador: QN9KHE. Pa...          1654.46  \n",
            "47721  Companhia Aérea: AZUL, Localizador: QIGVKT. Pa...          1121.83  \n",
            "47722  Companhia Aérea: AZUL, Localizador: QDHKYF. Pa...           549.47  \n",
            "47723  Companhia Aérea: GOL, Localizador: BQWCVK. Pas...           831.05  \n",
            "\n",
            "[43862 rows x 6 columns]\n"
          ]
        }
      ]
    },
    {
      "cell_type": "code",
      "source": [
        "valor_reembolso_sem_outliers = df_sem_outliers['valor reembolso']"
      ],
      "metadata": {
        "id": "JRGZ27cXRtIH"
      },
      "execution_count": 529,
      "outputs": []
    },
    {
      "cell_type": "code",
      "source": [
        "sb.boxplot(valor_reembolso_sem_outliers)\n",
        "plt.show()"
      ],
      "metadata": {
        "id": "d6kwKK1qRjls",
        "outputId": "52eb11aa-4f8d-4a71-cad2-66bf502ebb36",
        "colab": {
          "base_uri": "https://localhost:8080/",
          "height": 224
        }
      },
      "execution_count": 530,
      "outputs": [
        {
          "output_type": "display_data",
          "data": {
            "text/plain": [
              "<Figure size 640x480 with 1 Axes>"
            ],
            "image/png": "[encoded data removed]"
          },
          "metadata": {}
        }
      ]
    },
    {
      "cell_type": "code",
      "source": [
        "import numpy as np\n",
        "\n",
        "\n",
        "\n",
        "\n",
        "# Número de bins pela regra de Rice\n",
        "num_bins = int(np.ceil(2 * (len(valor_reembolso_sem_outliers) ** (1/3))))"
      ],
      "metadata": {
        "id": "rFxQMyoITEIL"
      },
      "execution_count": 531,
      "outputs": []
    },
    {
      "cell_type": "code",
      "source": [
        "sb.histplot(valor_reembolso_sem_outliers, bins=num_bins, kde=True)\n",
        "plt.show()"
      ],
      "metadata": {
        "id": "uTJMSKZKSKUk",
        "outputId": "be391635-7460-4d91-8aed-53d967c20a5a",
        "colab": {
          "base_uri": "https://localhost:8080/",
          "height": 243
        }
      },
      "execution_count": 532,
      "outputs": [
        {
          "output_type": "display_data",
          "data": {
            "text/plain": [
              "<Figure size 640x480 with 1 Axes>"
            ],
            "image/png": "[encoded data removed]"
          },
          "metadata": {}
        }
      ]
    },
    {
      "cell_type": "markdown",
      "source": [
        "Qual foi o senador que mais declarou despesas"
      ],
      "metadata": {
        "id": "HULBVxu3gkqv"
      }
    },
    {
      "cell_type": "code",
      "source": [
        "despesas= df_sem_outliers['despesa']\n",
        "print(despesas)"
      ],
      "metadata": {
        "id": "e1P1MfoGgj_0",
        "outputId": "a3e17a65-2566-47d6-a903-b7fcbff3e0c1",
        "colab": {
          "base_uri": "https://localhost:8080/"
        }
      },
      "execution_count": 533,
      "outputs": [
        {
          "output_type": "stream",
          "name": "stdout",
          "text": [
            "2                      Divulgação da atividade parlamentar\n",
            "4                      Divulgação da atividade parlamentar\n",
            "5        Passagens aéreas, aquáticas e terrestres nacio...\n",
            "6        Aluguel de imóveis para escritório político, c...\n",
            "9                      Divulgação da atividade parlamentar\n",
            "                               ...                        \n",
            "47719    Passagens aéreas, aquáticas e terrestres nacio...\n",
            "47720    Passagens aéreas, aquáticas e terrestres nacio...\n",
            "47721    Passagens aéreas, aquáticas e terrestres nacio...\n",
            "47722    Passagens aéreas, aquáticas e terrestres nacio...\n",
            "47723    Passagens aéreas, aquáticas e terrestres nacio...\n",
            "Name: despesa, Length: 43862, dtype: object\n"
          ]
        }
      ]
    },
    {
      "cell_type": "code",
      "source": [
        "senador = df_sem_outliers['senador'].unique().tolist() # Use tolist() to convert the array to a list\n",
        "print(senador)"
      ],
      "metadata": {
        "id": "bmUIo3DrkSeV",
        "outputId": "ddfb23bf-86b4-4ae8-f1ba-f90a0b3d4689",
        "colab": {
          "base_uri": "https://localhost:8080/"
        }
      },
      "execution_count": 534,
      "outputs": [
        {
          "output_type": "stream",
          "name": "stdout",
          "text": [
            "['ACIR GURGACZ', 'ALESSANDRO VIEIRA', 'ALEXANDRE SILVEIRA', 'ALVARO DIAS', 'ANGELO CORONEL', 'ANTONIO ANASTASIA', 'CARLOS FÁVARO', 'CARLOS PORTINHO', 'CARLOS VIANA', 'CHICO RODRIGUES', 'CHIQUINHO FEITOSA', 'CID GOMES', 'CONFÚCIO MOURA', 'DANIELLA RIBEIRO', 'DÁRIO BERGER', 'DAVI ALCOLUMBRE', 'DRA. EUDÓCIA', 'EDUARDO BRAGA', 'EDUARDO GIRÃO', 'EDUARDO GOMES', 'EDUARDO VELLOSO', 'ELIANE NOGUEIRA', 'ELIZIANE GAMA', 'ELMANO FÉRRER', 'ESPERIDIÃO AMIN', 'FABIANO CONTARATO', 'FABIO GARCIA', 'FERNANDO BEZERRA COELHO', 'FERNANDO COLLOR', 'FERNANDO DUEIRE', 'FLÁVIO ARNS', 'FLÁVIO BOLSONARO', 'GIORDANO', 'GUARACY SILVEIRA', 'HUMBERTO COSTA', 'IRAJÁ', 'IVETE DA SILVEIRA', 'IZALCI LUCAS', 'JADER BARBALHO', 'JAQUES WAGNER', 'JARBAS VASCONCELOS', 'JAYME CAMPOS', 'JEAN PAUL PRATES', 'JORGINHO MELLO', 'JOSÉ SERRA', 'JULIO VENTURA', 'KÁTIA ABREU', 'LASIER MARTINS', 'LEILA BARROS', 'LUCAS BARRETO', 'LUIS CARLOS HEINZE', 'LUIZ CARLOS DO CARMO', 'LUIZ PASTORE', 'MAILZA GOMES', 'MARA GABRILLI', 'MARCELO CASTRO', 'MARCIO BITTAR', 'MARCOS DO VAL', 'MARCOS ROGÉRIO', 'MARGARETH BUZETTI', 'MARIA DAS VITÓRIAS', 'MARIA DO CARMO ALVES', 'MARIA ELIZA DE AGUIAR E SILVA', 'MECIAS DE JESUS', 'NELSINHO TRAD', 'NILDA GONDIM', 'OGARI PACHECO', 'OMAR AZIZ', 'ORIOVISTO GUIMARÃES', 'OTTO ALENCAR', 'PAULO PAIM', 'PAULO ROCHA', 'PLÍNIO VALÉRIO', 'RAFAEL TENÓRIO', 'RANDOLFE RODRIGUES', 'RENAN CALHEIROS', 'ROBERTH BRINGEL', 'ROBERTO ROCHA', 'RODRIGO CUNHA', 'RODRIGO PACHECO', 'ROGÉRIO CARVALHO', 'ROMÁRIO', 'ROSE DE FREITAS', 'SAMUEL ARAUJO', 'SÉRGIO PETECÃO', 'SIMONE TEBET', 'SORAYA THRONICKE', 'STYVENSON VALENTIM', 'TASSO JEREISSATI', 'TELMÁRIO MOTA', 'VANDERLAN CARDOSO', 'VENEZIANO VITAL DO RÊGO', 'WELLINGTON FAGUNDES', 'WEVERTON ROCHA', 'ZENAIDE MAIA', 'ZEQUINHA MARINHO', 'CIRO NOGUEIRA', 'JOSÉ ANÍBAL', 'MAJOR OLIMPIO', 'NAILDE PANTA', 'NEY SUASSUNA', 'VIRGINIO DE CARVALHO', 'AROLDE DE OLIVEIRA', 'DIEGO TAVARES', 'JOSÉ MARANHÃO', 'JUÍZA SELMA', 'PAULO ALBUQUERQUE', 'PRISCO BEZERRA']\n"
          ]
        }
      ]
    },
    {
      "cell_type": "code",
      "source": [
        "df_sem_outliers.columns"
      ],
      "metadata": {
        "id": "5QRFAYeuoRuL",
        "outputId": "b43ddf9a-6304-46e2-ae1b-55a3a12c46db",
        "colab": {
          "base_uri": "https://localhost:8080/"
        }
      },
      "execution_count": 535,
      "outputs": [
        {
          "output_type": "execute_result",
          "data": {
            "text/plain": [
              "Index(['ano', 'senador', 'despesa', 'fornecedot', 'detalhe',\n",
              "       'valor reembolso'],\n",
              "      dtype='object')"
            ]
          },
          "metadata": {},
          "execution_count": 535
        }
      ]
    },
    {
      "cell_type": "markdown",
      "source": [
        "Vendo qual foi o senador que mais teve despesas"
      ],
      "metadata": {
        "id": "HDQs_qp4kXBC"
      }
    },
    {
      "cell_type": "code",
      "source": [
        "\n",
        "contagem_despesa_por_senador = df_sem_outliers.groupby('senador')['despesa'].count()\n",
        "contagem_despesa_por_senador = contagem_despesa_por_senador[0:3]"
      ],
      "metadata": {
        "id": "DsfUJgn-pGC7"
      },
      "execution_count": 536,
      "outputs": []
    },
    {
      "cell_type": "code",
      "source": [
        "contagem_despesa_por_senador"
      ],
      "metadata": {
        "id": "46fD-5LjpMcP",
        "outputId": "58359f79-ab0d-4c92-a47b-b4cab43b1271",
        "colab": {
          "base_uri": "https://localhost:8080/",
          "height": 209
        }
      },
      "execution_count": 537,
      "outputs": [
        {
          "output_type": "execute_result",
          "data": {
            "text/plain": [
              "senador\n",
              "ACIR GURGACZ          428\n",
              "ALESSANDRO VIEIRA     503\n",
              "ALEXANDRE SILVEIRA    225\n",
              "Name: despesa, dtype: int64"
            ],
            "text/html": [
              "<div>\n",
              "<style scoped>\n",
              "    .dataframe tbody tr th:only-of-type {\n",
              "        vertical-align: middle;\n",
              "    }\n",
              "\n",
              "    .dataframe tbody tr th {\n",
              "        vertical-align: top;\n",
              "    }\n",
              "\n",
              "    .dataframe thead th {\n",
              "        text-align: right;\n",
              "    }\n",
              "</style>\n",
              "<table border=\"1\" class=\"dataframe\">\n",
              "  <thead>\n",
              "    <tr style=\"text-align: right;\">\n",
              "      <th></th>\n",
              "      <th>despesa</th>\n",
              "    </tr>\n",
              "    <tr>\n",
              "      <th>senador</th>\n",
              "      <th></th>\n",
              "    </tr>\n",
              "  </thead>\n",
              "  <tbody>\n",
              "    <tr>\n",
              "      <th>ACIR GURGACZ</th>\n",
              "      <td>428</td>\n",
              "    </tr>\n",
              "    <tr>\n",
              "      <th>ALESSANDRO VIEIRA</th>\n",
              "      <td>503</td>\n",
              "    </tr>\n",
              "    <tr>\n",
              "      <th>ALEXANDRE SILVEIRA</th>\n",
              "      <td>225</td>\n",
              "    </tr>\n",
              "  </tbody>\n",
              "</table>\n",
              "</div><br><label><b>dtype:</b> int64</label>"
            ]
          },
          "metadata": {},
          "execution_count": 537
        }
      ]
    },
    {
      "cell_type": "code",
      "source": [
        "despesa= contagem_despesa_por_senador.values\n",
        "print(despesa)"
      ],
      "metadata": {
        "id": "1jLQodrepdMx",
        "outputId": "eb96785e-42a7-4efb-cc85-be2de6858d18",
        "colab": {
          "base_uri": "https://localhost:8080/"
        }
      },
      "execution_count": 538,
      "outputs": [
        {
          "output_type": "stream",
          "name": "stdout",
          "text": [
            "[428 503 225]\n"
          ]
        }
      ]
    },
    {
      "cell_type": "code",
      "source": [
        "senador= contagem_despesa_por_senador.index\n",
        "senador = senador[0:3]"
      ],
      "metadata": {
        "id": "2q38PqabqYLs"
      },
      "execution_count": 539,
      "outputs": []
    },
    {
      "cell_type": "code",
      "source": [
        "plt.bar(senador, despesa)\n",
        "plt.show()"
      ],
      "metadata": {
        "id": "Zbvera5Qpvz8",
        "outputId": "253b81f8-ee02-42c6-a988-a2be8b799d6e",
        "colab": {
          "base_uri": "https://localhost:8080/",
          "height": 245
        }
      },
      "execution_count": 540,
      "outputs": [
        {
          "output_type": "display_data",
          "data": {
            "text/plain": [
              "<Figure size 640x480 with 1 Axes>"
            ],
            "image/png": "[encoded data removed]"
          },
          "metadata": {}
        }
      ]
    },
    {
      "cell_type": "markdown",
      "source": [
        "Qual a percentagem de cotas gasto por senadores? Teve algum com mais de 90%?"
      ],
      "metadata": {
        "id": "-wP_BMLErgPH"
      }
    },
    {
      "cell_type": "code",
      "source": [
        "df_sem_outliers.columns"
      ],
      "metadata": {
        "id": "vALGbNs0rcMn",
        "outputId": "b0d43de8-1bb8-45a3-86fd-a5b1270b274b",
        "colab": {
          "base_uri": "https://localhost:8080/"
        }
      },
      "execution_count": 542,
      "outputs": [
        {
          "output_type": "execute_result",
          "data": {
            "text/plain": [
              "Index(['ano', 'senador', 'despesa', 'fornecedot', 'detalhe',\n",
              "       'valor reembolso'],\n",
              "      dtype='object')"
            ]
          },
          "metadata": {},
          "execution_count": 542
        }
      ]
    },
    {
      "cell_type": "code",
      "source": [
        "cota_por_senador = df_sem_outliers.groupby('senador').apply(lambda i:i['valor reembolso']/i['valor reembolso'].sum() *100)\n",
        "cota_por_senador= round(cota_por_senador, 3)"
      ],
      "metadata": {
        "id": "QC_5pNIftNXQ"
      },
      "execution_count": 566,
      "outputs": []
    },
    {
      "cell_type": "code",
      "source": [
        "cota_por_senador"
      ],
      "metadata": {
        "id": "8V9tnuiBsnrD",
        "outputId": "1ee8eeaf-52e9-411e-d8a5-fa9338e6026b",
        "colab": {
          "base_uri": "https://localhost:8080/",
          "height": 507
        }
      },
      "execution_count": 567,
      "outputs": [
        {
          "output_type": "execute_result",
          "data": {
            "text/plain": [
              "senador                \n",
              "ACIR GURGACZ      2        0.233\n",
              "                  4        0.155\n",
              "                  5        0.310\n",
              "                  6        0.155\n",
              "                  9        0.233\n",
              "                           ...  \n",
              "ZEQUINHA MARINHO  47719    0.005\n",
              "                  47720    0.202\n",
              "                  47721    0.137\n",
              "                  47722    0.067\n",
              "                  47723    0.101\n",
              "Name: valor reembolso, Length: 43862, dtype: float64"
            ],
            "text/html": [
              "<div>\n",
              "<style scoped>\n",
              "    .dataframe tbody tr th:only-of-type {\n",
              "        vertical-align: middle;\n",
              "    }\n",
              "\n",
              "    .dataframe tbody tr th {\n",
              "        vertical-align: top;\n",
              "    }\n",
              "\n",
              "    .dataframe thead th {\n",
              "        text-align: right;\n",
              "    }\n",
              "</style>\n",
              "<table border=\"1\" class=\"dataframe\">\n",
              "  <thead>\n",
              "    <tr style=\"text-align: right;\">\n",
              "      <th></th>\n",
              "      <th></th>\n",
              "      <th>valor reembolso</th>\n",
              "    </tr>\n",
              "    <tr>\n",
              "      <th>senador</th>\n",
              "      <th></th>\n",
              "      <th></th>\n",
              "    </tr>\n",
              "  </thead>\n",
              "  <tbody>\n",
              "    <tr>\n",
              "      <th rowspan=\"5\" valign=\"top\">ACIR GURGACZ</th>\n",
              "      <th>2</th>\n",
              "      <td>0.233</td>\n",
              "    </tr>\n",
              "    <tr>\n",
              "      <th>4</th>\n",
              "      <td>0.155</td>\n",
              "    </tr>\n",
              "    <tr>\n",
              "      <th>5</th>\n",
              "      <td>0.310</td>\n",
              "    </tr>\n",
              "    <tr>\n",
              "      <th>6</th>\n",
              "      <td>0.155</td>\n",
              "    </tr>\n",
              "    <tr>\n",
              "      <th>9</th>\n",
              "      <td>0.233</td>\n",
              "    </tr>\n",
              "    <tr>\n",
              "      <th>...</th>\n",
              "      <th>...</th>\n",
              "      <td>...</td>\n",
              "    </tr>\n",
              "    <tr>\n",
              "      <th rowspan=\"5\" valign=\"top\">ZEQUINHA MARINHO</th>\n",
              "      <th>47719</th>\n",
              "      <td>0.005</td>\n",
              "    </tr>\n",
              "    <tr>\n",
              "      <th>47720</th>\n",
              "      <td>0.202</td>\n",
              "    </tr>\n",
              "    <tr>\n",
              "      <th>47721</th>\n",
              "      <td>0.137</td>\n",
              "    </tr>\n",
              "    <tr>\n",
              "      <th>47722</th>\n",
              "      <td>0.067</td>\n",
              "    </tr>\n",
              "    <tr>\n",
              "      <th>47723</th>\n",
              "      <td>0.101</td>\n",
              "    </tr>\n",
              "  </tbody>\n",
              "</table>\n",
              "<p>43862 rows × 1 columns</p>\n",
              "</div><br><label><b>dtype:</b> float64</label>"
            ]
          },
          "metadata": {},
          "execution_count": 567
        }
      ]
    },
    {
      "cell_type": "code",
      "source": [
        "senador = cota_por_senador.index\n",
        "cota= cota_por_senador.values"
      ],
      "metadata": {
        "id": "QPI6N1NnuXhC"
      },
      "execution_count": 568,
      "outputs": []
    },
    {
      "cell_type": "code",
      "source": [
        "# Convert the elements in 'senador' to strings\n",
        "senador = [str(s) for s in senador]\n",
        "\n",
        "plt.bar(senador, cota)\n",
        "plt.show()"
      ],
      "metadata": {
        "id": "hYHZUtQMvAMT"
      },
      "execution_count": null,
      "outputs": []
    }
  ]
}