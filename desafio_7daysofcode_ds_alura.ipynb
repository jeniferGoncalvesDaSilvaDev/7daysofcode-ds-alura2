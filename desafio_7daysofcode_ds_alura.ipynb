{
  "nbformat": 4,
  "nbformat_minor": 0,
  "metadata": {
    "colab": {
      "provenance": [],
      "mount_file_id": "https://github.com/jeniferGoncalvesDaSilvaDev/7daysofcode-ds-alura2/blob/main/desafio_7daysofcode_ds_alura.ipynb",
      "authorship_tag": "ABX9TyMe7xXm43Xsw6pmIj8jv570",
      "include_colab_link": true
    },
    "kernelspec": {
      "name": "python3",
      "display_name": "Python 3"
    },
    "language_info": {
      "name": "python"
    }
  },
  "cells": [
    {
      "cell_type": "markdown",
      "metadata": {
        "id": "view-in-github",
        "colab_type": "text"
      },
      "source": [
        "<a href=\"https://colab.research.google.com/github/jeniferGoncalvesDaSilvaDev/7daysofcode-ds-alura2/blob/main/desafio_7daysofcode_ds_alura.ipynb\" target=\"_parent\"><img src=\"https://colab.research.google.com/assets/colab-badge.svg\" alt=\"Open In Colab\"/></a>"
      ]
    },
    {
      "cell_type": "code",
      "execution_count": 401,
      "metadata": {
        "id": "Cm2Jlji_yNtu"
      },
      "outputs": [],
      "source": [
        "import pandas as pd"
      ]
    },
    {
      "cell_type": "markdown",
      "source": [
        "Dia 1: limpeza de dados"
      ],
      "metadata": {
        "id": "j05InQjClTsR"
      }
    },
    {
      "cell_type": "code",
      "source": [
        "\n",
        "\n",
        "# Lista de arquivos CSV\n",
        "lista_csv = [\"/content/drive/MyDrive/csv/despesa_ceaps_2022.csv\",\n",
        "             \"/content/drive/MyDrive/csv/despesa_ceaps_2021.csv\",\n",
        "             \"/content/drive/MyDrive/csv/despesa_ceaps_2020.csv\"]\n",
        "\n",
        "# Função para gerar DataFrames a partir de arquivos CSV\n",
        "def gerar_ds(lista_arquivos):\n",
        "    lista_ds = []\n",
        "    for arquivo in lista_arquivos:\n",
        "        try:\n",
        "            df = pd.read_csv(arquivo, encoding=\"latin-1\", sep=';', on_bad_lines='skip')\n",
        "            lista_ds.append(df)\n",
        "        except Exception as e:\n",
        "            print(f\"Erro ao carregar o arquivo {arquivo}: {e}\")\n",
        "    return lista_ds\n",
        "\n",
        "# Gerar a lista de DataFrames\n",
        "gerar_data = gerar_ds(lista_csv)\n",
        "\n",
        "# Concatenar todos os DataFrames em um único DataFrame\n",
        "df_unico = pd.concat(gerar_data, ignore_index=False)\n",
        "\n",
        "# Exibir os primeiros registros do DataFrame concatenado\n",
        "print(df_unico.head(4))"
      ],
      "metadata": {
        "colab": {
          "base_uri": "https://localhost:8080/"
        },
        "id": "ercI_csU1SgS",
        "outputId": "3f5dddc4-86db-492a-d88a-e776902edb1b"
      },
      "execution_count": 402,
      "outputs": [
        {
          "output_type": "stream",
          "name": "stdout",
          "text": [
            "                                                                                                                                                                                                            ULTIMA ATUALIZACAO  \\\n",
            "ANO  MES SENADOR      TIPO_DESPESA                                       CNPJ_CPF           FORNECEDOR                      DOCUMENTO         DATA       DETALHAMENTO                                        VALOR_REEMBOLSADO   \n",
            "2022 1   ACIR GURGACZ Aluguel de imóveis para escritório político, co... 004.948.028-63     GILBERTO PISELO DO NASCIMENTO   001/22            03/01/2022 Despesa com pagamento de aluguel de imóvel para...               6000   \n",
            "                      Divulgação da atividade parlamentar                26.320.603/0001-64 INFORMANAHORA                   000000000000310/A 04/01/2022 Despesa com divulgação da atividade parlamentar...               1500   \n",
            "                                                                         13.659.201/0001-47 LINHA PURPURA FOTO E VIDEO LTDA 107               14/01/2022 Despesa com produção de texto e edição de vídeo...               6000   \n",
            "\n",
            "                                                                                                                                                                                                            22/09/2024 02:01  \\\n",
            "ANO  MES SENADOR      TIPO_DESPESA                                       CNPJ_CPF           FORNECEDOR                      DOCUMENTO         DATA       DETALHAMENTO                                          COD_DOCUMENTO   \n",
            "2022 1   ACIR GURGACZ Aluguel de imóveis para escritório político, co... 004.948.028-63     GILBERTO PISELO DO NASCIMENTO   001/22            03/01/2022 Despesa com pagamento de aluguel de imóvel para...          2173614   \n",
            "                      Divulgação da atividade parlamentar                26.320.603/0001-64 INFORMANAHORA                   000000000000310/A 04/01/2022 Despesa com divulgação da atividade parlamentar...          2173615   \n",
            "                                                                         13.659.201/0001-47 LINHA PURPURA FOTO E VIDEO LTDA 107               14/01/2022 Despesa com produção de texto e edição de vídeo...          2173616   \n",
            "\n",
            "                                                                                                                                                                                                            23/09/2024 02:00  \n",
            "ANO  MES SENADOR      TIPO_DESPESA                                       CNPJ_CPF           FORNECEDOR                      DOCUMENTO         DATA       DETALHAMENTO                                                    NaN  \n",
            "2022 1   ACIR GURGACZ Aluguel de imóveis para escritório político, co... 004.948.028-63     GILBERTO PISELO DO NASCIMENTO   001/22            03/01/2022 Despesa com pagamento de aluguel de imóvel para...              NaN  \n",
            "                      Divulgação da atividade parlamentar                26.320.603/0001-64 INFORMANAHORA                   000000000000310/A 04/01/2022 Despesa com divulgação da atividade parlamentar...              NaN  \n",
            "                                                                         13.659.201/0001-47 LINHA PURPURA FOTO E VIDEO LTDA 107               14/01/2022 Despesa com produção de texto e edição de vídeo...              NaN  \n"
          ]
        }
      ]
    },
    {
      "cell_type": "code",
      "source": [
        "df_unico.columns"
      ],
      "metadata": {
        "colab": {
          "base_uri": "https://localhost:8080/"
        },
        "id": "hasu-t5T1kQq",
        "outputId": "07f156aa-25ad-4cde-e9ba-0bba5f8d6812"
      },
      "execution_count": 403,
      "outputs": [
        {
          "output_type": "execute_result",
          "data": {
            "text/plain": [
              "Index(['ULTIMA ATUALIZACAO', '22/09/2024 02:01', '23/09/2024 02:00'], dtype='object')"
            ]
          },
          "metadata": {},
          "execution_count": 403
        }
      ]
    },
    {
      "cell_type": "code",
      "source": [
        "df_limpo = df_unico.drop(columns=['22/09/2024 02:01'])"
      ],
      "metadata": {
        "id": "_IWv7vTLQURy"
      },
      "execution_count": 404,
      "outputs": []
    },
    {
      "cell_type": "code",
      "source": [
        "df_limpo = df_unico.drop(columns=['23/09/2024 02:00'])"
      ],
      "metadata": {
        "id": "0yx__KoSRNMh"
      },
      "execution_count": 405,
      "outputs": []
    },
    {
      "cell_type": "code",
      "source": [
        "df_limpo.columns"
      ],
      "metadata": {
        "id": "-FzvE2dlRTgl",
        "outputId": "530e6e91-b1a8-4832-f449-e4dd78e919f0",
        "colab": {
          "base_uri": "https://localhost:8080/"
        }
      },
      "execution_count": 406,
      "outputs": [
        {
          "output_type": "execute_result",
          "data": {
            "text/plain": [
              "Index(['ULTIMA ATUALIZACAO', '22/09/2024 02:01'], dtype='object')"
            ]
          },
          "metadata": {},
          "execution_count": 406
        }
      ]
    },
    {
      "cell_type": "code",
      "source": [
        "df_limpo = df_unico.drop(columns=['22/09/2024 02:01'])"
      ],
      "metadata": {
        "id": "Zncc2VHsRcSP"
      },
      "execution_count": 407,
      "outputs": []
    },
    {
      "cell_type": "code",
      "source": [
        "df_limpo.columns"
      ],
      "metadata": {
        "id": "QHmhWLRKRg3u",
        "outputId": "2fa82bac-6337-42c5-b2cd-315bd90dba3d",
        "colab": {
          "base_uri": "https://localhost:8080/"
        }
      },
      "execution_count": 408,
      "outputs": [
        {
          "output_type": "execute_result",
          "data": {
            "text/plain": [
              "Index(['ULTIMA ATUALIZACAO', '23/09/2024 02:00'], dtype='object')"
            ]
          },
          "metadata": {},
          "execution_count": 408
        }
      ]
    },
    {
      "cell_type": "code",
      "source": [
        "df_limpo = df_unico.drop(columns=['23/09/2024 02:00'])"
      ],
      "metadata": {
        "id": "qvCQM2elRk8n"
      },
      "execution_count": 409,
      "outputs": []
    },
    {
      "cell_type": "code",
      "source": [
        "df_limpo.columns"
      ],
      "metadata": {
        "id": "wWNHfhvyRs4x",
        "outputId": "a5480894-39b2-4b8d-ab45-5cc66a22fa24",
        "colab": {
          "base_uri": "https://localhost:8080/"
        }
      },
      "execution_count": 410,
      "outputs": [
        {
          "output_type": "execute_result",
          "data": {
            "text/plain": [
              "Index(['ULTIMA ATUALIZACAO', '22/09/2024 02:01'], dtype='object')"
            ]
          },
          "metadata": {},
          "execution_count": 410
        }
      ]
    },
    {
      "cell_type": "code",
      "source": [
        "df_novo = pd.DataFrame(df_limpo['ULTIMA ATUALIZACAO'])"
      ],
      "metadata": {
        "id": "VaQO_rJaawXK"
      },
      "execution_count": 411,
      "outputs": []
    },
    {
      "cell_type": "code",
      "source": [
        "df_novo.columns"
      ],
      "metadata": {
        "id": "XAbZfncbGQlv",
        "outputId": "57721641-468a-411d-915f-24606571873e",
        "colab": {
          "base_uri": "https://localhost:8080/"
        }
      },
      "execution_count": 412,
      "outputs": [
        {
          "output_type": "execute_result",
          "data": {
            "text/plain": [
              "Index(['ULTIMA ATUALIZACAO'], dtype='object')"
            ]
          },
          "metadata": {},
          "execution_count": 412
        }
      ]
    },
    {
      "cell_type": "code",
      "source": [
        "print(df_novo)"
      ],
      "metadata": {
        "id": "EixKN7pphNHL",
        "outputId": "54d1c7b8-2edc-4b96-bdc8-1b4f308a94e2",
        "colab": {
          "base_uri": "https://localhost:8080/"
        }
      },
      "execution_count": 413,
      "outputs": [
        {
          "output_type": "stream",
          "name": "stdout",
          "text": [
            "                                                                                                                                                                                                                  ULTIMA ATUALIZACAO\n",
            "ANO  MES SENADOR          TIPO_DESPESA                                       CNPJ_CPF           FORNECEDOR                        DOCUMENTO         DATA       DETALHAMENTO                                        VALOR_REEMBOLSADO\n",
            "2022 1   ACIR GURGACZ     Aluguel de imóveis para escritório político, co... 004.948.028-63     GILBERTO PISELO DO NASCIMENTO     001/22            03/01/2022 Despesa com pagamento de aluguel de imóvel para...               6000\n",
            "                          Divulgação da atividade parlamentar                26.320.603/0001-64 INFORMANAHORA                     000000000000310/A 04/01/2022 Despesa com divulgação da atividade parlamentar...               1500\n",
            "                                                                             13.659.201/0001-47 LINHA PURPURA FOTO E VIDEO LTDA   107               14/01/2022 Despesa com produção de texto e edição de vídeo...               6000\n",
            "                                                                             23.652.846/0001-01 ROBERTO GUTIERREZ DA ROCHA M.E.I. 187               18/01/2022 Divulgação da atividade parlamentar                              1000\n",
            "...                                                                                                                                                                                                                              ...\n",
            "2020 12  ZEQUINHA MARINHO Passagens aéreas, aquáticas e terrestres nacionais 22.052.777/0001-32 Exceller Tour                     TJ9NGF            08/12/2020 Companhia Aérea: GOL, Localizador: TJ9NGF. Pass...            1654,46\n",
            "                                                                                                                                  QN9KHE            09/12/2020 Companhia Aérea: AZUL, Localizador: QN9KHE. Pas...            1121,83\n",
            "                                                                                                                                  QIGVKT            14/12/2020 Companhia Aérea: AZUL, Localizador: QIGVKT. Pas...             549,47\n",
            "                                                                                                                                  QDHKYF            14/12/2020 Companhia Aérea: AZUL, Localizador: QDHKYF. Pas...             831,05\n",
            "                                                                                                                                  BQWCVK            18/12/2020 Companhia Aérea: GOL, Localizador: BQWCVK. Pass...            2026,12\n",
            "\n",
            "[47725 rows x 1 columns]\n"
          ]
        }
      ]
    },
    {
      "cell_type": "code",
      "source": [
        "df_novo.index"
      ],
      "metadata": {
        "id": "HkO5I-vSiTSX",
        "outputId": "b9e19867-5106-465e-f97d-7fb582e84cb7",
        "colab": {
          "base_uri": "https://localhost:8080/"
        }
      },
      "execution_count": 414,
      "outputs": [
        {
          "output_type": "execute_result",
          "data": {
            "text/plain": [
              "MultiIndex([( 'ANO', 'MES',          'SENADOR', ...),\n",
              "            ('2022',   '1',     'ACIR GURGACZ', ...),\n",
              "            ('2022',   '1',     'ACIR GURGACZ', ...),\n",
              "            ('2022',   '1',     'ACIR GURGACZ', ...),\n",
              "            ('2022',   '1',     'ACIR GURGACZ', ...),\n",
              "            ('2022',   '1',     'ACIR GURGACZ', ...),\n",
              "            ('2022',   '1',     'ACIR GURGACZ', ...),\n",
              "            ('2022',   '2',     'ACIR GURGACZ', ...),\n",
              "            ('2022',   '2',     'ACIR GURGACZ', ...),\n",
              "            ('2022',   '2',     'ACIR GURGACZ', ...),\n",
              "            ...\n",
              "            ('2020',  '12', 'ZEQUINHA MARINHO', ...),\n",
              "            ('2020',  '12', 'ZEQUINHA MARINHO', ...),\n",
              "            ('2020',  '12', 'ZEQUINHA MARINHO', ...),\n",
              "            ('2020',  '12', 'ZEQUINHA MARINHO', ...),\n",
              "            ('2020',  '12', 'ZEQUINHA MARINHO', ...),\n",
              "            ('2020',  '12', 'ZEQUINHA MARINHO', ...),\n",
              "            ('2020',  '12', 'ZEQUINHA MARINHO', ...),\n",
              "            ('2020',  '12', 'ZEQUINHA MARINHO', ...),\n",
              "            ('2020',  '12', 'ZEQUINHA MARINHO', ...),\n",
              "            ('2020',  '12', 'ZEQUINHA MARINHO', ...)],\n",
              "           length=47725)"
            ]
          },
          "metadata": {},
          "execution_count": 414
        }
      ]
    },
    {
      "cell_type": "code",
      "source": [
        "coluna = df_novo.index[0]\n",
        "print(coluna)\n",
        "print(len(coluna))"
      ],
      "metadata": {
        "id": "wF3tUze7G1kF",
        "outputId": "4f148255-c307-47ba-ce75-95f318b33748",
        "colab": {
          "base_uri": "https://localhost:8080/"
        }
      },
      "execution_count": 415,
      "outputs": [
        {
          "output_type": "stream",
          "name": "stdout",
          "text": [
            "('ANO', 'MES', 'SENADOR', 'TIPO_DESPESA', 'CNPJ_CPF', 'FORNECEDOR', 'DOCUMENTO', 'DATA', 'DETALHAMENTO')\n",
            "9\n"
          ]
        }
      ]
    },
    {
      "cell_type": "code",
      "source": [
        "linhas = df_novo.index[1:]"
      ],
      "metadata": {
        "id": "pk0_EW6E21j1"
      },
      "execution_count": 419,
      "outputs": []
    },
    {
      "cell_type": "code",
      "source": [
        "def criar_dict():\n",
        "    my_dict = {} # Create an empty dictionary\n",
        "    my_dict[\"ano\"] = coluna[0] # Remove the comma after coluna[0]\n",
        "    my_dict[\"mes\"] = coluna[1] # Remove the comma after coluna[1]\n",
        "    my_dict[\"senador\"] = coluna[2] # Remove the comma after coluna[2]\n",
        "    my_dict[\"despesa\"] = coluna[3] # Remove the comma after coluna[3]\n",
        "    my_dict[\"cnpj/cpf\"] = coluna[4] # Remove the comma after coluna[4]\n",
        "    my_dict[\"fornecedot\"] = coluna[5] # Remove the comma after coluna[5]\n",
        "    my_dict[\"documento\"] = coluna[6] # Remove the comma after coluna[6]\n",
        "    my_dict[\"data\"] = coluna[7] # Remove the comma after coluna[7]\n",
        "    my_dict[\"detalhe\"]= coluna[8] # Remove the comma after coluna[8]\n",
        "    return my_dict # Return the created dictionary"
      ],
      "metadata": {
        "id": "bX3tge1X5GzO"
      },
      "execution_count": 420,
      "outputs": []
    },
    {
      "cell_type": "code",
      "source": [
        "dict_columns= criar_dict()\n",
        "print(dict_columns)"
      ],
      "metadata": {
        "id": "OWo_br8H4wyu",
        "outputId": "3b2c9af1-c0c2-427b-f664-e159f336f67b",
        "colab": {
          "base_uri": "https://localhost:8080/"
        }
      },
      "execution_count": 421,
      "outputs": [
        {
          "output_type": "stream",
          "name": "stdout",
          "text": [
            "{'ano': 'ANO', 'mes': 'MES', 'senador': 'SENADOR', 'despesa': 'TIPO_DESPESA', 'cnpj/cpf': 'CNPJ_CPF', 'fornecedot': 'FORNECEDOR', 'documento': 'DOCUMENTO', 'data': 'DATA', 'detalhe': 'DETALHAMENTO'}\n"
          ]
        }
      ]
    },
    {
      "cell_type": "code",
      "source": [
        "linhas =list(linhas)"
      ],
      "metadata": {
        "id": "4oipFa_05eSW"
      },
      "execution_count": 422,
      "outputs": []
    },
    {
      "cell_type": "code",
      "source": [
        "def interar_linhas():\n",
        "    result = []  # Create a list to store the values\n",
        "    for i in range(len(linhas)):\n",
        "        inner_list = []  # Create a list for each inner list\n",
        "        for j in range(len(linhas[i])):\n",
        "            inner_list.append(linhas[i][j])\n",
        "        result.append(inner_list)  # Add the inner list to the result\n",
        "    return result  # Return the result list\n",
        "\n",
        "tela = interar_linhas()"
      ],
      "metadata": {
        "id": "i6OjrCKZHkiB"
      },
      "execution_count": 423,
      "outputs": []
    },
    {
      "cell_type": "code",
      "source": [
        " #Import the pandas module\n",
        "\n",
        "def dict_valores(dict_columns, tela):\n",
        "    # Create a list to store the dictionaries\n",
        "    list_of_dicts = []\n",
        "    for row in tela:\n",
        "        # Create a dictionary for each row\n",
        "        row_dict = {}\n",
        "        for key, value in zip(dict_columns.keys(), row):\n",
        "            row_dict[key] = value\n",
        "        list_of_dicts.append(row_dict)\n",
        "\n",
        "    return list_of_dicts\n",
        "\n",
        "result = dict_valores(dict_columns, tela)\n",
        "df_novo_2 = pd.DataFrame(result) #Create the DataFrame from the list of dictionaries\n",
        "print(df_novo_2)"
      ],
      "metadata": {
        "id": "FNxRjaNqJMDD",
        "outputId": "296dd9e8-81b2-4a40-a6a1-a2a8242170ca",
        "colab": {
          "base_uri": "https://localhost:8080/"
        }
      },
      "execution_count": 424,
      "outputs": [
        {
          "output_type": "stream",
          "name": "stdout",
          "text": [
            "        ano mes           senador  \\\n",
            "0      2022   1      ACIR GURGACZ   \n",
            "1      2022   1      ACIR GURGACZ   \n",
            "2      2022   1      ACIR GURGACZ   \n",
            "3      2022   1      ACIR GURGACZ   \n",
            "4      2022   1      ACIR GURGACZ   \n",
            "...     ...  ..               ...   \n",
            "47719  2020  12  ZEQUINHA MARINHO   \n",
            "47720  2020  12  ZEQUINHA MARINHO   \n",
            "47721  2020  12  ZEQUINHA MARINHO   \n",
            "47722  2020  12  ZEQUINHA MARINHO   \n",
            "47723  2020  12  ZEQUINHA MARINHO   \n",
            "\n",
            "                                                 despesa            cnpj/cpf  \\\n",
            "0      Aluguel de imóveis para escritório político, c...      004.948.028-63   \n",
            "1                    Divulgação da atividade parlamentar  26.320.603/0001-64   \n",
            "2                    Divulgação da atividade parlamentar  13.659.201/0001-47   \n",
            "3                    Divulgação da atividade parlamentar  23.652.846/0001-01   \n",
            "4                    Divulgação da atividade parlamentar  08.941.827/0001-01   \n",
            "...                                                  ...                 ...   \n",
            "47719  Passagens aéreas, aquáticas e terrestres nacio...  22.052.777/0001-32   \n",
            "47720  Passagens aéreas, aquáticas e terrestres nacio...  22.052.777/0001-32   \n",
            "47721  Passagens aéreas, aquáticas e terrestres nacio...  22.052.777/0001-32   \n",
            "47722  Passagens aéreas, aquáticas e terrestres nacio...  22.052.777/0001-32   \n",
            "47723  Passagens aéreas, aquáticas e terrestres nacio...  22.052.777/0001-32   \n",
            "\n",
            "                                              fornecedot          documento  \\\n",
            "0                          GILBERTO PISELO DO NASCIMENTO             001/22   \n",
            "1                                          INFORMANAHORA  000000000000310/A   \n",
            "2                        LINHA PURPURA FOTO E VIDEO LTDA                107   \n",
            "3                      ROBERTO GUTIERREZ DA ROCHA M.E.I.                187   \n",
            "4      RONDONIA DINÂMICA COM. E SERV. DE INFORMÁTICA ...  000000000001772/A   \n",
            "...                                                  ...                ...   \n",
            "47719                                      Exceller Tour             TJ9NGF   \n",
            "47720                                      Exceller Tour             QN9KHE   \n",
            "47721                                      Exceller Tour             QIGVKT   \n",
            "47722                                      Exceller Tour             QDHKYF   \n",
            "47723                                      Exceller Tour             BQWCVK   \n",
            "\n",
            "             data                                            detalhe  \n",
            "0      03/01/2022  Despesa com pagamento de aluguel de imóvel par...  \n",
            "1      04/01/2022  Despesa com divulgação da atividade parlamenta...  \n",
            "2      14/01/2022  Despesa com produção de texto e edição de víde...  \n",
            "3      18/01/2022                Divulgação da atividade parlamentar  \n",
            "4      17/01/2022                Divulgação da atividade parlamentar  \n",
            "...           ...                                                ...  \n",
            "47719  08/12/2020  Companhia Aérea: GOL, Localizador: TJ9NGF. Pas...  \n",
            "47720  09/12/2020  Companhia Aérea: AZUL, Localizador: QN9KHE. Pa...  \n",
            "47721  14/12/2020  Companhia Aérea: AZUL, Localizador: QIGVKT. Pa...  \n",
            "47722  14/12/2020  Companhia Aérea: AZUL, Localizador: QDHKYF. Pa...  \n",
            "47723  18/12/2020  Companhia Aérea: GOL, Localizador: BQWCVK. Pas...  \n",
            "\n",
            "[47724 rows x 9 columns]\n"
          ]
        }
      ]
    },
    {
      "cell_type": "code",
      "source": [
        "df_novo_2['ano']"
      ],
      "metadata": {
        "id": "gxM9lU78Js0D",
        "outputId": "4074bf7a-2458-4043-fe3d-ee881697607a",
        "colab": {
          "base_uri": "https://localhost:8080/"
        }
      },
      "execution_count": null,
      "outputs": [
        {
          "output_type": "execute_result",
          "data": {
            "text/plain": [
              "0        2022\n",
              "1        2022\n",
              "2        2022\n",
              "3        2022\n",
              "4        2022\n",
              "         ... \n",
              "47719    2020\n",
              "47720    2020\n",
              "47721    2020\n",
              "47722    2020\n",
              "47723    2020\n",
              "Name: ano, Length: 47724, dtype: object"
            ],
            "text/html": [
              "<div>\n",
              "<style scoped>\n",
              "    .dataframe tbody tr th:only-of-type {\n",
              "        vertical-align: middle;\n",
              "    }\n",
              "\n",
              "    .dataframe tbody tr th {\n",
              "        vertical-align: top;\n",
              "    }\n",
              "\n",
              "    .dataframe thead th {\n",
              "        text-align: right;\n",
              "    }\n",
              "</style>\n",
              "<table border=\"1\" class=\"dataframe\">\n",
              "  <thead>\n",
              "    <tr style=\"text-align: right;\">\n",
              "      <th></th>\n",
              "      <th>ano</th>\n",
              "    </tr>\n",
              "  </thead>\n",
              "  <tbody>\n",
              "    <tr>\n",
              "      <th>0</th>\n",
              "      <td>2022</td>\n",
              "    </tr>\n",
              "    <tr>\n",
              "      <th>1</th>\n",
              "      <td>2022</td>\n",
              "    </tr>\n",
              "    <tr>\n",
              "      <th>2</th>\n",
              "      <td>2022</td>\n",
              "    </tr>\n",
              "    <tr>\n",
              "      <th>3</th>\n",
              "      <td>2022</td>\n",
              "    </tr>\n",
              "    <tr>\n",
              "      <th>4</th>\n",
              "      <td>2022</td>\n",
              "    </tr>\n",
              "    <tr>\n",
              "      <th>...</th>\n",
              "      <td>...</td>\n",
              "    </tr>\n",
              "    <tr>\n",
              "      <th>47719</th>\n",
              "      <td>2020</td>\n",
              "    </tr>\n",
              "    <tr>\n",
              "      <th>47720</th>\n",
              "      <td>2020</td>\n",
              "    </tr>\n",
              "    <tr>\n",
              "      <th>47721</th>\n",
              "      <td>2020</td>\n",
              "    </tr>\n",
              "    <tr>\n",
              "      <th>47722</th>\n",
              "      <td>2020</td>\n",
              "    </tr>\n",
              "    <tr>\n",
              "      <th>47723</th>\n",
              "      <td>2020</td>\n",
              "    </tr>\n",
              "  </tbody>\n",
              "</table>\n",
              "<p>47724 rows × 1 columns</p>\n",
              "</div><br><label><b>dtype:</b> object</label>"
            ]
          },
          "metadata": {},
          "execution_count": 304
        }
      ]
    },
    {
      "cell_type": "code",
      "source": [
        "df_novo_2['detalhe']"
      ],
      "metadata": {
        "id": "vCQxEL_iKFsI",
        "outputId": "58641b61-f36f-44b6-d7f4-24e32bbc4de3",
        "colab": {
          "base_uri": "https://localhost:8080/",
          "height": 597
        }
      },
      "execution_count": null,
      "outputs": [
        {
          "output_type": "execute_result",
          "data": {
            "text/plain": [
              "0        Despesa com pagamento de aluguel de imóvel par...\n",
              "1        Despesa com divulgação da atividade parlamenta...\n",
              "2        Despesa com produção de texto e edição de víde...\n",
              "3                      Divulgação da atividade parlamentar\n",
              "4                      Divulgação da atividade parlamentar\n",
              "                               ...                        \n",
              "47719    Companhia Aérea: GOL, Localizador: TJ9NGF. Pas...\n",
              "47720    Companhia Aérea: AZUL, Localizador: QN9KHE. Pa...\n",
              "47721    Companhia Aérea: AZUL, Localizador: QIGVKT. Pa...\n",
              "47722    Companhia Aérea: AZUL, Localizador: QDHKYF. Pa...\n",
              "47723    Companhia Aérea: GOL, Localizador: BQWCVK. Pas...\n",
              "Name: detalhe, Length: 47724, dtype: object"
            ],
            "text/html": [
              "<div>\n",
              "<style scoped>\n",
              "    .dataframe tbody tr th:only-of-type {\n",
              "        vertical-align: middle;\n",
              "    }\n",
              "\n",
              "    .dataframe tbody tr th {\n",
              "        vertical-align: top;\n",
              "    }\n",
              "\n",
              "    .dataframe thead th {\n",
              "        text-align: right;\n",
              "    }\n",
              "</style>\n",
              "<table border=\"1\" class=\"dataframe\">\n",
              "  <thead>\n",
              "    <tr style=\"text-align: right;\">\n",
              "      <th></th>\n",
              "      <th>detalhe</th>\n",
              "    </tr>\n",
              "  </thead>\n",
              "  <tbody>\n",
              "    <tr>\n",
              "      <th>0</th>\n",
              "      <td>Despesa com pagamento de aluguel de imóvel par...</td>\n",
              "    </tr>\n",
              "    <tr>\n",
              "      <th>1</th>\n",
              "      <td>Despesa com divulgação da atividade parlamenta...</td>\n",
              "    </tr>\n",
              "    <tr>\n",
              "      <th>2</th>\n",
              "      <td>Despesa com produção de texto e edição de víde...</td>\n",
              "    </tr>\n",
              "    <tr>\n",
              "      <th>3</th>\n",
              "      <td>Divulgação da atividade parlamentar</td>\n",
              "    </tr>\n",
              "    <tr>\n",
              "      <th>4</th>\n",
              "      <td>Divulgação da atividade parlamentar</td>\n",
              "    </tr>\n",
              "    <tr>\n",
              "      <th>...</th>\n",
              "      <td>...</td>\n",
              "    </tr>\n",
              "    <tr>\n",
              "      <th>47719</th>\n",
              "      <td>Companhia Aérea: GOL, Localizador: TJ9NGF. Pas...</td>\n",
              "    </tr>\n",
              "    <tr>\n",
              "      <th>47720</th>\n",
              "      <td>Companhia Aérea: AZUL, Localizador: QN9KHE. Pa...</td>\n",
              "    </tr>\n",
              "    <tr>\n",
              "      <th>47721</th>\n",
              "      <td>Companhia Aérea: AZUL, Localizador: QIGVKT. Pa...</td>\n",
              "    </tr>\n",
              "    <tr>\n",
              "      <th>47722</th>\n",
              "      <td>Companhia Aérea: AZUL, Localizador: QDHKYF. Pa...</td>\n",
              "    </tr>\n",
              "    <tr>\n",
              "      <th>47723</th>\n",
              "      <td>Companhia Aérea: GOL, Localizador: BQWCVK. Pas...</td>\n",
              "    </tr>\n",
              "  </tbody>\n",
              "</table>\n",
              "<p>47724 rows × 1 columns</p>\n",
              "</div><br><label><b>dtype:</b> object</label>"
            ]
          },
          "metadata": {},
          "execution_count": 305
        }
      ]
    },
    {
      "cell_type": "code",
      "source": [
        "df_novo_2.columns"
      ],
      "metadata": {
        "id": "ESGxr20jDxAa",
        "outputId": "1df35150-2c05-4dda-89b7-3170552858d7",
        "colab": {
          "base_uri": "https://localhost:8080/"
        }
      },
      "execution_count": 425,
      "outputs": [
        {
          "output_type": "execute_result",
          "data": {
            "text/plain": [
              "Index(['ano', 'mes', 'senador', 'despesa', 'cnpj/cpf', 'fornecedot',\n",
              "       'documento', 'data', 'detalhe'],\n",
              "      dtype='object')"
            ]
          },
          "metadata": {},
          "execution_count": 425
        }
      ]
    },
    {
      "cell_type": "code",
      "source": [
        "df_novo_3 = df_novo_2.drop(columns=['cnpj/cpf'])"
      ],
      "metadata": {
        "id": "ArOuGDNBD12v"
      },
      "execution_count": 426,
      "outputs": []
    },
    {
      "cell_type": "code",
      "source": [
        "df_novo_3 = df_novo_2.drop(columns=['documento'])"
      ],
      "metadata": {
        "id": "eN1rcuXiEFfu"
      },
      "execution_count": 427,
      "outputs": []
    },
    {
      "cell_type": "code",
      "source": [
        "df_novo_3.columns"
      ],
      "metadata": {
        "id": "dq2pI2G7EK4k",
        "outputId": "9061fb98-ae0d-4b07-b311-62680a619d99",
        "colab": {
          "base_uri": "https://localhost:8080/"
        }
      },
      "execution_count": 428,
      "outputs": [
        {
          "output_type": "execute_result",
          "data": {
            "text/plain": [
              "Index(['ano', 'mes', 'senador', 'despesa', 'cnpj/cpf', 'fornecedot', 'data',\n",
              "       'detalhe'],\n",
              "      dtype='object')"
            ]
          },
          "metadata": {},
          "execution_count": 428
        }
      ]
    },
    {
      "cell_type": "code",
      "source": [
        "\n",
        "\n",
        "\n",
        "# Converter a coluna para datetime e extrair o ano\n",
        "df_novo_3['data'] = pd.to_datetime(df_novo_3['data'], errors='coerce').dt.day\n",
        "\n",
        "print(df_novo_3['data'])"
      ],
      "metadata": {
        "id": "zgv1WwNVEVB4",
        "outputId": "b1668841-63cc-4d4f-817b-6abd5ebaeae6",
        "colab": {
          "base_uri": "https://localhost:8080/"
        }
      },
      "execution_count": 429,
      "outputs": [
        {
          "output_type": "stream",
          "name": "stdout",
          "text": [
            "0         1.0\n",
            "1         1.0\n",
            "2         NaN\n",
            "3         NaN\n",
            "4         NaN\n",
            "         ... \n",
            "47719    12.0\n",
            "47720    12.0\n",
            "47721     NaN\n",
            "47722     NaN\n",
            "47723     NaN\n",
            "Name: data, Length: 47724, dtype: float64\n"
          ]
        }
      ]
    },
    {
      "cell_type": "code",
      "source": [
        "# Converter a coluna para datetime e extrair o ano\n",
        "df_novo_3['ano'] = pd.to_datetime(df_novo_3['ano'], errors='coerce')\n",
        "\n",
        "print(df_novo_3['ano'])"
      ],
      "metadata": {
        "id": "GLhsuDARFpz0",
        "outputId": "f8aa0884-8162-42fb-8fae-2f18be22b598",
        "colab": {
          "base_uri": "https://localhost:8080/"
        }
      },
      "execution_count": 458,
      "outputs": [
        {
          "output_type": "stream",
          "name": "stdout",
          "text": [
            "0       1970-01-01 00:00:00.000002022\n",
            "1       1970-01-01 00:00:00.000002022\n",
            "2       1970-01-01 00:00:00.000002022\n",
            "3       1970-01-01 00:00:00.000002022\n",
            "4       1970-01-01 00:00:00.000002022\n",
            "                     ...             \n",
            "47719   1970-01-01 00:00:00.000002020\n",
            "47720   1970-01-01 00:00:00.000002020\n",
            "47721   1970-01-01 00:00:00.000002020\n",
            "47722   1970-01-01 00:00:00.000002020\n",
            "47723   1970-01-01 00:00:00.000002020\n",
            "Name: ano, Length: 47724, dtype: datetime64[ns]\n"
          ]
        }
      ]
    },
    {
      "cell_type": "code",
      "source": [
        "# Converter a coluna para datetime e extrair o ano\n",
        "df_novo_3['mes'] = pd.to_datetime(df_novo_3['mes'], errors='coerce').dt.month\n",
        "\n",
        "print(df_novo_3['mes'])"
      ],
      "metadata": {
        "id": "3mrS49M4Fxfr",
        "outputId": "e5eee72a-325e-4425-a7a1-143c83002219",
        "colab": {
          "base_uri": "https://localhost:8080/"
        }
      },
      "execution_count": 432,
      "outputs": [
        {
          "output_type": "stream",
          "name": "stdout",
          "text": [
            "0       NaN\n",
            "1       NaN\n",
            "2       NaN\n",
            "3       NaN\n",
            "4       NaN\n",
            "         ..\n",
            "47719   NaN\n",
            "47720   NaN\n",
            "47721   NaN\n",
            "47722   NaN\n",
            "47723   NaN\n",
            "Name: mes, Length: 47724, dtype: float64\n"
          ]
        },
        {
          "output_type": "stream",
          "name": "stderr",
          "text": [
            "<ipython-input-432-d92bd4056946>:2: UserWarning: Could not infer format, so each element will be parsed individually, falling back to `dateutil`. To ensure parsing is consistent and as-expected, please specify a format.\n",
            "  df_novo_3['mes'] = pd.to_datetime(df_novo_3['mes'], errors='coerce').dt.month\n"
          ]
        }
      ]
    },
    {
      "cell_type": "code",
      "source": [
        "#colunas object para string\n",
        "df_novo_3['senador'] = df_novo_3['senador'].astype(str)\n",
        "print(df_novo_3['senador'])"
      ],
      "metadata": {
        "id": "NyYTEaAuF6J5",
        "outputId": "09195752-ae42-4ca0-fd2d-407aa1bb9461",
        "colab": {
          "base_uri": "https://localhost:8080/"
        }
      },
      "execution_count": 433,
      "outputs": [
        {
          "output_type": "stream",
          "name": "stdout",
          "text": [
            "0            ACIR GURGACZ\n",
            "1            ACIR GURGACZ\n",
            "2            ACIR GURGACZ\n",
            "3            ACIR GURGACZ\n",
            "4            ACIR GURGACZ\n",
            "               ...       \n",
            "47719    ZEQUINHA MARINHO\n",
            "47720    ZEQUINHA MARINHO\n",
            "47721    ZEQUINHA MARINHO\n",
            "47722    ZEQUINHA MARINHO\n",
            "47723    ZEQUINHA MARINHO\n",
            "Name: senador, Length: 47724, dtype: object\n"
          ]
        }
      ]
    },
    {
      "cell_type": "code",
      "source": [
        "#colunas object para string\n",
        "#colunas object para string\n",
        "df_novo_3['despesa'] = df_novo_3['despesa'].astype(str)\n",
        "print(df_novo_3['despesa'])"
      ],
      "metadata": {
        "id": "VIxeaxkjHy-Y",
        "outputId": "399c5cd0-548e-4b1d-e34d-c030daab5b2f",
        "colab": {
          "base_uri": "https://localhost:8080/"
        }
      },
      "execution_count": 434,
      "outputs": [
        {
          "output_type": "stream",
          "name": "stdout",
          "text": [
            "0        Aluguel de imóveis para escritório político, c...\n",
            "1                      Divulgação da atividade parlamentar\n",
            "2                      Divulgação da atividade parlamentar\n",
            "3                      Divulgação da atividade parlamentar\n",
            "4                      Divulgação da atividade parlamentar\n",
            "                               ...                        \n",
            "47719    Passagens aéreas, aquáticas e terrestres nacio...\n",
            "47720    Passagens aéreas, aquáticas e terrestres nacio...\n",
            "47721    Passagens aéreas, aquáticas e terrestres nacio...\n",
            "47722    Passagens aéreas, aquáticas e terrestres nacio...\n",
            "47723    Passagens aéreas, aquáticas e terrestres nacio...\n",
            "Name: despesa, Length: 47724, dtype: object\n"
          ]
        }
      ]
    },
    {
      "cell_type": "code",
      "source": [
        "#colunas object para string\n",
        "df_novo_3['detalhe'] = df_novo_3['detalhe'].astype(str)\n",
        "print(df_novo_3['detalhe'])"
      ],
      "metadata": {
        "id": "P4MRg56OH485",
        "outputId": "84c5dd11-4699-48a6-ce18-09e6668cbf26",
        "colab": {
          "base_uri": "https://localhost:8080/"
        }
      },
      "execution_count": 435,
      "outputs": [
        {
          "output_type": "stream",
          "name": "stdout",
          "text": [
            "0        Despesa com pagamento de aluguel de imóvel par...\n",
            "1        Despesa com divulgação da atividade parlamenta...\n",
            "2        Despesa com produção de texto e edição de víde...\n",
            "3                      Divulgação da atividade parlamentar\n",
            "4                      Divulgação da atividade parlamentar\n",
            "                               ...                        \n",
            "47719    Companhia Aérea: GOL, Localizador: TJ9NGF. Pas...\n",
            "47720    Companhia Aérea: AZUL, Localizador: QN9KHE. Pa...\n",
            "47721    Companhia Aérea: AZUL, Localizador: QIGVKT. Pa...\n",
            "47722    Companhia Aérea: AZUL, Localizador: QDHKYF. Pa...\n",
            "47723    Companhia Aérea: GOL, Localizador: BQWCVK. Pas...\n",
            "Name: detalhe, Length: 47724, dtype: object\n"
          ]
        }
      ]
    },
    {
      "cell_type": "code",
      "source": [
        "# Lista de arquivos CSV\n",
        "lista_csv = [\"/content/drive/MyDrive/csv/despesa_ceaps_2022.csv\",\n",
        "             \"/content/drive/MyDrive/csv/despesa_ceaps_2021.csv\",\n",
        "             \"/content/drive/MyDrive/csv/despesa_ceaps_2020.csv\"]\n",
        "\n",
        "# Função para gerar DataFrames a partir de arquivos CSV\n",
        "def gerar_ds(lista_arquivos):\n",
        "    lista_ds = []\n",
        "    for arquivo in lista_arquivos:\n",
        "        try:\n",
        "            df = pd.read_csv(arquivo, encoding=\"latin-1\", sep=';', on_bad_lines='skip')\n",
        "            lista_ds.append(df)\n",
        "        except Exception as e:\n",
        "            print(f\"Erro ao carregar o arquivo {arquivo}: {e}\")\n",
        "    return lista_ds\n",
        "\n",
        "# Gerar a lista de DataFrames\n",
        "gerar_data = gerar_ds(lista_csv)\n",
        "\n",
        "# Concatenar todos os DataFrames em um único DataFrame\n",
        "df_unico_2 = pd.concat(gerar_data, ignore_index=True)\n",
        "\n",
        "# Exibir os primeiros registros do DataFrame concatenado\n",
        "print(df_unico_2.head(4))"
      ],
      "metadata": {
        "id": "VlCZNwDnJe_f",
        "outputId": "61bc6747-f3d5-4748-bc5c-4c3b94093a4e",
        "colab": {
          "base_uri": "https://localhost:8080/"
        }
      },
      "execution_count": 436,
      "outputs": [
        {
          "output_type": "stream",
          "name": "stdout",
          "text": [
            "  ULTIMA ATUALIZACAO 22/09/2024 02:01 23/09/2024 02:00\n",
            "0  VALOR_REEMBOLSADO    COD_DOCUMENTO              NaN\n",
            "1               6000          2173614              NaN\n",
            "2               1500          2173615              NaN\n",
            "3               6000          2173616              NaN\n"
          ]
        }
      ]
    },
    {
      "cell_type": "code",
      "source": [
        "df_unico_2= df_unico_2['ULTIMA ATUALIZACAO']\n",
        "print(df_unico_2)"
      ],
      "metadata": {
        "id": "lfZnzbpxJsVc",
        "outputId": "0fad19ea-2cb3-4fae-a04d-3db335b5454c",
        "colab": {
          "base_uri": "https://localhost:8080/"
        }
      },
      "execution_count": 437,
      "outputs": [
        {
          "output_type": "stream",
          "name": "stdout",
          "text": [
            "0        VALOR_REEMBOLSADO\n",
            "1                     6000\n",
            "2                     1500\n",
            "3                     6000\n",
            "4                     1000\n",
            "               ...        \n",
            "47720              1654,46\n",
            "47721              1121,83\n",
            "47722               549,47\n",
            "47723               831,05\n",
            "47724              2026,12\n",
            "Name: ULTIMA ATUALIZACAO, Length: 47725, dtype: object\n"
          ]
        }
      ]
    },
    {
      "cell_type": "code",
      "source": [
        "# Replace 'actual_column_name' with the correct column name from your DataFrame\n",
        "df_unico_2['valor reembolsado'] = df_unico_2"
      ],
      "metadata": {
        "id": "33Rz4kXOMAI8"
      },
      "execution_count": 438,
      "outputs": []
    },
    {
      "cell_type": "code",
      "source": [
        "df_novo_4 = df_novo_3.merge(df_unico_2, left_index=True, right_index=True)"
      ],
      "metadata": {
        "id": "TjfvrDMoKUPe"
      },
      "execution_count": 439,
      "outputs": []
    },
    {
      "cell_type": "code",
      "source": [
        "df_novo_4['ULTIMA ATUALIZACAO']"
      ],
      "metadata": {
        "id": "JAL424FLKXkk",
        "outputId": "486b13d5-170f-443d-bfe3-149196de1107",
        "colab": {
          "base_uri": "https://localhost:8080/",
          "height": 458
        }
      },
      "execution_count": 440,
      "outputs": [
        {
          "output_type": "execute_result",
          "data": {
            "text/plain": [
              "0        VALOR_REEMBOLSADO\n",
              "1                     6000\n",
              "2                     1500\n",
              "3                     6000\n",
              "4                     1000\n",
              "               ...        \n",
              "47719                44,76\n",
              "47720              1654,46\n",
              "47721              1121,83\n",
              "47722               549,47\n",
              "47723               831,05\n",
              "Name: ULTIMA ATUALIZACAO, Length: 47724, dtype: object"
            ],
            "text/html": [
              "<div>\n",
              "<style scoped>\n",
              "    .dataframe tbody tr th:only-of-type {\n",
              "        vertical-align: middle;\n",
              "    }\n",
              "\n",
              "    .dataframe tbody tr th {\n",
              "        vertical-align: top;\n",
              "    }\n",
              "\n",
              "    .dataframe thead th {\n",
              "        text-align: right;\n",
              "    }\n",
              "</style>\n",
              "<table border=\"1\" class=\"dataframe\">\n",
              "  <thead>\n",
              "    <tr style=\"text-align: right;\">\n",
              "      <th></th>\n",
              "      <th>ULTIMA ATUALIZACAO</th>\n",
              "    </tr>\n",
              "  </thead>\n",
              "  <tbody>\n",
              "    <tr>\n",
              "      <th>0</th>\n",
              "      <td>VALOR_REEMBOLSADO</td>\n",
              "    </tr>\n",
              "    <tr>\n",
              "      <th>1</th>\n",
              "      <td>6000</td>\n",
              "    </tr>\n",
              "    <tr>\n",
              "      <th>2</th>\n",
              "      <td>1500</td>\n",
              "    </tr>\n",
              "    <tr>\n",
              "      <th>3</th>\n",
              "      <td>6000</td>\n",
              "    </tr>\n",
              "    <tr>\n",
              "      <th>4</th>\n",
              "      <td>1000</td>\n",
              "    </tr>\n",
              "    <tr>\n",
              "      <th>...</th>\n",
              "      <td>...</td>\n",
              "    </tr>\n",
              "    <tr>\n",
              "      <th>47719</th>\n",
              "      <td>44,76</td>\n",
              "    </tr>\n",
              "    <tr>\n",
              "      <th>47720</th>\n",
              "      <td>1654,46</td>\n",
              "    </tr>\n",
              "    <tr>\n",
              "      <th>47721</th>\n",
              "      <td>1121,83</td>\n",
              "    </tr>\n",
              "    <tr>\n",
              "      <th>47722</th>\n",
              "      <td>549,47</td>\n",
              "    </tr>\n",
              "    <tr>\n",
              "      <th>47723</th>\n",
              "      <td>831,05</td>\n",
              "    </tr>\n",
              "  </tbody>\n",
              "</table>\n",
              "<p>47724 rows × 1 columns</p>\n",
              "</div><br><label><b>dtype:</b> object</label>"
            ]
          },
          "metadata": {},
          "execution_count": 440
        }
      ]
    },
    {
      "cell_type": "code",
      "source": [
        "df_novo_4['valor reembolso'] =df_novo_4['ULTIMA ATUALIZACAO']"
      ],
      "metadata": {
        "id": "7wLezte3Nvjo"
      },
      "execution_count": 441,
      "outputs": []
    },
    {
      "cell_type": "code",
      "source": [
        "df_novo_4.columns"
      ],
      "metadata": {
        "id": "LQ0DEEKyN9jm",
        "outputId": "5bc2d838-0395-47d0-b7b1-6bff29afbfcc",
        "colab": {
          "base_uri": "https://localhost:8080/"
        }
      },
      "execution_count": 442,
      "outputs": [
        {
          "output_type": "execute_result",
          "data": {
            "text/plain": [
              "Index(['ano', 'mes', 'senador', 'despesa', 'cnpj/cpf', 'fornecedot', 'data',\n",
              "       'detalhe', 'ULTIMA ATUALIZACAO', 'valor reembolso'],\n",
              "      dtype='object')"
            ]
          },
          "metadata": {},
          "execution_count": 442
        }
      ]
    },
    {
      "cell_type": "code",
      "source": [
        "df_novo_4['valor reembolso']"
      ],
      "metadata": {
        "id": "91cKz2jCODDq",
        "outputId": "db6720c3-ab55-4cef-efe8-eb439477c932",
        "colab": {
          "base_uri": "https://localhost:8080/",
          "height": 458
        }
      },
      "execution_count": 443,
      "outputs": [
        {
          "output_type": "execute_result",
          "data": {
            "text/plain": [
              "0        VALOR_REEMBOLSADO\n",
              "1                     6000\n",
              "2                     1500\n",
              "3                     6000\n",
              "4                     1000\n",
              "               ...        \n",
              "47719                44,76\n",
              "47720              1654,46\n",
              "47721              1121,83\n",
              "47722               549,47\n",
              "47723               831,05\n",
              "Name: valor reembolso, Length: 47724, dtype: object"
            ],
            "text/html": [
              "<div>\n",
              "<style scoped>\n",
              "    .dataframe tbody tr th:only-of-type {\n",
              "        vertical-align: middle;\n",
              "    }\n",
              "\n",
              "    .dataframe tbody tr th {\n",
              "        vertical-align: top;\n",
              "    }\n",
              "\n",
              "    .dataframe thead th {\n",
              "        text-align: right;\n",
              "    }\n",
              "</style>\n",
              "<table border=\"1\" class=\"dataframe\">\n",
              "  <thead>\n",
              "    <tr style=\"text-align: right;\">\n",
              "      <th></th>\n",
              "      <th>valor reembolso</th>\n",
              "    </tr>\n",
              "  </thead>\n",
              "  <tbody>\n",
              "    <tr>\n",
              "      <th>0</th>\n",
              "      <td>VALOR_REEMBOLSADO</td>\n",
              "    </tr>\n",
              "    <tr>\n",
              "      <th>1</th>\n",
              "      <td>6000</td>\n",
              "    </tr>\n",
              "    <tr>\n",
              "      <th>2</th>\n",
              "      <td>1500</td>\n",
              "    </tr>\n",
              "    <tr>\n",
              "      <th>3</th>\n",
              "      <td>6000</td>\n",
              "    </tr>\n",
              "    <tr>\n",
              "      <th>4</th>\n",
              "      <td>1000</td>\n",
              "    </tr>\n",
              "    <tr>\n",
              "      <th>...</th>\n",
              "      <td>...</td>\n",
              "    </tr>\n",
              "    <tr>\n",
              "      <th>47719</th>\n",
              "      <td>44,76</td>\n",
              "    </tr>\n",
              "    <tr>\n",
              "      <th>47720</th>\n",
              "      <td>1654,46</td>\n",
              "    </tr>\n",
              "    <tr>\n",
              "      <th>47721</th>\n",
              "      <td>1121,83</td>\n",
              "    </tr>\n",
              "    <tr>\n",
              "      <th>47722</th>\n",
              "      <td>549,47</td>\n",
              "    </tr>\n",
              "    <tr>\n",
              "      <th>47723</th>\n",
              "      <td>831,05</td>\n",
              "    </tr>\n",
              "  </tbody>\n",
              "</table>\n",
              "<p>47724 rows × 1 columns</p>\n",
              "</div><br><label><b>dtype:</b> object</label>"
            ]
          },
          "metadata": {},
          "execution_count": 443
        }
      ]
    },
    {
      "cell_type": "code",
      "source": [
        "df_novo_4= df_novo_4.drop(columns = ['ULTIMA ATUALIZACAO'])"
      ],
      "metadata": {
        "id": "bMeUE8YvOLS8"
      },
      "execution_count": 444,
      "outputs": []
    },
    {
      "cell_type": "code",
      "source": [
        "df_novo_4.columns"
      ],
      "metadata": {
        "id": "CsdoTR4xOeiF",
        "outputId": "bd7e01ad-da7c-4996-8f04-6d7c91fae475",
        "colab": {
          "base_uri": "https://localhost:8080/"
        }
      },
      "execution_count": 445,
      "outputs": [
        {
          "output_type": "execute_result",
          "data": {
            "text/plain": [
              "Index(['ano', 'mes', 'senador', 'despesa', 'cnpj/cpf', 'fornecedot', 'data',\n",
              "       'detalhe', 'valor reembolso'],\n",
              "      dtype='object')"
            ]
          },
          "metadata": {},
          "execution_count": 445
        }
      ]
    },
    {
      "cell_type": "code",
      "source": [
        "df_novo_4 = df_novo_4.drop(columns=['cnpj/cpf'])"
      ],
      "metadata": {
        "id": "iHf1MGVOOj5V"
      },
      "execution_count": 446,
      "outputs": []
    },
    {
      "cell_type": "code",
      "source": [
        "df_novo_4.columns"
      ],
      "metadata": {
        "id": "pA62FJnHO6lT",
        "outputId": "91ea8388-3ae7-4566-e7ab-587c6e9aedcb",
        "colab": {
          "base_uri": "https://localhost:8080/"
        }
      },
      "execution_count": 447,
      "outputs": [
        {
          "output_type": "execute_result",
          "data": {
            "text/plain": [
              "Index(['ano', 'mes', 'senador', 'despesa', 'fornecedot', 'data', 'detalhe',\n",
              "       'valor reembolso'],\n",
              "      dtype='object')"
            ]
          },
          "metadata": {},
          "execution_count": 447
        }
      ]
    },
    {
      "cell_type": "code",
      "source": [
        "# Remove the header row if it exists\n",
        "df_novo_4 = df_novo_4[1:]\n",
        "\n",
        "# Replace commas with periods and convert to float, but handle errors\n",
        "df_novo_4['valor reembolso'] = pd.to_numeric(df_novo_4['valor reembolso'].str.replace(',', '.'), errors='coerce')"
      ],
      "metadata": {
        "id": "RGSS0BPbdLbV",
        "outputId": "9ffa6ada-e702-4519-b128-32773a5a76c2",
        "colab": {
          "base_uri": "https://localhost:8080/"
        }
      },
      "execution_count": 448,
      "outputs": [
        {
          "output_type": "stream",
          "name": "stderr",
          "text": [
            "<ipython-input-448-d1a2188c5fc4>:5: SettingWithCopyWarning: \n",
            "A value is trying to be set on a copy of a slice from a DataFrame.\n",
            "Try using .loc[row_indexer,col_indexer] = value instead\n",
            "\n",
            "See the caveats in the documentation: https://pandas.pydata.org/pandas-docs/stable/user_guide/indexing.html#returning-a-view-versus-a-copy\n",
            "  df_novo_4['valor reembolso'] = pd.to_numeric(df_novo_4['valor reembolso'].str.replace(',', '.'), errors='coerce')\n"
          ]
        }
      ]
    },
    {
      "cell_type": "code",
      "source": [
        "print(df_novo_4['valor reembolso'])"
      ],
      "metadata": {
        "id": "WkV-1h1Ddnwj",
        "outputId": "a94b75fb-a0e9-40e0-ff85-18b24f9e0304",
        "colab": {
          "base_uri": "https://localhost:8080/"
        }
      },
      "execution_count": 449,
      "outputs": [
        {
          "output_type": "stream",
          "name": "stdout",
          "text": [
            "1        6000.00\n",
            "2        1500.00\n",
            "3        6000.00\n",
            "4        1000.00\n",
            "5        2000.00\n",
            "          ...   \n",
            "47719      44.76\n",
            "47720    1654.46\n",
            "47721    1121.83\n",
            "47722     549.47\n",
            "47723     831.05\n",
            "Name: valor reembolso, Length: 47723, dtype: float64\n"
          ]
        }
      ]
    },
    {
      "cell_type": "code",
      "source": [
        "df_novo_4.columns"
      ],
      "metadata": {
        "id": "SYk8Uy6_f0qH",
        "outputId": "dc131acc-581c-4da3-9ad0-807411bff815",
        "colab": {
          "base_uri": "https://localhost:8080/"
        }
      },
      "execution_count": 450,
      "outputs": [
        {
          "output_type": "execute_result",
          "data": {
            "text/plain": [
              "Index(['ano', 'mes', 'senador', 'despesa', 'fornecedot', 'data', 'detalhe',\n",
              "       'valor reembolso'],\n",
              "      dtype='object')"
            ]
          },
          "metadata": {},
          "execution_count": 450
        }
      ]
    },
    {
      "cell_type": "code",
      "source": [
        "df_novo_4.isnull().sum()"
      ],
      "metadata": {
        "id": "Lb9r_1aEf_Ol",
        "outputId": "26fd4d48-9d2d-4d88-8f6f-c7f69372e510",
        "colab": {
          "base_uri": "https://localhost:8080/",
          "height": 335
        }
      },
      "execution_count": 451,
      "outputs": [
        {
          "output_type": "execute_result",
          "data": {
            "text/plain": [
              "ano                    2\n",
              "mes                47723\n",
              "senador                0\n",
              "despesa                0\n",
              "fornecedot             0\n",
              "data               27295\n",
              "detalhe                0\n",
              "valor reembolso        2\n",
              "dtype: int64"
            ],
            "text/html": [
              "<div>\n",
              "<style scoped>\n",
              "    .dataframe tbody tr th:only-of-type {\n",
              "        vertical-align: middle;\n",
              "    }\n",
              "\n",
              "    .dataframe tbody tr th {\n",
              "        vertical-align: top;\n",
              "    }\n",
              "\n",
              "    .dataframe thead th {\n",
              "        text-align: right;\n",
              "    }\n",
              "</style>\n",
              "<table border=\"1\" class=\"dataframe\">\n",
              "  <thead>\n",
              "    <tr style=\"text-align: right;\">\n",
              "      <th></th>\n",
              "      <th>0</th>\n",
              "    </tr>\n",
              "  </thead>\n",
              "  <tbody>\n",
              "    <tr>\n",
              "      <th>ano</th>\n",
              "      <td>2</td>\n",
              "    </tr>\n",
              "    <tr>\n",
              "      <th>mes</th>\n",
              "      <td>47723</td>\n",
              "    </tr>\n",
              "    <tr>\n",
              "      <th>senador</th>\n",
              "      <td>0</td>\n",
              "    </tr>\n",
              "    <tr>\n",
              "      <th>despesa</th>\n",
              "      <td>0</td>\n",
              "    </tr>\n",
              "    <tr>\n",
              "      <th>fornecedot</th>\n",
              "      <td>0</td>\n",
              "    </tr>\n",
              "    <tr>\n",
              "      <th>data</th>\n",
              "      <td>27295</td>\n",
              "    </tr>\n",
              "    <tr>\n",
              "      <th>detalhe</th>\n",
              "      <td>0</td>\n",
              "    </tr>\n",
              "    <tr>\n",
              "      <th>valor reembolso</th>\n",
              "      <td>2</td>\n",
              "    </tr>\n",
              "  </tbody>\n",
              "</table>\n",
              "</div><br><label><b>dtype:</b> int64</label>"
            ]
          },
          "metadata": {},
          "execution_count": 451
        }
      ]
    },
    {
      "cell_type": "code",
      "source": [
        "df_novo_4= df_novo_4.drop(columns = ['data'])\n",
        "df_novo_4= df_novo_4.drop(columns = ['mes'])"
      ],
      "metadata": {
        "id": "X4fNGcEQgG06"
      },
      "execution_count": 452,
      "outputs": []
    },
    {
      "cell_type": "code",
      "source": [
        "df_novo_4.columns"
      ],
      "metadata": {
        "id": "sRn7Gr8IgaNf",
        "outputId": "0ae42dcb-9f91-4999-a758-3bf63cf34a26",
        "colab": {
          "base_uri": "https://localhost:8080/"
        }
      },
      "execution_count": 453,
      "outputs": [
        {
          "output_type": "execute_result",
          "data": {
            "text/plain": [
              "Index(['ano', 'senador', 'despesa', 'fornecedot', 'detalhe',\n",
              "       'valor reembolso'],\n",
              "      dtype='object')"
            ]
          },
          "metadata": {},
          "execution_count": 453
        }
      ]
    },
    {
      "cell_type": "code",
      "source": [
        "df_novo_4['ano']= df_novo_4['ano'].dropna()\n",
        "df_novo_4['valor reembolso']= df_novo_4['valor reembolso'].dropna()"
      ],
      "metadata": {
        "id": "I0KAH0HCipEH"
      },
      "execution_count": 454,
      "outputs": []
    },
    {
      "cell_type": "code",
      "source": [
        "df_novo_4.isnull().sum()"
      ],
      "metadata": {
        "id": "DqA0HYkWi8FP",
        "outputId": "516430ac-3d00-4d86-c274-f9dfb8592999",
        "colab": {
          "base_uri": "https://localhost:8080/",
          "height": 272
        }
      },
      "execution_count": 456,
      "outputs": [
        {
          "output_type": "execute_result",
          "data": {
            "text/plain": [
              "ano                2\n",
              "senador            0\n",
              "despesa            0\n",
              "fornecedot         0\n",
              "detalhe            0\n",
              "valor reembolso    2\n",
              "dtype: int64"
            ],
            "text/html": [
              "<div>\n",
              "<style scoped>\n",
              "    .dataframe tbody tr th:only-of-type {\n",
              "        vertical-align: middle;\n",
              "    }\n",
              "\n",
              "    .dataframe tbody tr th {\n",
              "        vertical-align: top;\n",
              "    }\n",
              "\n",
              "    .dataframe thead th {\n",
              "        text-align: right;\n",
              "    }\n",
              "</style>\n",
              "<table border=\"1\" class=\"dataframe\">\n",
              "  <thead>\n",
              "    <tr style=\"text-align: right;\">\n",
              "      <th></th>\n",
              "      <th>0</th>\n",
              "    </tr>\n",
              "  </thead>\n",
              "  <tbody>\n",
              "    <tr>\n",
              "      <th>ano</th>\n",
              "      <td>2</td>\n",
              "    </tr>\n",
              "    <tr>\n",
              "      <th>senador</th>\n",
              "      <td>0</td>\n",
              "    </tr>\n",
              "    <tr>\n",
              "      <th>despesa</th>\n",
              "      <td>0</td>\n",
              "    </tr>\n",
              "    <tr>\n",
              "      <th>fornecedot</th>\n",
              "      <td>0</td>\n",
              "    </tr>\n",
              "    <tr>\n",
              "      <th>detalhe</th>\n",
              "      <td>0</td>\n",
              "    </tr>\n",
              "    <tr>\n",
              "      <th>valor reembolso</th>\n",
              "      <td>2</td>\n",
              "    </tr>\n",
              "  </tbody>\n",
              "</table>\n",
              "</div><br><label><b>dtype:</b> int64</label>"
            ]
          },
          "metadata": {},
          "execution_count": 456
        }
      ]
    },
    {
      "cell_type": "code",
      "source": [
        "df_novo_5 = df_novo_4.dropna()\n",
        "df_novo_5"
      ],
      "metadata": {
        "id": "ekwVlURJmR0t",
        "outputId": "f060063b-0eb6-4561-dbb4-6a40b0301270",
        "colab": {
          "base_uri": "https://localhost:8080/",
          "height": 1000
        }
      },
      "execution_count": 457,
      "outputs": [
        {
          "output_type": "execute_result",
          "data": {
            "text/plain": [
              "          ano           senador  \\\n",
              "1      2022.0      ACIR GURGACZ   \n",
              "2      2022.0      ACIR GURGACZ   \n",
              "3      2022.0      ACIR GURGACZ   \n",
              "4      2022.0      ACIR GURGACZ   \n",
              "5      2022.0      ACIR GURGACZ   \n",
              "...       ...               ...   \n",
              "47719  2020.0  ZEQUINHA MARINHO   \n",
              "47720  2020.0  ZEQUINHA MARINHO   \n",
              "47721  2020.0  ZEQUINHA MARINHO   \n",
              "47722  2020.0  ZEQUINHA MARINHO   \n",
              "47723  2020.0  ZEQUINHA MARINHO   \n",
              "\n",
              "                                                 despesa  \\\n",
              "1                    Divulgação da atividade parlamentar   \n",
              "2                    Divulgação da atividade parlamentar   \n",
              "3                    Divulgação da atividade parlamentar   \n",
              "4                    Divulgação da atividade parlamentar   \n",
              "5      Passagens aéreas, aquáticas e terrestres nacio...   \n",
              "...                                                  ...   \n",
              "47719  Passagens aéreas, aquáticas e terrestres nacio...   \n",
              "47720  Passagens aéreas, aquáticas e terrestres nacio...   \n",
              "47721  Passagens aéreas, aquáticas e terrestres nacio...   \n",
              "47722  Passagens aéreas, aquáticas e terrestres nacio...   \n",
              "47723  Passagens aéreas, aquáticas e terrestres nacio...   \n",
              "\n",
              "                                              fornecedot  \\\n",
              "1                                          INFORMANAHORA   \n",
              "2                        LINHA PURPURA FOTO E VIDEO LTDA   \n",
              "3                      ROBERTO GUTIERREZ DA ROCHA M.E.I.   \n",
              "4      RONDONIA DINÂMICA COM. E SERV. DE INFORMÁTICA ...   \n",
              "5                    AMERICA VIAGENS E TURISMO LTDA - ME   \n",
              "...                                                  ...   \n",
              "47719                                      Exceller Tour   \n",
              "47720                                      Exceller Tour   \n",
              "47721                                      Exceller Tour   \n",
              "47722                                      Exceller Tour   \n",
              "47723                                      Exceller Tour   \n",
              "\n",
              "                                                 detalhe  valor reembolso  \n",
              "1      Despesa com divulgação da atividade parlamenta...          6000.00  \n",
              "2      Despesa com produção de texto e edição de víde...          1500.00  \n",
              "3                    Divulgação da atividade parlamentar          6000.00  \n",
              "4                    Divulgação da atividade parlamentar          1000.00  \n",
              "5      Companhia Aérea: LATAM, Localizador: ZTRPJB. P...          2000.00  \n",
              "...                                                  ...              ...  \n",
              "47719  Companhia Aérea: GOL, Localizador: TJ9NGF. Pas...            44.76  \n",
              "47720  Companhia Aérea: AZUL, Localizador: QN9KHE. Pa...          1654.46  \n",
              "47721  Companhia Aérea: AZUL, Localizador: QIGVKT. Pa...          1121.83  \n",
              "47722  Companhia Aérea: AZUL, Localizador: QDHKYF. Pa...           549.47  \n",
              "47723  Companhia Aérea: GOL, Localizador: BQWCVK. Pas...           831.05  \n",
              "\n",
              "[47719 rows x 6 columns]"
            ],
            "text/html": [
              "\n",
              "  <div id=\"df-35d511c1-0898-473e-8b7e-82b68be4c080\" class=\"colab-df-container\">\n",
              "    <div>\n",
              "<style scoped>\n",
              "    .dataframe tbody tr th:only-of-type {\n",
              "        vertical-align: middle;\n",
              "    }\n",
              "\n",
              "    .dataframe tbody tr th {\n",
              "        vertical-align: top;\n",
              "    }\n",
              "\n",
              "    .dataframe thead th {\n",
              "        text-align: right;\n",
              "    }\n",
              "</style>\n",
              "<table border=\"1\" class=\"dataframe\">\n",
              "  <thead>\n",
              "    <tr style=\"text-align: right;\">\n",
              "      <th></th>\n",
              "      <th>ano</th>\n",
              "      <th>senador</th>\n",
              "      <th>despesa</th>\n",
              "      <th>fornecedot</th>\n",
              "      <th>detalhe</th>\n",
              "      <th>valor reembolso</th>\n",
              "    </tr>\n",
              "  </thead>\n",
              "  <tbody>\n",
              "    <tr>\n",
              "      <th>1</th>\n",
              "      <td>2022.0</td>\n",
              "      <td>ACIR GURGACZ</td>\n",
              "      <td>Divulgação da atividade parlamentar</td>\n",
              "      <td>INFORMANAHORA</td>\n",
              "      <td>Despesa com divulgação da atividade parlamenta...</td>\n",
              "      <td>6000.00</td>\n",
              "    </tr>\n",
              "    <tr>\n",
              "      <th>2</th>\n",
              "      <td>2022.0</td>\n",
              "      <td>ACIR GURGACZ</td>\n",
              "      <td>Divulgação da atividade parlamentar</td>\n",
              "      <td>LINHA PURPURA FOTO E VIDEO LTDA</td>\n",
              "      <td>Despesa com produção de texto e edição de víde...</td>\n",
              "      <td>1500.00</td>\n",
              "    </tr>\n",
              "    <tr>\n",
              "      <th>3</th>\n",
              "      <td>2022.0</td>\n",
              "      <td>ACIR GURGACZ</td>\n",
              "      <td>Divulgação da atividade parlamentar</td>\n",
              "      <td>ROBERTO GUTIERREZ DA ROCHA M.E.I.</td>\n",
              "      <td>Divulgação da atividade parlamentar</td>\n",
              "      <td>6000.00</td>\n",
              "    </tr>\n",
              "    <tr>\n",
              "      <th>4</th>\n",
              "      <td>2022.0</td>\n",
              "      <td>ACIR GURGACZ</td>\n",
              "      <td>Divulgação da atividade parlamentar</td>\n",
              "      <td>RONDONIA DINÂMICA COM. E SERV. DE INFORMÁTICA ...</td>\n",
              "      <td>Divulgação da atividade parlamentar</td>\n",
              "      <td>1000.00</td>\n",
              "    </tr>\n",
              "    <tr>\n",
              "      <th>5</th>\n",
              "      <td>2022.0</td>\n",
              "      <td>ACIR GURGACZ</td>\n",
              "      <td>Passagens aéreas, aquáticas e terrestres nacio...</td>\n",
              "      <td>AMERICA VIAGENS E TURISMO LTDA - ME</td>\n",
              "      <td>Companhia Aérea: LATAM, Localizador: ZTRPJB. P...</td>\n",
              "      <td>2000.00</td>\n",
              "    </tr>\n",
              "    <tr>\n",
              "      <th>...</th>\n",
              "      <td>...</td>\n",
              "      <td>...</td>\n",
              "      <td>...</td>\n",
              "      <td>...</td>\n",
              "      <td>...</td>\n",
              "      <td>...</td>\n",
              "    </tr>\n",
              "    <tr>\n",
              "      <th>47719</th>\n",
              "      <td>2020.0</td>\n",
              "      <td>ZEQUINHA MARINHO</td>\n",
              "      <td>Passagens aéreas, aquáticas e terrestres nacio...</td>\n",
              "      <td>Exceller Tour</td>\n",
              "      <td>Companhia Aérea: GOL, Localizador: TJ9NGF. Pas...</td>\n",
              "      <td>44.76</td>\n",
              "    </tr>\n",
              "    <tr>\n",
              "      <th>47720</th>\n",
              "      <td>2020.0</td>\n",
              "      <td>ZEQUINHA MARINHO</td>\n",
              "      <td>Passagens aéreas, aquáticas e terrestres nacio...</td>\n",
              "      <td>Exceller Tour</td>\n",
              "      <td>Companhia Aérea: AZUL, Localizador: QN9KHE. Pa...</td>\n",
              "      <td>1654.46</td>\n",
              "    </tr>\n",
              "    <tr>\n",
              "      <th>47721</th>\n",
              "      <td>2020.0</td>\n",
              "      <td>ZEQUINHA MARINHO</td>\n",
              "      <td>Passagens aéreas, aquáticas e terrestres nacio...</td>\n",
              "      <td>Exceller Tour</td>\n",
              "      <td>Companhia Aérea: AZUL, Localizador: QIGVKT. Pa...</td>\n",
              "      <td>1121.83</td>\n",
              "    </tr>\n",
              "    <tr>\n",
              "      <th>47722</th>\n",
              "      <td>2020.0</td>\n",
              "      <td>ZEQUINHA MARINHO</td>\n",
              "      <td>Passagens aéreas, aquáticas e terrestres nacio...</td>\n",
              "      <td>Exceller Tour</td>\n",
              "      <td>Companhia Aérea: AZUL, Localizador: QDHKYF. Pa...</td>\n",
              "      <td>549.47</td>\n",
              "    </tr>\n",
              "    <tr>\n",
              "      <th>47723</th>\n",
              "      <td>2020.0</td>\n",
              "      <td>ZEQUINHA MARINHO</td>\n",
              "      <td>Passagens aéreas, aquáticas e terrestres nacio...</td>\n",
              "      <td>Exceller Tour</td>\n",
              "      <td>Companhia Aérea: GOL, Localizador: BQWCVK. Pas...</td>\n",
              "      <td>831.05</td>\n",
              "    </tr>\n",
              "  </tbody>\n",
              "</table>\n",
              "<p>47719 rows × 6 columns</p>\n",
              "</div>\n",
              "    <div class=\"colab-df-buttons\">\n",
              "\n",
              "  <div class=\"colab-df-container\">\n",
              "    <button class=\"colab-df-convert\" onclick=\"convertToInteractive('df-35d511c1-0898-473e-8b7e-82b68be4c080')\"\n",
              "            title=\"Convert this dataframe to an interactive table.\"\n",
              "            style=\"display:none;\">\n",
              "\n",
              "  <svg xmlns=\"http://www.w3.org/2000/svg\" height=\"24px\" viewBox=\"0 -960 960 960\">\n",
              "    <path d=\"M120-120v-720h720v720H120Zm60-500h600v-160H180v160Zm220 220h160v-160H400v160Zm0 220h160v-160H400v160ZM180-400h160v-160H180v160Zm440 0h160v-160H620v160ZM180-180h160v-160H180v160Zm440 0h160v-160H620v160Z\"/>\n",
              "  </svg>\n",
              "    </button>\n",
              "\n",
              "  <style>\n",
              "    .colab-df-container {\n",
              "      display:flex;\n",
              "      gap: 12px;\n",
              "    }\n",
              "\n",
              "    .colab-df-convert {\n",
              "      background-color: #E8F0FE;\n",
              "      border: none;\n",
              "      border-radius: 50%;\n",
              "      cursor: pointer;\n",
              "      display: none;\n",
              "      fill: #1967D2;\n",
              "      height: 32px;\n",
              "      padding: 0 0 0 0;\n",
              "      width: 32px;\n",
              "    }\n",
              "\n",
              "    .colab-df-convert:hover {\n",
              "      background-color: #E2EBFA;\n",
              "      box-shadow: 0px 1px 2px rgba(60, 64, 67, 0.3), 0px 1px 3px 1px rgba(60, 64, 67, 0.15);\n",
              "      fill: #174EA6;\n",
              "    }\n",
              "\n",
              "    .colab-df-buttons div {\n",
              "      margin-bottom: 4px;\n",
              "    }\n",
              "\n",
              "    [theme=dark] .colab-df-convert {\n",
              "      background-color: #3B4455;\n",
              "      fill: #D2E3FC;\n",
              "    }\n",
              "\n",
              "    [theme=dark] .colab-df-convert:hover {\n",
              "      background-color: #434B5C;\n",
              "      box-shadow: 0px 1px 3px 1px rgba(0, 0, 0, 0.15);\n",
              "      filter: drop-shadow(0px 1px 2px rgba(0, 0, 0, 0.3));\n",
              "      fill: #FFFFFF;\n",
              "    }\n",
              "  </style>\n",
              "\n",
              "    <script>\n",
              "      const buttonEl =\n",
              "        document.querySelector('#df-35d511c1-0898-473e-8b7e-82b68be4c080 button.colab-df-convert');\n",
              "      buttonEl.style.display =\n",
              "        google.colab.kernel.accessAllowed ? 'block' : 'none';\n",
              "\n",
              "      async function convertToInteractive(key) {\n",
              "        const element = document.querySelector('#df-35d511c1-0898-473e-8b7e-82b68be4c080');\n",
              "        const dataTable =\n",
              "          await google.colab.kernel.invokeFunction('convertToInteractive',\n",
              "                                                    [key], {});\n",
              "        if (!dataTable) return;\n",
              "\n",
              "        const docLinkHtml = 'Like what you see? Visit the ' +\n",
              "          '<a target=\"_blank\" href=https://colab.research.google.com/notebooks/data_table.ipynb>data table notebook</a>'\n",
              "          + ' to learn more about interactive tables.';\n",
              "        element.innerHTML = '';\n",
              "        dataTable['output_type'] = 'display_data';\n",
              "        await google.colab.output.renderOutput(dataTable, element);\n",
              "        const docLink = document.createElement('div');\n",
              "        docLink.innerHTML = docLinkHtml;\n",
              "        element.appendChild(docLink);\n",
              "      }\n",
              "    </script>\n",
              "  </div>\n",
              "\n",
              "\n",
              "<div id=\"df-f4649293-8881-4bd6-bd64-1a44e9c063d9\">\n",
              "  <button class=\"colab-df-quickchart\" onclick=\"quickchart('df-f4649293-8881-4bd6-bd64-1a44e9c063d9')\"\n",
              "            title=\"Suggest charts\"\n",
              "            style=\"display:none;\">\n",
              "\n",
              "<svg xmlns=\"http://www.w3.org/2000/svg\" height=\"24px\"viewBox=\"0 0 24 24\"\n",
              "     width=\"24px\">\n",
              "    <g>\n",
              "        <path d=\"M19 3H5c-1.1 0-2 .9-2 2v14c0 1.1.9 2 2 2h14c1.1 0 2-.9 2-2V5c0-1.1-.9-2-2-2zM9 17H7v-7h2v7zm4 0h-2V7h2v10zm4 0h-2v-4h2v4z\"/>\n",
              "    </g>\n",
              "</svg>\n",
              "  </button>\n",
              "\n",
              "<style>\n",
              "  .colab-df-quickchart {\n",
              "      --bg-color: #E8F0FE;\n",
              "      --fill-color: #1967D2;\n",
              "      --hover-bg-color: #E2EBFA;\n",
              "      --hover-fill-color: #174EA6;\n",
              "      --disabled-fill-color: #AAA;\n",
              "      --disabled-bg-color: #DDD;\n",
              "  }\n",
              "\n",
              "  [theme=dark] .colab-df-quickchart {\n",
              "      --bg-color: #3B4455;\n",
              "      --fill-color: #D2E3FC;\n",
              "      --hover-bg-color: #434B5C;\n",
              "      --hover-fill-color: #FFFFFF;\n",
              "      --disabled-bg-color: #3B4455;\n",
              "      --disabled-fill-color: #666;\n",
              "  }\n",
              "\n",
              "  .colab-df-quickchart {\n",
              "    background-color: var(--bg-color);\n",
              "    border: none;\n",
              "    border-radius: 50%;\n",
              "    cursor: pointer;\n",
              "    display: none;\n",
              "    fill: var(--fill-color);\n",
              "    height: 32px;\n",
              "    padding: 0;\n",
              "    width: 32px;\n",
              "  }\n",
              "\n",
              "  .colab-df-quickchart:hover {\n",
              "    background-color: var(--hover-bg-color);\n",
              "    box-shadow: 0 1px 2px rgba(60, 64, 67, 0.3), 0 1px 3px 1px rgba(60, 64, 67, 0.15);\n",
              "    fill: var(--button-hover-fill-color);\n",
              "  }\n",
              "\n",
              "  .colab-df-quickchart-complete:disabled,\n",
              "  .colab-df-quickchart-complete:disabled:hover {\n",
              "    background-color: var(--disabled-bg-color);\n",
              "    fill: var(--disabled-fill-color);\n",
              "    box-shadow: none;\n",
              "  }\n",
              "\n",
              "  .colab-df-spinner {\n",
              "    border: 2px solid var(--fill-color);\n",
              "    border-color: transparent;\n",
              "    border-bottom-color: var(--fill-color);\n",
              "    animation:\n",
              "      spin 1s steps(1) infinite;\n",
              "  }\n",
              "\n",
              "  @keyframes spin {\n",
              "    0% {\n",
              "      border-color: transparent;\n",
              "      border-bottom-color: var(--fill-color);\n",
              "      border-left-color: var(--fill-color);\n",
              "    }\n",
              "    20% {\n",
              "      border-color: transparent;\n",
              "      border-left-color: var(--fill-color);\n",
              "      border-top-color: var(--fill-color);\n",
              "    }\n",
              "    30% {\n",
              "      border-color: transparent;\n",
              "      border-left-color: var(--fill-color);\n",
              "      border-top-color: var(--fill-color);\n",
              "      border-right-color: var(--fill-color);\n",
              "    }\n",
              "    40% {\n",
              "      border-color: transparent;\n",
              "      border-right-color: var(--fill-color);\n",
              "      border-top-color: var(--fill-color);\n",
              "    }\n",
              "    60% {\n",
              "      border-color: transparent;\n",
              "      border-right-color: var(--fill-color);\n",
              "    }\n",
              "    80% {\n",
              "      border-color: transparent;\n",
              "      border-right-color: var(--fill-color);\n",
              "      border-bottom-color: var(--fill-color);\n",
              "    }\n",
              "    90% {\n",
              "      border-color: transparent;\n",
              "      border-bottom-color: var(--fill-color);\n",
              "    }\n",
              "  }\n",
              "</style>\n",
              "\n",
              "  <script>\n",
              "    async function quickchart(key) {\n",
              "      const quickchartButtonEl =\n",
              "        document.querySelector('#' + key + ' button');\n",
              "      quickchartButtonEl.disabled = true;  // To prevent multiple clicks.\n",
              "      quickchartButtonEl.classList.add('colab-df-spinner');\n",
              "      try {\n",
              "        const charts = await google.colab.kernel.invokeFunction(\n",
              "            'suggestCharts', [key], {});\n",
              "      } catch (error) {\n",
              "        console.error('Error during call to suggestCharts:', error);\n",
              "      }\n",
              "      quickchartButtonEl.classList.remove('colab-df-spinner');\n",
              "      quickchartButtonEl.classList.add('colab-df-quickchart-complete');\n",
              "    }\n",
              "    (() => {\n",
              "      let quickchartButtonEl =\n",
              "        document.querySelector('#df-f4649293-8881-4bd6-bd64-1a44e9c063d9 button');\n",
              "      quickchartButtonEl.style.display =\n",
              "        google.colab.kernel.accessAllowed ? 'block' : 'none';\n",
              "    })();\n",
              "  </script>\n",
              "</div>\n",
              "\n",
              "  <div id=\"id_0829413d-aa0e-4917-b0fb-e1d87f3eb474\">\n",
              "    <style>\n",
              "      .colab-df-generate {\n",
              "        background-color: #E8F0FE;\n",
              "        border: none;\n",
              "        border-radius: 50%;\n",
              "        cursor: pointer;\n",
              "        display: none;\n",
              "        fill: #1967D2;\n",
              "        height: 32px;\n",
              "        padding: 0 0 0 0;\n",
              "        width: 32px;\n",
              "      }\n",
              "\n",
              "      .colab-df-generate:hover {\n",
              "        background-color: #E2EBFA;\n",
              "        box-shadow: 0px 1px 2px rgba(60, 64, 67, 0.3), 0px 1px 3px 1px rgba(60, 64, 67, 0.15);\n",
              "        fill: #174EA6;\n",
              "      }\n",
              "\n",
              "      [theme=dark] .colab-df-generate {\n",
              "        background-color: #3B4455;\n",
              "        fill: #D2E3FC;\n",
              "      }\n",
              "\n",
              "      [theme=dark] .colab-df-generate:hover {\n",
              "        background-color: #434B5C;\n",
              "        box-shadow: 0px 1px 3px 1px rgba(0, 0, 0, 0.15);\n",
              "        filter: drop-shadow(0px 1px 2px rgba(0, 0, 0, 0.3));\n",
              "        fill: #FFFFFF;\n",
              "      }\n",
              "    </style>\n",
              "    <button class=\"colab-df-generate\" onclick=\"generateWithVariable('df_novo_5')\"\n",
              "            title=\"Generate code using this dataframe.\"\n",
              "            style=\"display:none;\">\n",
              "\n",
              "  <svg xmlns=\"http://www.w3.org/2000/svg\" height=\"24px\"viewBox=\"0 0 24 24\"\n",
              "       width=\"24px\">\n",
              "    <path d=\"M7,19H8.4L18.45,9,17,7.55,7,17.6ZM5,21V16.75L18.45,3.32a2,2,0,0,1,2.83,0l1.4,1.43a1.91,1.91,0,0,1,.58,1.4,1.91,1.91,0,0,1-.58,1.4L9.25,21ZM18.45,9,17,7.55Zm-12,3A5.31,5.31,0,0,0,4.9,8.1,5.31,5.31,0,0,0,1,6.5,5.31,5.31,0,0,0,4.9,4.9,5.31,5.31,0,0,0,6.5,1,5.31,5.31,0,0,0,8.1,4.9,5.31,5.31,0,0,0,12,6.5,5.46,5.46,0,0,0,6.5,12Z\"/>\n",
              "  </svg>\n",
              "    </button>\n",
              "    <script>\n",
              "      (() => {\n",
              "      const buttonEl =\n",
              "        document.querySelector('#id_0829413d-aa0e-4917-b0fb-e1d87f3eb474 button.colab-df-generate');\n",
              "      buttonEl.style.display =\n",
              "        google.colab.kernel.accessAllowed ? 'block' : 'none';\n",
              "\n",
              "      buttonEl.onclick = () => {\n",
              "        google.colab.notebook.generateWithVariable('df_novo_5');\n",
              "      }\n",
              "      })();\n",
              "    </script>\n",
              "  </div>\n",
              "\n",
              "    </div>\n",
              "  </div>\n"
            ],
            "application/vnd.google.colaboratory.intrinsic+json": {
              "type": "dataframe",
              "variable_name": "df_novo_5",
              "summary": "{\n  \"name\": \"df_novo_5\",\n  \"rows\": 47719,\n  \"fields\": [\n    {\n      \"column\": \"ano\",\n      \"properties\": {\n        \"dtype\": \"number\",\n        \"std\": 0.8026023376486101,\n        \"min\": 2020.0,\n        \"max\": 2022.0,\n        \"num_unique_values\": 3,\n        \"samples\": [\n          2022.0,\n          2021.0,\n          2020.0\n        ],\n        \"semantic_type\": \"\",\n        \"description\": \"\"\n      }\n    },\n    {\n      \"column\": \"senador\",\n      \"properties\": {\n        \"dtype\": \"category\",\n        \"num_unique_values\": 108,\n        \"samples\": [\n          \"ROBERTH BRINGEL\",\n          \"CHIQUINHO FEITOSA\",\n          \"ANGELO CORONEL\"\n        ],\n        \"semantic_type\": \"\",\n        \"description\": \"\"\n      }\n    },\n    {\n      \"column\": \"despesa\",\n      \"properties\": {\n        \"dtype\": \"category\",\n        \"num_unique_values\": 7,\n        \"samples\": [\n          \"Divulga\\u00e7\\u00e3o da atividade parlamentar\",\n          \"Passagens a\\u00e9reas, aqu\\u00e1ticas e terrestres nacionais\",\n          \"Aquisi\\u00e7\\u00e3o de material de consumo para uso no escrit\\u00f3rio pol\\u00edtico, inclusive aquisi\\u00e7\\u00e3o ou loca\\u00e7\\u00e3o de software, despesas postais, aquisi\\u00e7\\u00e3o de publica\\u00e7\\u00f5es, loca\\u00e7\\u00e3o de m\\u00f3veis e de equipamentos. \"\n        ],\n        \"semantic_type\": \"\",\n        \"description\": \"\"\n      }\n    },\n    {\n      \"column\": \"fornecedot\",\n      \"properties\": {\n        \"dtype\": \"category\",\n        \"num_unique_values\": 6272,\n        \"samples\": [\n          \"Goes Combust\\u00edveis Lubrificantes e GLP LTDA - Posto Monumental\",\n          \"Posto Bertamoni Ltda\",\n          \"HOTEL DIPLOMAT\"\n        ],\n        \"semantic_type\": \"\",\n        \"description\": \"\"\n      }\n    },\n    {\n      \"column\": \"detalhe\",\n      \"properties\": {\n        \"dtype\": \"category\",\n        \"num_unique_values\": 14399,\n        \"samples\": [\n          \"Companhia A\\u00e9rea: GOL, Localizador: WNGARR. Passageiros: WALTER MOURA CAMARA DOS REIS JUNIOR (Matr\\u00edcula 354240, COMISSIONADO), Voo: 1768 - BSB / MCP - 20/07/2022;\",\n          \"Despesa com energia el\\u00e9trica - escrit\\u00f3rio parlamentar no estado - sala 911 - 10-21\",\n          \"Companhia A\\u00e9rea: AZUL, Localizador: MYUWPB. Passageiros: MARCOS ROG\\u00c9RIO DA SILVA BRITO (Matr\\u00edcula 341153, PARLAMENTAR), Voo: 2940 - CUIAB\\u00c1 - BRAS\\u00cdLIA - 10/07/2022; MARCOS ROG\\u00c9RIO DA SILVA BRITO (Matr\\u00edcula 341153, PARLAMENTAR), Voo: 4345 - PORTO VELHO - CUIAB\\u00c1 - 10/07/2022;\"\n        ],\n        \"semantic_type\": \"\",\n        \"description\": \"\"\n      }\n    },\n    {\n      \"column\": \"valor reembolso\",\n      \"properties\": {\n        \"dtype\": \"number\",\n        \"std\": 3253.0939747942775,\n        \"min\": 0.01,\n        \"max\": 120000.0,\n        \"num_unique_values\": 22755,\n        \"samples\": [\n          1534.47,\n          212.05,\n          115.7\n        ],\n        \"semantic_type\": \"\",\n        \"description\": \"\"\n      }\n    }\n  ]\n}"
            }
          },
          "metadata": {},
          "execution_count": 457
        }
      ]
    }
  ]
}